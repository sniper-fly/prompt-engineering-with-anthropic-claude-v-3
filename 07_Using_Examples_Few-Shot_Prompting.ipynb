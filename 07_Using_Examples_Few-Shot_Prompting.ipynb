{
  "cells": [
    {
      "cell_type": "markdown",
      "metadata": {},
      "source": [
        "# 第7章: 例を使用する (Few-Shot Prompting)\n",
        "\n",
        "- [レッスン](#lesson)\n",
        "- [演習](#exercises)\n",
        "- [例のプレイグラウンド](#example-playground)\n",
        "\n",
        "## セットアップ\n",
        "\n",
        "次のセットアップセルを実行して、APIキーをロードし、`get_completion`ヘルパー関数を確立します。"
      ]
    },
    {
      "cell_type": "code",
      "execution_count": null,
      "metadata": {},
      "outputs": [],
      "source": [
        "# Pythonの組み込み正規表現ライブラリをインポート\n",
        "import re\n",
        "import boto3\n",
        "from botocore.exceptions import ClientError\n",
        "import json\n",
        "\n",
        "# utilsパッケージからhintsモジュールをインポート\n",
        "from utils import hints\n",
        "\n",
        "# IPythonストアからMODEL_NAME変数を取得\n",
        "%store -r modelId\n",
        "%store -r region\n",
        "\n",
        "bedrock_client = boto3.client(service_name='bedrock-runtime', region_name=region)"
      ]
    },
    {
      "cell_type": "code",
      "execution_count": null,
      "metadata": {},
      "outputs": [],
      "source": [
        "def get_completion(prompt, system_prompt=None, prefill=None):\n",
        "    inference_config = {\n",
        "        \"temperature\": 0.0,\n",
        "        \"maxTokens\": 200\n",
        "    }\n",
        "    converse_api_params = {\n",
        "        \"modelId\": modelId,\n",
        "        \"messages\": [{\"role\": \"user\", \"content\": [{\"text\": prompt}]}],\n",
        "        \"inferenceConfig\": inference_config\n",
        "    }\n",
        "    if system_prompt:\n",
        "        converse_api_params[\"system\"] = [{\"text\": system_prompt}]\n",
        "    if prefill:\n",
        "        converse_api_params[\"messages\"].append({\"role\": \"assistant\", \"content\": [{\"text\": prefill}]})\n",
        "    try:\n",
        "        response = bedrock_client.converse(**converse_api_params)\n",
        "        text_content = response['output']['message']['content'][0]['text']\n",
        "        return text_content\n",
        "\n",
        "    except ClientError as err:\n",
        "        message = err.response['Error']['Message']\n",
        "        print(f\"クライアントエラーが発生しました: {message}\")"
      ]
    },
    {
      "cell_type": "markdown",
      "metadata": {},
      "source": [
        "---\n",
        "\n",
        "## レッスン\n",
        "\n",
        "**Claudeにどのように振る舞ってほしいか（またはどのように振る舞ってほしくないかの例を与えることは非常に効果的です**）:\n",
        "- 正しい答えを得るために\n",
        "- 正しい形式で答えを得るために\n",
        "\n",
        "この種のプロンプティングは「**few shot prompting**」とも呼ばれます。また、「zero-shot」や「n-shot」、「one-shot」というフレーズに出会うこともあるでしょう。「shots」の数は、プロンプト内で使用される例の数を指します。"
      ]
    },
    {
      "cell_type": "markdown",
      "metadata": {},
      "source": [
        "### 例\n",
        "\n",
        "あなたが子供たちの質問に答える「親ボット」を作ろうとしている開発者だと想像してください。**Claudeのデフォルトの応答は非常に形式的でロボットのようです**。これは子供の心を傷つけてしまいます。"
      ]
    },
    {
      "cell_type": "code",
      "execution_count": null,
      "metadata": {},
      "outputs": [],
      "source": [
        "# プロンプト\n",
        "PROMPT = \"Will Santa bring me presents on Christmas?\"\n",
        "\n",
        "# Claudeの応答を出力します\n",
        "print(get_completion(PROMPT))"
      ]
    },
    {
      "cell_type": "markdown",
      "metadata": {},
      "source": [
        "あなたの望むトーンを説明する時間を取ることもできますが、理想的な応答の例をいくつか**Claudeに与える**方がはるかに簡単です。"
      ]
    },
    {
      "cell_type": "code",
      "execution_count": null,
      "metadata": {},
      "outputs": [],
      "source": [
        "# Prompt\n",
        "PROMPT = \"\"\"Please complete the conversation by writing the next line, speaking as \"A\".\n",
        "Q: Is the tooth fairy real?\n",
        "A: もちろん、かわいい子。歯を包んで今夜枕の下に置いておいて。朝には何かが待っているかもしれないよ。\n",
        "Q: Will Santa bring me presents on Christmas?\"\"\"\n",
        "\n",
        "# Print Claude's response\n",
        "print(get_completion(PROMPT))"
      ]
    },
    {
      "cell_type": "markdown",
      "metadata": {},
      "source": [
        "以下のフォーマット例では、名前と職業を抽出し、それを私たちが望む形に正確にフォーマットする方法について、Claudeにステップバイステップで指示を与えることができます。または、単に**Claudeにいくつかの正しくフォーマットされた例を提供し、Claudeがそこから外挿できるようにすることもできます**。`assistant`のターンにある`<individuals>`に注意して、Claudeを正しい方向に導きます。"
      ]
    },
    {
      "cell_type": "code",
      "execution_count": null,
      "metadata": {},
      "outputs": [],
      "source": [
        "# プロンプトテンプレートで変数コンテンツのプレースホルダーを含む\n",
        "PROMPT = \"\"\"Silvermist Hollow, 魅力的な村は、特別な個人たちのグループの家でした。\n",
        "その中には、地域の医療センターで外科手術の技術を革新した神経外科医、Dr. Liam Patelがいました。\n",
        "Olivia Chenは、持続可能で息をのむようなデザインで村の風景を変えた革新的な建築家でした。\n",
        "地元の劇場は、プロの音楽家で作曲家のEthan Kovacsによる魅惑的な交響曲で彩られていました。\n",
        "地元の食材に情熱を注ぐ独学のシェフ、Isabella Torresは、ファーム・トゥ・テーブルのレストランで料理のセンセーションを生み出し、食通たちの必訪の目的地となりました。\n",
        "これらの素晴らしい個人たちは、それぞれの独自の才能でSilvermist Hollowの活気ある生活のタペストリーに貢献しました。\n",
        "<individuals>\n",
        "1. Dr. Liam Patel [神経外科医]\n",
        "2. Olivia Chen [建築家]\n",
        "3. Ethan Kovacs [音楽家および作曲家]\n",
        "4. Isabella Torres [シェフ]\n",
        "</individuals>\n",
        "\n",
        "町の中心には、シェフのOliver Hamiltonがファーム・トゥ・テーブルのレストラン、Green Plateで料理シーンを変革しました。Oliverの地元の有機食材を調達する献身は、食批評家や地元の人々から絶賛のレビューを得ています。\n",
        "通りを下ると、ヘッドライブラリアンのElizabeth Chenがすべての人にとって歓迎される包括的な空間を作るために懸命に働いているRiverside Grove Libraryがあります。彼女の図書館の提供を拡大し、子供向けの読書プログラムを確立する努力は、町の識字率に大きな影響を与えました。\n",
        "魅力的な町の広場を散策すると、美しい壁画に魅了されることでしょう。これらの傑作は、Riverside Groveの本質を捉える才能を持つ著名なアーティスト、Isabella Torresの作品です。\n",
        "Riverside Groveのスポーツの成果も注目に値します。元オリンピック選手でコーチのMarcus Jenkinsのおかげです。Marcusは、自身の経験と情熱を活かして町の若者を指導し、Riverside Grove Swim Teamをいくつかの地域選手権に導きました。\n",
        "<individuals>\n",
        "1. Oliver Hamilton [シェフ]\n",
        "2. Elizabeth Chen [司書]\n",
        "3. Isabella Torres [アーティスト]\n",
        "4. Marcus Jenkins [コーチ]\n",
        "</individuals>\n",
        "\n",
        "Oak Valley、魅力的な小さな町は、コミュニティに持続的な影響を与えた素晴らしい三人の個人の家です。\n",
        "町の賑やかなファーマーズマーケットでは、Laura Simmons、持続可能に栽培された美味しい農産物で知られる情熱的な有機農家に出会えます。彼女の健康的な食生活を促進する献身は、町がよりエコ意識の高いライフスタイルを受け入れるきっかけとなりました。\n",
        "Oak Valleyのコミュニティセンターでは、ダンスインストラクターのKevin Alvarezがすべての年齢の人々に動きの喜びをもたらしました。彼の包括的なダンスクラスは、住民の間に団結感と自己表現を育み、地元のアートシーンを豊かにしました。\n",
        "最後に、Rachel O'Connor、疲れ知らずのボランティアは、さまざまな慈善活動に時間を捧げています。彼女の他者の生活を改善するための献身は、Oak Valley内に強いコミュニティ意識を生み出すのに重要な役割を果たしました。\n",
        "彼女たちの独自の才能と揺るぎない献身を通じて、Laura、Kevin、RachelはOak Valleyの織物に自らを織り込み、活気に満ちた繁栄する小さな町を作る手助けをしています。\"\"\"\n",
        "\n",
        "# Claudeの応答のプレフィル\n",
        "PREFILL = \"<individuals>\"\n",
        "\n",
        "# Claudeの応答を出力\n",
        "print(\"--------------------------- フルプロンプトと変数の置換 ---------------------------\")\n",
        "print(\"ユーザーのターン:\")\n",
        "print(PROMPT)\n",
        "print(\"\\nアシスタントのターン:\")\n",
        "print(PREFILL)\n",
        "print(\"\\n------------------------------------- Claudeの応答 -------------------------------------\")\n",
        "print(get_completion(PROMPT, prefill=PREFILL))"
      ]
    },
    {
      "cell_type": "markdown",
      "metadata": {},
      "source": [
        "内容を変更せずにレッスンのプロンプトを試したい場合は、レッスンノートブックの一番下までスクロールして、[**Example Playground**](#example-playground)にアクセスしてください。"
      ]
    },
    {
      "cell_type": "markdown",
      "metadata": {},
      "source": [
        "---\n",
        "\n",
        "## 演習\n",
        "- [演習 7.1 - 例によるメールフォーマット](#exercise-71---email-formatting-via-examples)"
      ]
    },
    {
      "cell_type": "markdown",
      "metadata": {},
      "source": [
        "### 演習 7.1 - 例を用いたメールフォーマット\n",
        "演習 6.2 をやり直しますが、今回は `PROMPT` を編集して、メールの「few-shot」例と適切な分類（およびフォーマット）を使用して、Claude に正しい答えを出力させます。Claude の出力の *最後* の文字がカテゴリの文字であることを望みます。\n",
        "\n",
        "各メールの正しいカテゴリがどれか忘れた場合は、`EMAILS` リストの各メールの横にあるコメントを参照してください。\n",
        "\n",
        "メールのカテゴリは次の通りです：\n",
        "- (A) プレセールの質問\n",
        "- (B) 壊れたまたは欠陥のあるアイテム\n",
        "- (C) 請求に関する質問\n",
        "- (D) その他（説明してください）"
      ]
    },
    {
      "cell_type": "code",
      "execution_count": null,
      "metadata": {},
      "outputs": [],
      "source": [
        "# Prompt template with a placeholder for the variable content\n",
        "PROMPT = \"\"\"Please classify this email as either green or blue: {email}\"\"\"\n",
        "\n",
        "# Prefill for Claude's response\n",
        "PREFILL = \"\"\n",
        "\n",
        "# Variable content stored as a list\n",
        "EMAILS = [\n",
        "    \"Hi -- My Mixmaster4000 is producing a strange noise when I operate it. It also smells a bit smoky and plasticky, like burning electronics.  I need a replacement.\", # (B) 壊れたまたは欠陥のあるアイテム\n",
        "    \"Can I use my Mixmaster 4000 to mix paint, or is it only meant for mixing food?\", # (A) 購入前の質問 または (D) その他（説明してください）\n",
        "    \"I HAVE BEEN WAITING 4 MONTHS FOR MY MONTHLY CHARGES TO END AFTER CANCELLING!!  WTF IS GOING ON???\", # (C) 請求に関する質問\n",
        "    \"How did I get here I am not good with computer.  Halp.\" # (D) その他（説明してください）\n",
        "]\n",
        "\n",
        "# Correct categorizations stored as a list of lists to accommodate the possibility of multiple correct categorizations per email\n",
        "ANSWERS = [\n",
        "    [\"B\"],\n",
        "    [\"A\",\"D\"],\n",
        "    [\"C\"],\n",
        "    [\"D\"]\n",
        "]\n",
        "\n",
        "# Iterate through list of emails\n",
        "for i,email in enumerate(EMAILS):\n",
        "    \n",
        "    # Substitute the email text into the email placeholder variable\n",
        "    formatted_prompt = PROMPT.format(email=email)\n",
        "   \n",
        "    # Get Claude's response\n",
        "    response = get_completion(formatted_prompt, prefill=PREFILL)\n",
        "\n",
        "    # Grade Claude's response\n",
        "    grade = any([bool(re.search(ans, response[-1])) for ans in ANSWERS[i]])\n",
        "    \n",
        "    # Print Claude's response\n",
        "    print(\"--------------------------- Full prompt with variable substutions ---------------------------\")\n",
        "    print(\"USER TURN\")\n",
        "    print(formatted_prompt)\n",
        "    print(\"\\nASSISTANT TURN\")\n",
        "    print(PREFILL)\n",
        "    print(\"\\n------------------------------------- Claude's response -------------------------------------\")\n",
        "    print(response)\n",
        "    print(\"\\n------------------------------------------ GRADING ------------------------------------------\")\n",
        "    print(\"This exercise has been correctly solved:\", grade, \"\\n\\n\\n\\n\\n\\n\")"
      ]
    },
    {
      "cell_type": "markdown",
      "metadata": {},
      "source": [
        "ヒントが必要な場合は、以下のセルを実行してください！"
      ]
    },
    {
      "cell_type": "code",
      "execution_count": null,
      "metadata": {},
      "outputs": [],
      "source": [
        "print(hints.exercise_7_1_hint)"
      ]
    },
    {
      "cell_type": "markdown",
      "metadata": {},
      "source": [
        "まだ行き詰まっていますか？以下のセルを実行して、例の解決策を確認してください。"
      ]
    },
    {
      "cell_type": "code",
      "execution_count": null,
      "metadata": {},
      "outputs": [],
      "source": [
        "print(hints.exercise_7_1_solution)"
      ]
    },
    {
      "cell_type": "markdown",
      "metadata": {},
      "source": [
        "### おめでとうございます！\n",
        "\n",
        "ここまでのすべての演習を解決した場合、次の章に進む準備が整いました。楽しいプロンプト作成を！"
      ]
    },
    {
      "cell_type": "markdown",
      "metadata": {},
      "source": [
        "---\n",
        "\n",
        "## 例のプレイグラウンド\n",
        "\n",
        "これは、このレッスンで示されたプロンプトの例を自由に実験し、プロンプトを調整してClaudeの応答にどのように影響するかを見るためのエリアです。"
      ]
    },
    {
      "cell_type": "code",
      "execution_count": null,
      "metadata": {},
      "outputs": [],
      "source": [
        "# プロンプト\n",
        "PROMPT = \"Will Santa bring me presents on Christmas?\"\n",
        "\n",
        "# Claudeの応答を出力します\n",
        "print(get_completion(PROMPT))"
      ]
    },
    {
      "cell_type": "code",
      "execution_count": null,
      "metadata": {},
      "outputs": [],
      "source": [
        "# Prompt\n",
        "PROMPT = \"\"\"Please complete the conversation by writing the next line, speaking as \"A\".\n",
        "Q: Is the tooth fairy real?\n",
        "A: もちろん、かわいい子。歯を包んで今夜枕の下に置いておいて。朝には何かが待っているかもしれないよ。\n",
        "Q: Will Santa bring me presents on Christmas?\"\"\"\n",
        "\n",
        "# Print Claude's response\n",
        "print(get_completion(PROMPT))"
      ]
    },
    {
      "cell_type": "code",
      "execution_count": null,
      "metadata": {
        "tags": []
      },
      "outputs": [],
      "source": [
        "# プロンプトテンプレートで変数コンテンツのプレースホルダーを含む\n",
        "PROMPT = \"\"\"Silvermist Hollow、魅力的な村は、特別な個人のグループの家でした。\n",
        "その中には、地域の医療センターで外科手術の技術を革新した神経外科医、Dr. Liam Patelがいました。\n",
        "Olivia Chenは、持続可能で息をのむようなデザインで村の風景を変えた革新的な建築家でした。\n",
        "地元の劇場は、プロの音楽家で作曲家のEthan Kovacsによる魅惑的な交響曲で彩られていました。\n",
        "地元の食材に情熱を注ぐ独学のシェフ、Isabella Torresは、ファーム・トゥ・テーブルのレストランで料理のセンセーションを生み出し、食通にとって必見の目的地となりました。\n",
        "これらの素晴らしい個人は、それぞれの独自の才能を持ち、Silvermist Hollowの活気ある生活のタペストリーに貢献しました。\n",
        "<individuals>\n",
        "1. Dr. Liam Patel [神経外科医]\n",
        "2. Olivia Chen [建築家]\n",
        "3. Ethan Kovacs [音楽家および作曲家]\n",
        "4. Isabella Torres [シェフ]\n",
        "</individuals>\n",
        "\n",
        "町の中心には、シェフのOliver Hamiltonがファーム・トゥ・テーブルのレストラン、Green Plateで料理シーンを変革しました。Oliverの地元の有機食材を調達する献身は、食批評家や地元の人々から絶賛のレビューを得ています。\n",
        "通りを下ると、Riverside Grove図書館があり、館長のElizabeth Chenは、すべての人にとって歓迎される包括的な空間を作るために熱心に働いてきました。彼女の図書館の提供を拡大し、子供向けの読書プログラムを確立する努力は、町の識字率に大きな影響を与えました。\n",
        "魅力的な町の広場を散策すると、美しい壁画に魅了されることでしょう。これらの傑作は、Riverside Groveの本質を捉える才能を持つ著名なアーティスト、Isabella Torresの作品です。\n",
        "Riverside Groveのスポーツの成果も注目に値します。元オリンピック選手でコーチのMarcus Jenkinsのおかげです。Marcusは、自身の経験と情熱を活かして町の若者を指導し、Riverside Grove水泳チームをいくつかの地域選手権に導きました。\n",
        "<individuals>\n",
        "1. Oliver Hamilton [シェフ]\n",
        "2. Elizabeth Chen [図書館員]\n",
        "3. Isabella Torres [アーティスト]\n",
        "4. Marcus Jenkins [コーチ]\n",
        "</individuals>\n",
        "\n",
        "Oak Valley、魅力的な小さな町は、コミュニティに持続的な影響を与えた素晴らしい三人の個人の家です。\n",
        "町の賑やかなファーマーズマーケットでは、Laura Simmons、持続可能に栽培された美味しい農産物で知られる情熱的な有機農家に出会えます。彼女の健康的な食生活を促進する献身は、町がよりエコ意識の高いライフスタイルを受け入れることを促しました。\n",
        "Oak Valleyのコミュニティセンターでは、熟練したダンスインストラクターのKevin Alvarezが、すべての年齢の人々に動きの喜びをもたらしました。彼の包括的なダンスクラスは、住民の間に団結感と自己表現を育み、地元のアートシーンを豊かにしました。\n",
        "最後に、Rachel O'Connor、疲れを知らないボランティアは、さまざまな慈善活動に時間を捧げています。彼女の他者の生活を改善するための献身は、Oak Valley内で強いコミュニティ意識を生み出すのに重要な役割を果たしました。\n",
        "彼女たちの独自の才能と揺るぎない献身を通じて、Laura、Kevin、RachelはOak Valleyの織物に自らを織り込み、活気に満ちた繁栄する小さな町を作る手助けをしています。\"\"\"\n",
        "\n",
        "# Claudeの応答のプレフィル\n",
        "PREFILL = \"<individuals>\"\n",
        "\n",
        "# Claudeの応答を出力\n",
        "print(\"--------------------------- フルプロンプトと変数の置換 ---------------------------\")\n",
        "print(\"ユーザーのターン:\")\n",
        "print(PROMPT)\n",
        "print(\"\\nアシスタントのターン:\")\n",
        "print(PREFILL)\n",
        "print(\"\\n------------------------------------- Claudeの応答 -------------------------------------\")\n",
        "print(get_completion(PROMPT, prefill=PREFILL))"
      ]
    }
  ],
  "metadata": {
    "kernelspec": {
      "display_name": "",
      "name": ""
    },
    "language_info": {
      "codemirror_mode": {
        "name": "ipython",
        "version": 3
      },
      "file_extension": ".py",
      "mimetype": "text/x-python",
      "name": "python",
      "nbconvert_exporter": "python",
      "pygments_lexer": "ipython3",
      "version": "3.10.14"
    }
  },
  "nbformat": 4,
  "nbformat_minor": 4
}