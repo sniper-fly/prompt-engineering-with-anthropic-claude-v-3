{
  "cells": [
    {
      "cell_type": "markdown",
      "metadata": {},
      "source": [
        "# 付録 10.4.2: Claudeを使って文書を転写する方法\n",
        "\n",
        "Claude 3は、非構造化テキストや画像およびPDF内の情報を読み取り、それを構造化テキストに変換するのが得意です。いくつかの例を見ていきますが、その前にノートブックを実行するために必要なコードを設定しましょう。"
      ]
    },
    {
      "cell_type": "code",
      "execution_count": null,
      "metadata": {
        "tags": []
      },
      "outputs": [],
      "source": [
        "pip install -qUr requirements.txt"
      ]
    },
    {
      "cell_type": "code",
      "execution_count": null,
      "metadata": {
        "tags": []
      },
      "outputs": [],
      "source": [
        "import boto3\n",
        "import json\n",
        "from datetime import datetime\n",
        "from IPython.display import Image\n",
        "from botocore.exceptions import ClientError\n",
        "\n",
        "session = boto3.Session()\n",
        "region = session.region_name"
      ]
    },
    {
      "cell_type": "code",
      "execution_count": null,
      "metadata": {
        "tags": []
      },
      "outputs": [],
      "source": [
        "modelId = 'anthropic.claude-3-sonnet-20240229-v1:0'\n",
        "#modelId = 'anthropic.claude-3-haiku-20240307-v1:0'\n",
        "\n",
        "print(f'Using modelId: {modelId}')\n",
        "print('使用しているリージョン: ', region)\n",
        "\n",
        "bedrock_client = boto3.client(service_name = 'bedrock-runtime', region_name = region,)"
      ]
    },
    {
      "cell_type": "markdown",
      "metadata": {},
      "source": [
        "## タイプされたテキストの転写\n",
        "\n",
        "従来のOCRシステムに対するClaude 3の利点は、Claude 3の高度な推論能力により、転写したい内容を正確に指定できることです。この画像については、回答の中のコードだけを転写しましょう。"
      ]
    },
    {
      "cell_type": "code",
      "execution_count": null,
      "metadata": {
        "tags": []
      },
      "outputs": [],
      "source": [
        "from IPython.display import Image\n",
        "Image(filename='./images/transcribe/stack_overflow.png')"
      ]
    },
    {
      "cell_type": "code",
      "execution_count": null,
      "metadata": {
        "tags": []
      },
      "outputs": [],
      "source": [
        "with open(\"./images/transcribe/stack_overflow.png\", \"rb\") as f:\n",
        "    image_file = f.read()\n",
        "\n",
        "messages = [\n",
        "    {\n",
        "        \"role\": 'user',\n",
        "        \"content\": [\n",
        "            {\"text\": \"回答のコードを転写してください。コードのみ出力します。\"},\n",
        "            {\"image\": {\n",
        "                \"format\": 'png',\n",
        "                \"source\": {\"bytes\": image_file }\n",
        "                },\n",
        "            }\n",
        "        ]\n",
        "    }\n",
        "]\n",
        "\n",
        "converse_api_params = {\n",
        "    \"modelId\": modelId,\n",
        "    \"messages\": messages,\n",
        "}\n",
        "\n",
        "response = bedrock_client.converse(**converse_api_params)\n",
        "\n",
        "# レスポンスから生成されたテキストコンテンツを抽出します\n",
        "output_message = response['output']['message']['content'][0]['text']\n",
        "\n",
        "# 生成されたテキストコンテンツを返します\n",
        "print(output_message)"
      ]
    },
    {
      "cell_type": "markdown",
      "metadata": {},
      "source": [
        "## 手書きテキストの転写\n",
        "\n",
        "それは良いですが、もう少し難しいことを試してみましょう。`Claude 3`は手書きのテキストの転写にも優れています。`Claude 3`にこの手書きの処方箋メモを転写するように頼んでみましょう。"
      ]
    },
    {
      "cell_type": "code",
      "execution_count": null,
      "metadata": {
        "tags": []
      },
      "outputs": [],
      "source": [
        "Image(filename='./images/transcribe/school_notes.png')"
      ]
    },
    {
      "cell_type": "code",
      "execution_count": null,
      "metadata": {
        "tags": []
      },
      "outputs": [],
      "source": [
        "with open(\"./images/transcribe/school_notes.png\", \"rb\") as f:\n",
        "    image_file = f.read()\n",
        "\n",
        "messages = [\n",
        "    {\n",
        "        \"role\": 'user',\n",
        "        \"content\": [\n",
        "            {\"text\": \"このテキストを転写してください。テキストのみを出力し、他には何も出力しないでください。\"},\n",
        "            {\"image\": {\n",
        "                \"format\": 'png',\n",
        "                \"source\": {\"bytes\": image_file }\n",
        "                },\n",
        "            }\n",
        "        ]\n",
        "    }\n",
        "]\n",
        "\n",
        "converse_api_params = {\n",
        "    \"modelId\": modelId,\n",
        "    \"messages\": messages,\n",
        "}\n",
        "\n",
        "response = bedrock_client.converse(**converse_api_params)\n",
        "\n",
        "# レスポンスから生成されたテキストコンテンツを抽出します\n",
        "output_message = response['output']['message']['content'][0]['text']\n",
        "\n",
        "# 生成されたテキストコンテンツを返します\n",
        "print(output_message)"
      ]
    },
    {
      "cell_type": "markdown",
      "metadata": {},
      "source": [
        "## フォームの転写\n",
        "タイプされたテキストと手書きのテキストの組み合わせを試してみませんか？これは、保険や報告書のフォームなど、さまざまな文書で一般的です。"
      ]
    },
    {
      "cell_type": "code",
      "execution_count": null,
      "metadata": {},
      "outputs": [],
      "source": [
        "Image(filename='./images/transcribe/vehicle_form.jpg')"
      ]
    },
    {
      "cell_type": "code",
      "execution_count": null,
      "metadata": {
        "tags": []
      },
      "outputs": [],
      "source": [
        "with open(\"./images/transcribe/vehicle_form.jpg\", \"rb\") as f:\n",
        "    image_file = f.read()\n",
        "\n",
        "messages = [\n",
        "    {\n",
        "        \"role\": 'user',\n",
        "        \"content\": [\n",
        "            {\"text\": \"このフォームを正確に転写してください。\"},\n",
        "            {\"image\": {\n",
        "                \"format\": 'jpeg',\n",
        "                \"source\": {\"bytes\": image_file }\n",
        "                },\n",
        "            }\n",
        "        ]\n",
        "    }\n",
        "]\n",
        "\n",
        "converse_api_params = {\n",
        "    \"modelId\": modelId,\n",
        "    \"messages\": messages,\n",
        "}\n",
        "\n",
        "response = bedrock_client.converse(**converse_api_params)\n",
        "\n",
        "# レスポンスから生成されたテキストコンテンツを抽出します\n",
        "output_message = response['output']['message']['content'][0]['text']\n",
        "\n",
        "# 生成されたテキストコンテンツを返します\n",
        "print(output_message)"
      ]
    },
    {
      "cell_type": "markdown",
      "metadata": {},
      "source": [
        "## 複雑な文書QA  \n",
        "Claude 3を使用すると、単なる転写を超えて、非構造化文書内の情報に関して具体的な質問をすることができます。"
      ]
    },
    {
      "cell_type": "code",
      "execution_count": null,
      "metadata": {},
      "outputs": [],
      "source": [
        "Image(filename='./images/transcribe/page.jpeg')"
      ]
    },
    {
      "cell_type": "code",
      "execution_count": null,
      "metadata": {
        "tags": []
      },
      "outputs": [],
      "source": [
        "with open(\"./images/transcribe/page.jpeg\", \"rb\") as f:\n",
        "    image_file = f.read()\n",
        "\n",
        "messages = [\n",
        "    {\n",
        "        \"role\": 'user',\n",
        "        \"content\": [\n",
        "            {\"text\": \"Which is the most critical issue for live rep support?\"},\n",
        "            {\"image\": {\n",
        "                \"format\": 'jpeg',\n",
        "                \"source\": {\"bytes\": image_file }\n",
        "                },\n",
        "            }\n",
        "        ]\n",
        "    }\n",
        "]\n",
        "\n",
        "converse_api_params = {\n",
        "    \"modelId\": modelId,\n",
        "    \"messages\": messages,\n",
        "}\n",
        "\n",
        "response = bedrock_client.converse(**converse_api_params)\n",
        "\n",
        "# レスポンスから生成されたテキストコンテンツを抽出します\n",
        "output_message = response['output']['message']['content'][0]['text']\n",
        "\n",
        "# 生成されたテキストコンテンツを返します\n",
        "print(output_message)"
      ]
    },
    {
      "cell_type": "markdown",
      "metadata": {},
      "source": [
        "## 非構造情報 -> JSON\n",
        "\n",
        "画像内の非構造情報を構造化されたJSON出力に変換するためにClaudeをどのように使用できるか見てみましょう。"
      ]
    },
    {
      "cell_type": "code",
      "execution_count": null,
      "metadata": {},
      "outputs": [],
      "source": [
        "Image(filename='./images/transcribe/org_chart.jpeg')"
      ]
    },
    {
      "cell_type": "code",
      "execution_count": null,
      "metadata": {
        "tags": []
      },
      "outputs": [],
      "source": [
        "with open(\"./images/transcribe/org_chart.jpeg\", \"rb\") as f:\n",
        "    image_file = f.read()\n",
        "\n",
        "messages = [\n",
        "    {\n",
        "        \"role\": 'user',\n",
        "        \"content\": [\n",
        "            {\"text\": \"この組織図をJSONに変換して、誰が誰に報告しているかを示してください。JSONのみを出力し、それ以外は出力しないでください。\"},\n",
        "            {\"image\": {\n",
        "                \"format\": 'jpeg',\n",
        "                \"source\": {\"bytes\": image_file }\n",
        "                },\n",
        "            }\n",
        "        ]\n",
        "    }\n",
        "]\n",
        "\n",
        "converse_api_params = {\n",
        "    \"modelId\": modelId,\n",
        "    \"messages\": messages,\n",
        "}\n",
        "\n",
        "response = bedrock_client.converse(**converse_api_params)\n",
        "\n",
        "# レスポンスから生成されたテキストコンテンツを抽出する\n",
        "output_message = response['output']['message']['content'][0]['text']\n",
        "\n",
        "# 生成されたテキストコンテンツを返す\n",
        "print(output_message)"
      ]
    }
  ],
  "metadata": {
    "kernelspec": {
      "display_name": "conda_tensorflow2_p310",
      "language": "python",
      "name": "conda_tensorflow2_p310"
    },
    "language_info": {
      "codemirror_mode": {
        "name": "ipython",
        "version": 3
      },
      "file_extension": ".py",
      "mimetype": "text/x-python",
      "name": "python",
      "nbconvert_exporter": "python",
      "pygments_lexer": "ipython3",
      "version": "3.10.14"
    }
  },
  "nbformat": 4,
  "nbformat_minor": 4
}