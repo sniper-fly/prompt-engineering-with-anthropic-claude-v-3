{
  "cells": [
    {
      "cell_type": "markdown",
      "metadata": {},
      "source": [
        "# チュートリアルの使い方\n",
        "\n",
        "このチュートリアルでは、ワークショップ内のすべてのノートブックの要件と環境変数が保存されるように、最初にこの初期ノートブックを実行する必要があります。"
      ]
    },
    {
      "cell_type": "markdown",
      "metadata": {},
      "source": [
        "## 始め方\n",
        "\n",
        "1. インストラクター主導のワークショップに参加している場合、または提供された [CloudFormation Template](https://raw.githubusercontent.com/aws-samples/prompt-engineering-with-anthropic-claude-v-3/main/cloudformation/workshop-v1-final-cfn.yml) を使用してワークショップインフラストラクチャを展開した場合は、ステップ2に進むことができます。そうでない場合は、ワークショップの [GitHub Repository](https://github.com/aws-samples/prompt-engineering-with-anthropic-claude-v-3) をローカルマシンにダウンロードする必要があります。\n",
        "\n",
        "2. 次のコマンドを実行して、必要な依存関係をインストールします："
      ]
    },
    {
      "cell_type": "markdown",
      "metadata": {},
      "source": [
        "> ⚠️ **pipの依存関係解決に関連するエラーメッセージは無視してください。**"
      ]
    },
    {
      "cell_type": "code",
      "execution_count": null,
      "metadata": {
        "tags": []
      },
      "outputs": [],
      "source": [
        "%pip install -qU pip\n",
        "%pip install -qUr requirements.txt --force-reinstall"
      ]
    },
    {
      "cell_type": "markdown",
      "metadata": {},
      "source": [
        "ノートブックのセルを順番に実行し、提供された指示に従ってください。"
      ]
    },
    {
      "cell_type": "markdown",
      "metadata": {},
      "source": [
        "---\n",
        "\n",
        "## 使用上の注意とヒント 💡\n",
        "\n",
        "- このコースでは、温度0のClaude 3 Haikuを使用します。温度についてはコースの後半で詳しく説明しますが、今のところ、これらの設定がより決定論的な結果をもたらすことを理解しておけば十分です。このコースのすべてのプロンプトエンジニアリング技術は、Claude 2やClaude Instant 1.2などの以前の世代のレガシーClaudeモデルにも適用されます。\n",
        "\n",
        "- `Shift + Enter`を使用してセルを実行し、次のセルに移動できます。\n",
        "\n",
        "- チュートリアルページの下部に到達したら、フォルダ内の次の番号付きファイルに移動するか、その章のファイル内のコンテンツが終了した場合は次の番号付きフォルダに移動してください。\n",
        "\n",
        "### Boto3 SDKとConverse API\n",
        "このチュートリアルでは、[Amazon Boto3 SDK](https://boto3.amazonaws.com/v1/documentation/api/latest/reference/services/bedrock-runtime.html)と[Converse API](https://boto3.amazonaws.com/v1/documentation/api/latest/reference/services/bedrock-runtime/client/converse.html)を使用します。\n",
        "\n",
        "以下は、このチュートリアルでプロンプトを実行する際の例です。まず、`get_completion`を作成します。これは、プロンプトをClaudeに送信し、Claudeが生成した応答を返すヘルパー関数です。そのセルを今すぐ実行してください。"
      ]
    },
    {
      "cell_type": "markdown",
      "metadata": {},
      "source": [
        "まず、モデル名とリージョンを設定して保存します。"
      ]
    },
    {
      "cell_type": "code",
      "execution_count": null,
      "metadata": {},
      "outputs": [],
      "source": [
        "import boto3\n",
        "import json\n",
        "from datetime import datetime\n",
        "from botocore.exceptions import ClientError\n",
        "\n",
        "session = boto3.Session()\n",
        "region = session.region_name"
      ]
    },
    {
      "cell_type": "code",
      "execution_count": null,
      "metadata": {},
      "outputs": [],
      "source": [
        "#modelId = 'anthropic.claude-3-sonnet-20240229-v1:0'\n",
        "modelId = 'anthropic.claude-3-haiku-20240307-v1:0'\n",
        "\n",
        "%store modelId\n",
        "%store region\n",
        "\n",
        "print(f'使用中のmodelId: {modelId}')\n",
        "print('使用中のregion: ', region)\n",
        "\n",
        "bedrock_client = boto3.client(service_name = 'bedrock-runtime', region_name = region,)"
      ]
    },
    {
      "cell_type": "markdown",
      "metadata": {},
      "source": [
        "次に、`get_completion`を作成します。これは、プロンプトをClaudeに送信し、Claudeが生成した応答を返すヘルパー関数です。今、そのセルを実行してください。"
      ]
    },
    {
      "cell_type": "code",
      "execution_count": null,
      "metadata": {
        "tags": []
      },
      "outputs": [],
      "source": [
        "def get_completion(prompt, system_prompt=None):\n",
        "    # 推論設定を定義します\n",
        "    inference_config = {\n",
        "        \"temperature\": 0.0,  # 多様な応答を生成するための温度を設定します\n",
        "        \"maxTokens\": 200  # 生成するトークンの最大数を設定します\n",
        "    }\n",
        "    # 追加のモデルフィールドを定義します\n",
        "    additional_model_fields = {\n",
        "        \"top_p\": 1,  # 核サンプリングのためのtop_p値を設定します\n",
        "    }\n",
        "    # 会話メソッドのパラメータを作成します\n",
        "    converse_api_params = {\n",
        "        \"modelId\": modelId,  # 使用するモデルIDを指定します\n",
        "        \"messages\": [{\"role\": \"user\", \"content\": [{\"text\": prompt}]}],  # ユーザーのプロンプトを提供します\n",
        "        \"inferenceConfig\": inference_config,  # 推論設定を渡します\n",
        "        \"additionalModelRequestFields\": additional_model_fields  # 追加のモデルフィールドを渡します\n",
        "    }\n",
        "    # system_textが提供されているか確認します\n",
        "    if system_prompt:\n",
        "        # system_textが提供されている場合、converse_params辞書にシステムパラメータを追加します\n",
        "        converse_api_params[\"system\"] = [{\"text\": system_prompt}]\n",
        "\n",
        "    # Bedrockクライアントにリクエストを送信して応答を生成します\n",
        "    try:\n",
        "        response = bedrock_client.converse(**converse_api_params)\n",
        "\n",
        "        # 応答から生成されたテキストコンテンツを抽出します\n",
        "        text_content = response['output']['message']['content'][0]['text']\n",
        "\n",
        "        # 生成されたテキストコンテンツを返します\n",
        "        return text_content\n",
        "\n",
        "    except ClientError as err:\n",
        "        message = err.response['Error']['Message']\n",
        "        print(f\"クライアントエラーが発生しました: {message}\")"
      ]
    },
    {
      "cell_type": "markdown",
      "metadata": {},
      "source": [
        "今からClaudeのためのプロンプトの例を書き出し、`get_completion`ヘルパー関数を実行してClaudeの出力を表示します。以下のセルを実行すると、その下にClaudeからの応答が表示されます。\n",
        "\n",
        "プロンプト文字列を自由に変更して、Claudeから異なる応答を引き出してみてください。"
      ]
    },
    {
      "cell_type": "code",
      "execution_count": null,
      "metadata": {
        "tags": []
      },
      "outputs": [],
      "source": [
        "# プロンプト\n",
        "prompt = \"Hello, Claude!\"\n",
        "\n",
        "# Claudeの応答を取得\n",
        "print(get_completion(prompt))"
      ]
    },
    {
      "cell_type": "markdown",
      "metadata": {},
      "source": [
        "以前に定義された`modelId`と`region`変数は、チュートリアル全体で使用されます。各チュートリアルページのセルを上から下へ実行することを確認してください。"
      ]
    }
  ],
  "metadata": {
    "kernelspec": {
      "display_name": "",
      "name": ""
    },
    "language_info": {
      "codemirror_mode": {
        "name": "ipython",
        "version": 3
      },
      "file_extension": ".py",
      "mimetype": "text/x-python",
      "name": "python",
      "nbconvert_exporter": "python",
      "pygments_lexer": "ipython3",
      "version": "3.10.14"
    }
  },
  "nbformat": 4,
  "nbformat_minor": 4
}