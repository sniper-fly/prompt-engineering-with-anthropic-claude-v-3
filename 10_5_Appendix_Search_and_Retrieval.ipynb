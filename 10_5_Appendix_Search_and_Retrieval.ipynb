{
  "cells": [
    {
      "cell_type": "markdown",
      "metadata": {},
      "source": [
        "# 付録 10.5: 検索と取得\n",
        "\n",
        "Claudeを使って**Wikipediaを検索できる**ことをご存知ですか？Claudeは記事を見つけて取得することができ、その後、Claudeを使ってそれらを要約したり、合成したり、見つけた内容から新しいコンテンツを書いたり、さらに多くのことができます。そして、Wikipediaだけではありません！プレーンテキストとして保存されているドキュメントや、ベクトルデータストアに埋め込まれているドキュメントも検索できます。\n",
        "\n",
        "Claudeの知識を補完し、ベクトルデータベース、Wikipedia、インターネットなどから取得したデータを使用してClaudeの応答の正確性と関連性を向上させる方法を学ぶには、私たちの[RAGクックブックの例](https://github.com/anthropics/anthropic-cookbook/blob/main/third_party/Wikipedia/wikipedia-search-cookbook.ipynb)をご覧ください。そこで、特定の[埋め込み](https://docs.anthropic.com/claude/docs/embeddings)やベクトルデータベースツールの使用方法についても学ぶことができます。\n",
        "\n",
        "Claudeを使用した高度なRAGアーキテクチャについて学びたい場合は、私たちの[Claude 3のRAGアーキテクチャに関する技術プレゼンテーションスライド](https://docs.google.com/presentation/d/1zxkSI7lLUBrZycA-_znwqu8DDyVhHLkQGScvzaZrUns/edit#slide=id.g2c736259dac_63_782)をチェックしてください。"
      ]
    },
    {
      "cell_type": "markdown",
      "metadata": {},
      "source": [
        "It seems there is no text provided for translation. Please provide the markdown text you would like to have translated into Japanese, and I will assist you with that."
      ]
    }
  ],
  "metadata": {
    "kernelspec": {
      "display_name": "",
      "name": ""
    },
    "language_info": {
      "name": "python"
    }
  },
  "nbformat": 4,
  "nbformat_minor": 4
}