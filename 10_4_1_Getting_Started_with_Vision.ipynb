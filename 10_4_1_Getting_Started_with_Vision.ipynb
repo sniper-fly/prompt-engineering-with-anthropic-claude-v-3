{
  "cells": [
    {
      "cell_type": "markdown",
      "metadata": {},
      "source": [
        "# 付録 10.4.1: 始めに - Claudeに画像を渡す方法\n",
        "\n",
        "Claude 3モデルファミリーは、APIで画像入力をサポートしています。以下は、画像をClaudeに渡す方法です:"
      ]
    },
    {
      "cell_type": "code",
      "execution_count": null,
      "metadata": {
        "tags": []
      },
      "outputs": [],
      "source": [
        "pip install -qUr requirements.txt"
      ]
    },
    {
      "cell_type": "code",
      "execution_count": null,
      "metadata": {
        "tags": []
      },
      "outputs": [],
      "source": [
        "import boto3\n",
        "import json\n",
        "from datetime import datetime\n",
        "from IPython.display import Image\n",
        "from botocore.exceptions import ClientError\n",
        "\n",
        "session = boto3.Session()\n",
        "region = session.region_name"
      ]
    },
    {
      "cell_type": "code",
      "execution_count": null,
      "metadata": {
        "tags": []
      },
      "outputs": [],
      "source": [
        "#modelId = 'anthropic.claude-3-sonnet-20240229-v1:0'\n",
        "modelId = 'anthropic.claude-3-haiku-20240307-v1:0'\n",
        "\n",
        "%store modelId\n",
        "%store region\n",
        "\n",
        "print(f'Using modelId: {modelId}')\n",
        "print('使用しているリージョン: ', region)\n",
        "\n",
        "bedrock_client = boto3.client(service_name = 'bedrock-runtime', region_name = region,)"
      ]
    },
    {
      "cell_type": "code",
      "execution_count": null,
      "metadata": {
        "tags": []
      },
      "outputs": [],
      "source": [
        "from IPython.display import Image\n",
        "Image(filename='./images/sunset.jpeg')"
      ]
    },
    {
      "cell_type": "code",
      "execution_count": null,
      "metadata": {
        "tags": []
      },
      "outputs": [],
      "source": [
        "with open(\"./images/sunset.jpeg\", \"rb\") as f:\n",
        "    image_file = f.read()\n",
        "\n",
        "messages = [\n",
        "    {\n",
        "        \"role\": 'user',\n",
        "        \"content\": [\n",
        "            {\"text\": \"この画像に基づいてソネットを書いてください。\"},\n",
        "            {\"image\": {\n",
        "                \"format\": 'jpeg',\n",
        "                \"source\": {\"bytes\": image_file }\n",
        "                },\n",
        "            }\n",
        "        ]\n",
        "    }\n",
        "]\n",
        "\n",
        "converse_api_params = {\n",
        "    \"modelId\": modelId,\n",
        "    \"messages\": messages,\n",
        "}\n",
        "\n",
        "response = bedrock_client.converse(**converse_api_params)\n",
        "\n",
        "# レスポンスから生成されたテキストコンテンツを抽出します\n",
        "output_message = response['output']['message']['content'][0]['text']\n",
        "\n",
        "# 生成されたテキストコンテンツを返します\n",
        "print(output_message)"
      ]
    },
    {
      "cell_type": "markdown",
      "metadata": {},
      "source": [
        "## URLを通じて画像を渡す\n",
        "\n",
        "画像のURLしかない場合でも、数行のコードでClaudeに渡すことができます。"
      ]
    },
    {
      "cell_type": "code",
      "execution_count": null,
      "metadata": {
        "tags": []
      },
      "outputs": [],
      "source": [
        "image_url = \"https://upload.wikimedia.org/wikipedia/commons/thumb/c/ca/Machu_Picchu%2C_Peru_%282018%29.jpg/2560px-Machu_Picchu%2C_Peru_%282018%29.jpg\"\n",
        "Image(url=image_url)"
      ]
    },
    {
      "cell_type": "code",
      "execution_count": null,
      "metadata": {
        "tags": []
      },
      "outputs": [],
      "source": [
        "import httpx\n",
        "\n",
        "web_image = httpx.get(image_url).content\n",
        "\n",
        "messages = [\n",
        "    {\n",
        "        \"role\": 'user',\n",
        "        \"content\": [\n",
        "            {\"text\": \"この画像に基づいてソネットを書いてください。\"},\n",
        "            {\"image\": {\n",
        "                \"format\": 'jpeg',\n",
        "                \"source\": {\"bytes\": web_image }\n",
        "                },\n",
        "            }\n",
        "        ]\n",
        "    }\n",
        "]\n",
        "\n",
        "converse_api_params = {\n",
        "    \"modelId\": modelId,\n",
        "    \"messages\": messages,\n",
        "}\n",
        "\n",
        "response = bedrock_client.converse(**converse_api_params)\n",
        "\n",
        "# レスポンスから生成されたテキストコンテンツを抽出します\n",
        "output_message = response['output']['message']['content'][0]['text']\n",
        "\n",
        "# 生成されたテキストコンテンツを返します\n",
        "print(output_message)"
      ]
    }
  ],
  "metadata": {
    "kernelspec": {
      "display_name": "conda_tensorflow2_p310",
      "language": "python",
      "name": "conda_tensorflow2_p310"
    },
    "language_info": {
      "codemirror_mode": {
        "name": "ipython",
        "version": 3
      },
      "file_extension": ".py",
      "mimetype": "text/x-python",
      "name": "python",
      "nbconvert_exporter": "python",
      "pygments_lexer": "ipython3",
      "version": "3.10.14"
    }
  },
  "nbformat": 4,
  "nbformat_minor": 4
}