{
  "cells": [
    {
      "cell_type": "markdown",
      "metadata": {},
      "source": [
        "# 第5章: Claudeの出力フォーマットと発話\n",
        "\n",
        "- [レッスン](#lesson)\n",
        "- [演習](#exercises)\n",
        "- [例のプレイグラウンド](#example-playground)\n",
        "\n",
        "## セットアップ\n",
        "\n",
        "次のセットアップセルを実行して、APIキーをロードし、`get_completion`ヘルパー関数を確立します。"
      ]
    },
    {
      "cell_type": "code",
      "execution_count": null,
      "metadata": {},
      "outputs": [],
      "source": [
        "# Pythonの組み込み正規表現ライブラリをインポート\n",
        "import re\n",
        "import boto3\n",
        "from botocore.exceptions import ClientError\n",
        "import json\n",
        "\n",
        "# utilsパッケージからhintsモジュールをインポート\n",
        "from utils import hints\n",
        "\n",
        "# IPythonストアからMODEL_NAME変数を取得\n",
        "%store -r modelId\n",
        "%store -r region\n",
        "\n",
        "bedrock_client = boto3.client(service_name='bedrock-runtime', region_name=region)"
      ]
    },
    {
      "cell_type": "code",
      "execution_count": null,
      "metadata": {},
      "outputs": [],
      "source": [
        "def get_completion(prompt, system_prompt=None, prefill=None):\n",
        "    inference_config = {\n",
        "        \"temperature\": 0.5,\n",
        "        \"maxTokens\": 200\n",
        "    }\n",
        "    converse_api_params = {\n",
        "        \"modelId\": modelId,\n",
        "        \"messages\": [{\"role\": \"user\", \"content\": [{\"text\": prompt}]}],\n",
        "        \"inferenceConfig\": inference_config\n",
        "    }\n",
        "    if system_prompt:\n",
        "        converse_api_params[\"system\"] = [{\"text\": system_prompt}]\n",
        "    if prefill:\n",
        "        converse_api_params[\"messages\"].append({\"role\": \"assistant\", \"content\": [{\"text\": prefill}]})\n",
        "    try:\n",
        "        response = bedrock_client.converse(**converse_api_params)\n",
        "        text_content = response['output']['message']['content'][0]['text']\n",
        "        return text_content\n",
        "\n",
        "    except ClientError as err:\n",
        "        message = err.response['Error']['Message']\n",
        "        print(f\"クライアントエラーが発生しました: {message}\")"
      ]
    },
    {
      "cell_type": "markdown",
      "metadata": {},
      "source": [
        "---\n",
        "\n",
        "## レッスン\n",
        "\n",
        "**Claudeはその`output`をさまざまな方法でフォーマットできます**。そうするように頼むだけです！\n",
        "\n",
        "その方法の一つは、XMLタグを使用して、応答を他の余分なテキストから分離することです。すでに、XMLタグを使用してプロンプトをより明確で解析しやすくする方法を学びました。実際、Claudeに**XMLタグを使用してその`output`をより明確で人間にとって理解しやすくするように頼むこともできます**。"
      ]
    },
    {
      "cell_type": "markdown",
      "metadata": {},
      "source": [
        "### 例\n",
        "\n",
        "第2章で解決した「詩の前置き問題」を思い出してください。Claudeに前置きを完全にスキップするように頼んだことがありましたが、**Claudeに詩をXMLタグで囲むように指示することでも、同様の結果を得ることができる**ことがわかりました。"
      ]
    },
    {
      "cell_type": "code",
      "execution_count": null,
      "metadata": {},
      "outputs": [],
      "source": [
        "# 変数の内容\n",
        "ANIMAL = \"Rabbit\"\n",
        "\n",
        "# 変数の内容のためのプレースホルダーを持つプロンプトテンプレート\n",
        "PROMPT = f\"Please write a haiku about {ANIMAL}. Put it in <haiku> tags.\"\n",
        "\n",
        "# Claudeの応答を出力\n",
        "print(\"--------------------------- 変数の置換を含む完全なプロンプト ---------------------------\")\n",
        "print(PROMPT)\n",
        "print(\"\\n------------------------------------- Claudeの応答 -------------------------------------\")\n",
        "print(get_completion(PROMPT))"
      ]
    },
    {
      "cell_type": "markdown",
      "metadata": {},
      "source": [
        "なぜこれを行いたいのでしょうか？それは、**出力がXMLタグ内にあることで、エンドユーザーが短いプログラムを書いてXMLタグの間のコンテンツを抽出することで、詩を確実に取得できるからです**。\n",
        "\n",
        "この技術の拡張として、**最初のXMLタグを`assistant`ターンに置くことがあります。`assistant`ターンにテキストを置くと、基本的にClaudeに何かを言ったことを伝え、そのポイントから続けるべきだと指示していることになります。この技術は「Claudeのために話す」または「Claudeの応答を事前に埋める」と呼ばれています**。\n",
        "\n",
        "以下では、最初の`<haiku>` XMLタグを使ってこれを行いました。Claudeが私たちがやめたところから直接続ける様子に注目してください。"
      ]
    },
    {
      "cell_type": "code",
      "execution_count": null,
      "metadata": {},
      "outputs": [],
      "source": [
        "# 変数の内容\n",
        "ANIMAL = \"Cat\"\n",
        "\n",
        "# 変数の内容のためのプレースホルダーを持つプロンプトテンプレート\n",
        "PROMPT = f\"Please write a haiku about {ANIMAL}. Put it in <haiku> tags.\"\n",
        "\n",
        "# Claudeの応答のためのプレフィル\n",
        "PREFILL = \"<haiku>\"\n",
        "\n",
        "# Claudeの応答を出力\n",
        "print(\"--------------------------- 変数置換を含む完全なプロンプト ---------------------------\")\n",
        "print(\"ユーザーのターン:\")\n",
        "print(PROMPT)\n",
        "print(\"\\nアシスタントのターン:\")\n",
        "print(PREFILL)\n",
        "print(\"\\n------------------------------------- Claudeの応答 -------------------------------------\")\n",
        "print(get_completion(PROMPT, prefill=PREFILL))"
      ]
    },
    {
      "cell_type": "markdown",
      "metadata": {},
      "source": [
        "Claudeは他の出力フォーマットスタイル、特に`JSON`を使用するのも得意です。`JSON`出力を強制したい場合（決定的ではありませんが、近い形で）、Claudeの応答を開きかっこ`{`で事前に埋めることもできます。"
      ]
    },
    {
      "cell_type": "code",
      "execution_count": null,
      "metadata": {},
      "outputs": [],
      "source": [
        "# Variable content\n",
        "ANIMAL = \"Cat\"\n",
        "\n",
        "# プロンプトテンプレート、変数の内容のためのプレースホルダー付き\n",
        "PROMPT = f\"Please write a haiku about {ANIMAL}. Use JSON format with the keys as \\\"first_line\\\", \\\"second_line\\\", and \\\"third_line\\\".\"\n",
        "\n",
        "# Claudeの応答のためのプレフィル\n",
        "PREFILL = \"{\"\n",
        "\n",
        "# Claudeの応答を出力します\n",
        "print(\"--------------------------- 変数置換を含む完全なプロンプト ---------------------------\")\n",
        "print(\"ユーザーのターン\")\n",
        "print(PROMPT)\n",
        "print(\"\\nアシスタントのターン\")\n",
        "print(PREFILL)\n",
        "print(\"\\n------------------------------------- Claudeの応答 -------------------------------------\")\n",
        "print(get_completion(PROMPT, prefill=PREFILL))"
      ]
    },
    {
      "cell_type": "markdown",
      "metadata": {},
      "source": [
        "以下は、**同じプロンプト内での複数の入力変数と出力フォーマット仕様を、すべてXMLタグを使用して行った例**です。"
      ]
    },
    {
      "cell_type": "code",
      "execution_count": null,
      "metadata": {},
      "outputs": [],
      "source": [
        "# First input variable\n",
        "EMAIL = \"Hi Zack, just pinging you for a quick update on that prompt you were supposed to write.\"\n",
        "\n",
        "# Second input variable\n",
        "ADJECTIVE = \"olde english\"\n",
        "\n",
        "# Prompt template with a placeholder for the variable content\n",
        "PROMPT = f\"Hey Claude. Here is an email: <email>{EMAIL}</email>. Make this email more {ADJECTIVE}. Write the new version in <{ADJECTIVE}_email> XML tags.\"\n",
        "\n",
        "# Prefill for Claude's response (now as an f-string with a variable)\n",
        "PREFILL = f\"<{ADJECTIVE}_email>\"\n",
        "\n",
        "# Print Claude's response\n",
        "print(\"--------------------------- 変数置換を含む完全なプロンプト ---------------------------\")\n",
        "print(\"ユーザーのターン\")\n",
        "print(PROMPT)\n",
        "print(\"\\nアシスタントのターン\")\n",
        "print(PREFILL)\n",
        "print(\"\\n------------------------------------- Claudeの応答 -------------------------------------\")\n",
        "print(get_completion(PROMPT, prefill=PREFILL))"
      ]
    },
    {
      "cell_type": "markdown",
      "metadata": {},
      "source": [
        "#### ボーナスレッスン\n",
        "\n",
        "APIを通じてClaudeを呼び出す場合、`stop_sequences`パラメータに閉じるXMLタグを渡すことで、Claudeがあなたの望むタグを出力した後にサンプリングを停止させることができます。これにより、Claudeがあなたが気にしている答えをすでに提供した後の結論の発言を排除することで、コストと最後のトークンまでの時間を節約できます。\n",
        "\n",
        "上記のコンテンツを変更せずにレッスンのプロンプトを試してみたい場合は、レッスンノートブックの一番下までスクロールして[**Example Playground**](#example-playground)にアクセスしてください。"
      ]
    },
    {
      "cell_type": "markdown",
      "metadata": {},
      "source": [
        "---\n",
        "\n",
        "## 演習\n",
        "- [演習 5.1 - ステフィン・カリー GOAT](#exercise-51---steph-curry-goat)\n",
        "- [演習 5.2 - 二つの俳句](#exercise-52---two-haikus)\n",
        "- [演習 5.3 - 二つの俳句、二つの動物](#exercise-53---two-haikus-two-animals)"
      ]
    },
    {
      "cell_type": "markdown",
      "metadata": {},
      "source": [
        "### 演習 5.1 - ステフィン・カリー GOAT\n",
        "選択を強いられた場合、クロードはマイケル・ジョーダンを史上最高のバスケットボール選手として指名します。クロードに他の選手を選ばせることはできるでしょうか？\n",
        "\n",
        "`PREFILL`変数を変更して、**クロードに史上最高のバスケットボール選手はステフィン・カリーであるという詳細な議論をさせる**ようにしてください。演習の焦点は`PREFILL`にあるため、それ以外は変更しないようにしてください。"
      ]
    },
    {
      "cell_type": "code",
      "execution_count": null,
      "metadata": {},
      "outputs": [],
      "source": [
        "# プロンプトテンプレートで変数内容のプレースホルダー\n",
        "PROMPT = f\"Who is the best basketball player of all time? Please choose one specific player.\"\n",
        "\n",
        "# Claudeの応答のプレフィル\n",
        "PREFILL = \"\"\n",
        "\n",
        "# Claudeの応答を取得\n",
        "response = get_completion(PROMPT, prefill=PREFILL)\n",
        "\n",
        "# 演習の正確さを評価する関数\n",
        "def grade_exercise(text):\n",
        "    return bool(re.search(\"Warrior\", text))\n",
        "\n",
        "# Claudeの応答を出力\n",
        "print(\"--------------------------- 変数置換を含む完全なプロンプト ---------------------------\")\n",
        "print(\"ユーザーのターン\")\n",
        "print(PROMPT)\n",
        "print(\"\\nアシスタントのターン\")\n",
        "print(PREFILL)\n",
        "print(\"\\n------------------------------------- Claudeの応答 -------------------------------------\")\n",
        "print(response)\n",
        "print(\"\\n------------------------------------------ 評価 ------------------------------------------\")\n",
        "print(\"この演習は正しく解決されました:\", grade_exercise(response))"
      ]
    },
    {
      "cell_type": "markdown",
      "metadata": {},
      "source": [
        "ヒントが必要な場合は、以下のセルを実行してください！"
      ]
    },
    {
      "cell_type": "code",
      "execution_count": null,
      "metadata": {},
      "outputs": [],
      "source": [
        "print(hints.exercise_5_1_hint)"
      ]
    },
    {
      "cell_type": "markdown",
      "metadata": {},
      "source": [
        "### 演習 5.2 - 二つの俳句\n",
        "以下の`PROMPT`をXMLタグを使用して修正し、Claudeが動物について一つではなく二つの俳句を書くようにします。一つの詩がどこで終わり、もう一つがどこから始まるのかが明確である必要があります。"
      ]
    },
    {
      "cell_type": "code",
      "execution_count": null,
      "metadata": {},
      "outputs": [],
      "source": [
        "# 変数の内容\n",
        "ANIMAL = \"\"\n",
        "\n",
        "# ハイクの数\n",
        "NUMBER = \"\"\n",
        "\n",
        "# Claudeの応答のためのプレフィル\n",
        "PREFILL = \"\"\n",
        "\n",
        "# 変数の内容のためのプレースホルダーを持つプロンプトテンプレート\n",
        "PROMPT = f\"Please write {NUMBER} haiku(s) about {ANIMAL}. Put each haiku(s) in {PREFILL} tags.\"\n",
        "\n",
        "# Claudeの応答を取得\n",
        "response = get_completion(PROMPT, prefill=PREFILL)\n",
        "\n",
        "# 演習の正確さを評価する関数\n",
        "def grade_exercise(text):\n",
        "    return bool(\n",
        "        (re.search(\"cat\", text.lower()) and re.search(\"<haiku>\", text))\n",
        "        and (text.count(\"\\n\") + 1) > 5\n",
        "    )\n",
        "\n",
        "# Claudeの応答を出力\n",
        "print(\"--------------------------- 変数の置換を含む完全なプロンプト ---------------------------\")\n",
        "print(\"ユーザーのターン\")\n",
        "print(PROMPT)\n",
        "print(\"\\nアシスタントのターン\")\n",
        "print(PREFILL)\n",
        "print(\"\\n------------------------------------- Claudeの応答 -------------------------------------\")\n",
        "print(response)\n",
        "print(\"\\n------------------------------------------ 評価 ------------------------------------------\")\n",
        "print(\"この演習は正しく解決されました:\", grade_exercise(response))"
      ]
    },
    {
      "cell_type": "markdown",
      "metadata": {},
      "source": [
        "ヒントが必要な場合は、以下のセルを実行してください！"
      ]
    },
    {
      "cell_type": "code",
      "execution_count": null,
      "metadata": {},
      "outputs": [],
      "source": [
        "print(hints.exercise_5_2_hint)"
      ]
    },
    {
      "cell_type": "markdown",
      "metadata": {},
      "source": [
        "### Exercise 5.3 - 二つの俳句、二つの動物\n",
        "以下の`PROMPT`を修正して、**Claudeが二つの異なる動物についての二つの俳句を作成する**ようにします。最初の置き換えには`{ANIMAL1}`を、二番目の置き換えには`{ANIMAL2}`を使用します。"
      ]
    },
    {
      "cell_type": "code",
      "execution_count": null,
      "metadata": {},
      "outputs": [],
      "source": [
        "# 最初の入力変数\n",
        "ANIMAL1 = \"Cat\"\n",
        "\n",
        "# 2番目の入力変数\n",
        "ANIMAL2 = \"Dog\"\n",
        "\n",
        "# ハイクの数\n",
        "NUMBER = \"two\"\n",
        "\n",
        "# 変数の内容のためのプレースホルダーを持つプロンプトテンプレート\n",
        "PROMPT = f\"Please write a haiku about {ANIMAL1}. Put it in <haiku> tags.\"\n",
        "\n",
        "# Claudeの応答を取得\n",
        "response = get_completion(PROMPT)\n",
        "\n",
        "# 演習の正確さを評価する関数\n",
        "def grade_exercise(text):\n",
        "    return bool(re.search(\"tail\", text.lower()) and re.search(\"cat\", text.lower()) and re.search(\"<haiku>\", text))\n",
        "\n",
        "# Claudeの応答を出力\n",
        "print(\"--------------------------- 変数の置換を含む完全なプロンプト ---------------------------\")\n",
        "print(\"ユーザーのターン\")\n",
        "print(PROMPT)\n",
        "print(\"\\n------------------------------------- Claudeの応答 -------------------------------------\")\n",
        "print(response)\n",
        "print(\"\\n------------------------------------------ 採点 ------------------------------------------\")\n",
        "print(\"この演習は正しく解決されました:\", grade_exercise(response))"
      ]
    },
    {
      "cell_type": "markdown",
      "metadata": {},
      "source": [
        "ヒントが必要な場合は、以下のセルを実行してください！"
      ]
    },
    {
      "cell_type": "code",
      "execution_count": null,
      "metadata": {},
      "outputs": [],
      "source": [
        "print(hints.exercise_5_3_hint)"
      ]
    },
    {
      "cell_type": "markdown",
      "metadata": {},
      "source": [
        "### おめでとうございます！\n",
        "\n",
        "ここまでのすべての演習を解決した場合、次の章に進む準備が整いました。楽しいプロンプト作成を！"
      ]
    },
    {
      "cell_type": "markdown",
      "metadata": {},
      "source": [
        "---\n",
        "\n",
        "## 例のプレイグラウンド\n",
        "\n",
        "これは、このレッスンで示されたプロンプトの例を自由に実験し、プロンプトを調整してClaudeの応答にどのように影響するかを見るためのエリアです。"
      ]
    },
    {
      "cell_type": "code",
      "execution_count": null,
      "metadata": {},
      "outputs": [],
      "source": [
        "# 変数の内容\n",
        "ANIMAL = \"Rabbit\"\n",
        "\n",
        "# 変数の内容のためのプレースホルダーを持つプロンプトテンプレート\n",
        "PROMPT = f\"Please write a haiku about {ANIMAL}. Put it in <haiku> tags.\"\n",
        "\n",
        "# Claudeの応答を出力\n",
        "print(\"--------------------------- 変数の置換を含む完全なプロンプト ---------------------------\")\n",
        "print(PROMPT)\n",
        "print(\"\\n------------------------------------- Claudeの応答 -------------------------------------\")\n",
        "print(get_completion(PROMPT))"
      ]
    },
    {
      "cell_type": "code",
      "execution_count": null,
      "metadata": {},
      "outputs": [],
      "source": [
        "# 変数の内容\n",
        "ANIMAL = \"Cat\"\n",
        "\n",
        "# 変数の内容のためのプレースホルダーを持つプロンプトテンプレート\n",
        "PROMPT = f\"Please write a haiku about {ANIMAL}. Put it in <haiku> tags.\"\n",
        "\n",
        "# Claudeの応答のための事前入力\n",
        "PREFILL = \"<haiku>\"\n",
        "\n",
        "# Claudeの応答を出力\n",
        "print(\"--------------------------- 変数置換を含む完全なプロンプト ---------------------------\")\n",
        "print(\"ユーザーのターン:\")\n",
        "print(PROMPT)\n",
        "print(\"\\nアシスタントのターン:\")\n",
        "print(PREFILL)\n",
        "print(\"\\n------------------------------------- Claudeの応答 -------------------------------------\")\n",
        "print(get_completion(PROMPT, prefill=PREFILL))"
      ]
    },
    {
      "cell_type": "code",
      "execution_count": null,
      "metadata": {},
      "outputs": [],
      "source": [
        "# Variable content\n",
        "ANIMAL = \"Cat\"\n",
        "\n",
        "# プロンプトテンプレート、変数の内容のためのプレースホルダー付き\n",
        "PROMPT = f\"Please write a haiku about {ANIMAL}. Use JSON format with the keys as \\\"first_line\\\", \\\"second_line\\\", and \\\"third_line\\\".\"\n",
        "\n",
        "# Claudeの応答のためのプレフィル\n",
        "PREFILL = \"{\"\n",
        "\n",
        "# Claudeの応答を出力します\n",
        "print(\"--------------------------- 変数置換を含む完全なプロンプト ---------------------------\")\n",
        "print(\"ユーザーのターン\")\n",
        "print(PROMPT)\n",
        "print(\"\\nアシスタントのターン\")\n",
        "print(PREFILL)\n",
        "print(\"\\n------------------------------------- Claudeの応答 -------------------------------------\")\n",
        "print(get_completion(PROMPT, prefill=PREFILL))"
      ]
    },
    {
      "cell_type": "code",
      "execution_count": null,
      "metadata": {
        "tags": []
      },
      "outputs": [],
      "source": [
        "# 最初の入力変数\n",
        "EMAIL = \"Hi Zack, just pinging you for a quick update on that prompt you were supposed to write.\"\n",
        "\n",
        "# 2番目の入力変数\n",
        "ADJECTIVE = \"olde english\"\n",
        "\n",
        "# 変数の内容のためのプレースホルダーを持つプロンプトテンプレート\n",
        "PROMPT = f\"Hey Claude. Here is an email: <email>{EMAIL}</email>. Make this email more {ADJECTIVE}. Write the new version in <{ADJECTIVE}_email> XML tags.\"\n",
        "\n",
        "# Claudeの応答のためのプレフィル（今は変数を持つf-stringとして）\n",
        "PREFILL = f\"<{ADJECTIVE}_email>\"\n",
        "\n",
        "# Claudeの応答を出力\n",
        "print(\"--------------------------- 変数置換を含む完全なプロンプト ---------------------------\")\n",
        "print(\"ユーザーのターン\")\n",
        "print(PROMPT)\n",
        "print(\"\\nアシスタントのターン\")\n",
        "print(PREFILL)\n",
        "print(\"\\n------------------------------------- Claudeの応答 -------------------------------------\")\n",
        "print(get_completion(PROMPT, prefill=PREFILL))"
      ]
    }
  ],
  "metadata": {
    "kernelspec": {
      "display_name": "",
      "name": ""
    },
    "language_info": {
      "codemirror_mode": {
        "name": "ipython",
        "version": 3
      },
      "file_extension": ".py",
      "mimetype": "text/x-python",
      "name": "python",
      "nbconvert_exporter": "python",
      "pygments_lexer": "ipython3",
      "version": "3.10.14"
    }
  },
  "nbformat": 4,
  "nbformat_minor": 4
}