{
  "cells": [
    {
      "cell_type": "markdown",
      "metadata": {},
      "source": [
        "# 付録 10.4.3: チャート、グラフ、スライドデッキの操作\n",
        "Claudeは、チャート、グラフ、そして広範なスライドデッキを扱う能力に優れています。使用ケースに応じて、活用したいヒントやコツがいくつかあります。このレシピでは、これらの資料を使用する際のClaudeの一般的なパターンを示します。"
      ]
    },
    {
      "cell_type": "markdown",
      "metadata": {},
      "source": [
        "## チャートとグラフ\n",
        "ほとんどの場合、`claude`を使用してチャートやグラフを扱うのは簡単です。これらを取り込んで`Claude`に渡す方法や、結果を改善するための一般的なヒントを見ていきましょう。"
      ]
    },
    {
      "cell_type": "markdown",
      "metadata": {},
      "source": [
        "### インジェクションとClaude APIの呼び出し\n",
        "Claudeのチャートやグラフを渡す最良の方法は、その視覚機能を活用することです。つまり、チャートやグラフの画像と、それに関するテキストの質問をClaudeに与えます。すべてのバージョンのClaudeは画像を受け入れることができますが、データが多い画像タスクにはSonnetとOpusが推奨モデルです。Sonnetを使用して始めましょう。"
      ]
    },
    {
      "cell_type": "code",
      "execution_count": null,
      "metadata": {},
      "outputs": [],
      "source": [
        "pip install -qUr requirements.txt"
      ]
    },
    {
      "cell_type": "code",
      "execution_count": null,
      "metadata": {},
      "outputs": [],
      "source": [
        "import boto3\n",
        "import json\n",
        "import base64\n",
        "from datetime import datetime\n",
        "from IPython.display import Image\n",
        "from botocore.exceptions import ClientError\n",
        "\n",
        "session = boto3.Session()\n",
        "region = session.region_name\n",
        "\n",
        "# modelId = 'anthropic.claude-3-sonnet-20240229-v1:0'\n",
        "modelId = 'anthropic.claude-3-haiku-20240307-v1:0'\n",
        "\n",
        "print(f'Using modelId: {modelId}')\n",
        "print('Using region: ', region)\n",
        "\n",
        "bedrock_client = boto3.client(service_name = 'bedrock-runtime', region_name = region,)"
      ]
    },
    {
      "cell_type": "code",
      "execution_count": null,
      "metadata": {},
      "outputs": [],
      "source": [
        "def get_completion(messages):\n",
        "    converse_api_params = {\n",
        "        \"modelId\": modelId,\n",
        "        \"messages\": messages,\n",
        "    }\n",
        "    response = bedrock_client.converse(**converse_api_params)\n",
        "    # レスポンスから生成されたテキストコンテンツを抽出します\n",
        "    return response['output']['message']['content'][0]['text']"
      ]
    },
    {
      "cell_type": "code",
      "execution_count": null,
      "metadata": {},
      "outputs": [],
      "source": [
        "# まず、画像が必要です。cvna_2021_annual_report_image.pngにある.png画像を使用します。\n",
        "# 画像を読み込み、base64としてエンコードします。\n",
        "with open(\"./images/reading_charts_graphs/cvna_2021_annual_report_image.png\", \"rb\") as f:\n",
        "    image_file = f.read()\n",
        "\n",
        "# 自分たちでも画像を見てみましょう\n",
        "Image(filename='./images/reading_charts_graphs/cvna_2021_annual_report_image.png')"
      ]
    },
    {
      "cell_type": "markdown",
      "metadata": {},
      "source": [
        "この画像をモデルに渡し、シンプルな質問をする方法を見てみましょう。"
      ]
    },
    {
      "cell_type": "code",
      "execution_count": null,
      "metadata": {},
      "outputs": [],
      "source": [
        "messages = [\n",
        "    {\n",
        "        \"role\": 'user',\n",
        "        \"content\": [\n",
        "            {\"text\": \"この画像には何が含まれていますか？一文で答えてください。\"},\n",
        "            {\"image\": {\n",
        "                \"format\": 'png',\n",
        "                \"source\": {\"bytes\": image_file }\n",
        "                },\n",
        "            }\n",
        "        ]\n",
        "    }\n",
        "]\n",
        "\n",
        "print(get_completion(messages))"
      ]
    },
    {
      "cell_type": "markdown",
      "metadata": {},
      "source": [
        "それはとても良いですね！では、さらに有用な質問をしてみましょう。"
      ]
    },
    {
      "cell_type": "code",
      "execution_count": null,
      "metadata": {
        "tags": []
      },
      "outputs": [],
      "source": [
        "questions = [\n",
        "    \"What was CVNA revenue in 2020?\",\n",
        "    \"How many additional markets has Carvana added since 2014?\",\n",
        "    \"What was 2016 revenue per retail unit sold?\"\n",
        "]\n",
        "\n",
        "for index, question in enumerate(questions):\n",
        "    messages = [\n",
        "        {\n",
        "            \"role\": 'user',\n",
        "            \"content\": [\n",
        "                {\"text\": \"この画像には何が含まれていますか？一文で答えてください。\"},\n",
        "                {\"image\": {\n",
        "                    \"format\": 'png',\n",
        "                    \"source\": {\"bytes\": image_file }\n",
        "                    },\n",
        "                }\n",
        "            ]\n",
        "        }\n",
        "    ]\n",
        "    \n",
        "    print(f\"\\n----------質問 {index+1}----------\")\n",
        "    print(get_completion(messages))"
      ]
    },
    {
      "cell_type": "markdown",
      "metadata": {},
      "source": [
        "ご覧のとおり、Claudeはチャートやグラフに関するかなり詳細な質問に答えることができます。しかし、最大限に活用するためのいくつかのヒントやコツがあります。\n",
        "- 時々、Claudeの算数能力が邪魔をすることがあります。上記の3番目の質問をサンプリングすると、算数を間違えて不正確な最終回答を出力することがあることに気付くでしょう。このような間違いを避けるために、Claudeに計算機ツールを提供することを検討してください。\n",
        "- 非常に複雑なチャートやグラフの場合、Claudeに「画像に見えるすべてのデータポイントを最初に説明してください」と尋ねることで、従来のChain of Thoughtで見られるような改善を引き出すことができます。\n",
        "- Claudeは、情報を伝えるために多くの色に依存するチャート、例えば多くのグループを持つグループ化された棒グラフに苦労することがあります。最初にグラフの色をHEXコードを使って特定するようにClaudeに頼むことで、その精度を向上させることができます。"
      ]
    },
    {
      "cell_type": "markdown",
      "metadata": {},
      "source": [
        "## スライドデッキ\n",
        "Claudeがチャートやグラフの達人であることがわかった今、チャートやグラフの真のホームであるスライドデッキにそれを拡張するのは理にかなっています！\n",
        "\n",
        "スライドは、金融サービスを含む多くの分野にとって重要な情報源です。スライドデッキからテキストを抽出するためにPyPDFのようなパッケージを使用することは*できます*が、チャートやグラフが多い性質のため、モデルが実際に必要な情報にアクセスするのが難しくなるため、これはあまり良い選択肢ではありません。その結果、Visionは素晴らしい代替手段となることがあります。このセクションでは、vision Claudeを使用してスライドデッキをレビューする方法と、このアプローチの一般的な落とし穴に対処する方法について説明します。"
      ]
    },
    {
      "cell_type": "markdown",
      "metadata": {},
      "source": [
        "典型的なスライドデッキを`claude`に取り込む最良の方法は、それをPDFとしてダウンロードし、次に各PDFページを画像に変換することです。これを達成する方法は以下の通りです。"
      ]
    },
    {
      "cell_type": "code",
      "execution_count": null,
      "metadata": {
        "tags": []
      },
      "outputs": [],
      "source": [
        "#%pip install PyMuPDF"
      ]
    },
    {
      "cell_type": "code",
      "execution_count": null,
      "metadata": {
        "tags": []
      },
      "outputs": [],
      "source": [
        "from PIL import Image\n",
        "import io\n",
        "import fitz\n",
        "\n",
        "def pdf_to_pngs(pdf_path, quality=75, max_size=(1024, 1024)):\n",
        "    \"\"\"\n",
        "    PDFファイルをPNG画像のリストに変換します。\n",
        "\n",
        "    Args:\n",
        "        pdf_path (str): PDFファイルへのパス。\n",
        "        quality (int, optional): 出力PNG画像の品質（デフォルトは75）。\n",
        "        max_size (tuple, optional): 出力画像の最大サイズ（デフォルトは(1024, 1024)）。\n",
        "\n",
        "    Returns:\n",
        "        list: バイトとしてのPNG画像のリスト。\n",
        "    \"\"\"\n",
        "    # PDFファイルを開く\n",
        "    doc = fitz.open(pdf_path)\n",
        "    pdf_to_png_images = []\n",
        "\n",
        "    # PDFの各ページを反復処理\n",
        "    for page_num in range(doc.page_count):\n",
        "        # ページを読み込む\n",
        "        page = doc.load_page(page_num)\n",
        "\n",
        "        # ページをPNG画像としてレンダリング\n",
        "        pix = page.get_pixmap(matrix=fitz.Matrix(300/72, 300/72))\n",
        "\n",
        "        # PNG画像を保存\n",
        "        output_path = f\"./images/reading_charts_graphs/slides/page_{page_num+1}.png\"\n",
        "        pix.save(output_path)\n",
        "\n",
        "        # PILを使用して保存した画像を開く\n",
        "        image = Image.open(output_path)\n",
        "\n",
        "        # 画像が最大サイズを超える場合はリサイズ\n",
        "        if image.size[0] > max_size[0] or image.size[1] > max_size[1]:\n",
        "            image.thumbnail(max_size, Image.Resampling.LANCZOS)\n",
        "\n",
        "        # PIL画像をバイトに変換\n",
        "        image_data = io.BytesIO()\n",
        "        image.save(image_data, format='PNG', optimize=True, quality=quality)\n",
        "        image_data.seek(0)\n",
        "        pdf_to_png_image = image_data.getvalue()\n",
        "\n",
        "        # PNG画像のバイトをリストに追加\n",
        "        pdf_to_png_images.append(pdf_to_png_image)\n",
        "\n",
        "    # PDFドキュメントを閉じる\n",
        "    doc.close()\n",
        "\n",
        "    return pdf_to_png_images\n",
        "\n",
        "# PDFファイルへのパスを指定\n",
        "pdf_path = './images/reading_charts_graphs/twilio_q4_2023.pdf'\n",
        "# pdf_to_pngs関数を呼び出してPDFをPNG画像に変換\n",
        "pdf_pngs = pdf_to_pngs(pdf_path)"
      ]
    },
    {
      "cell_type": "code",
      "execution_count": null,
      "metadata": {
        "tags": []
      },
      "outputs": [],
      "source": [
        "# 最初の20枚の画像を一度にClaudeに渡し、デッキについて質問します。\n",
        "# なぜ20枚なのか？現在、Anthropic APIは最大20枚の画像を渡すことしか許可していません。\n",
        "# この数は時間とともに増える可能性がありますが、後でこのレシピで管理するための役立つヒントがあります。\n",
        "\n",
        "content = [{\"image\": {\"format\": 'png', \"source\": {\"bytes\": pdf_png}}} for pdf_png in pdf_pngs[:20]]\n",
        "\n",
        "question = \"2023会計年度のTwilioの前年比収益成長率は何でしたか？\"\n",
        "#question = \"非GAAPの粗利益率は何でしたか？\"\n",
        "\n",
        "# 画像に質問を追加します\n",
        "content.append({\"text\": question})\n",
        "\n",
        "messages = [\n",
        "    {\n",
        "        \"role\": 'user',\n",
        "        \"content\": content\n",
        "    }\n",
        "]\n",
        "\n",
        "print(get_completion(messages))"
      ]
    },
    {
      "cell_type": "markdown",
      "metadata": {},
      "source": [
        "このアプローチは始めるのに素晴らしい方法であり、いくつかのユースケースでは最高のパフォーマンスを提供します。しかし、いくつかの制限があります。\n",
        "- 最大20枚の画像しか含めることができません（この制限は今後増やす予定です）\n",
        "- RAGの一部としてスライドコンテンツを使用している場合、埋め込みに画像を導入すると問題が発生する可能性があります\n",
        "\n",
        "幸いなことに、私たちはClaudeの視覚機能を活用して、通常のpdf転写が許可するよりもはるかに高品質なスライドデッキの表現を**テキスト形式**で得ることができます。\n",
        "\n",
        "これを行う最良の方法は、Claudeにデッキを最初から最後まで順番にナレーションさせ、現在のスライドとその前のナレーションを渡すことです。では、見てみましょう。"
      ]
    },
    {
      "cell_type": "code",
      "execution_count": null,
      "metadata": {
        "tags": []
      },
      "outputs": [],
      "source": [
        "# スライドデッキをナレーションするためのプロンプトを作成する2つの関数を定義します。デッキの性質に基づいてこれらのプロンプトを調整しますが、構造は大きく変えません。\n",
        "def build_previous_slides_prompt(previous_slide_narratives):\n",
        "    prompt = '\\n'.join([f\"<slide_narration id={index+1}>\\n{narrative}\\n</slide_narration>\" for index, narrative in enumerate(previous_slide_narratives)])\n",
        "    return prompt\n",
        "\n",
        "def build_slides_narration_prompt(previous_slide_narratives):\n",
        "    if len(previous_slide_narratives) == 0:\n",
        "        prompt = \"\"\"あなたはTwilioのCFOであり、2023年第4四半期の収益プレゼンテーションをナレーションしています。\n",
        "\n",
        "現在、スライド1にいます。画像に表示されています。\n",
        "プレゼンターのようにTwilioの2023年第4四半期の収益プレゼンテーションのこのページをナレーションしてください。意味が正確にわからない場合は、特に略語については話さないでください。このスライドに明示的に表示されていないことについては議論しないでください。後でその資料をカバーする可能性のあるスライドがさらにあります。\n",
        "視覚障害のある視聴者がいるため、詳細をナレーションしないと、数字を知らないことになりますので、すべての数字をナレーションしてください。\n",
        "\n",
        "ナレーションを<narration>タグに入れてください。\"\"\"\n",
        "\n",
        "    else:\n",
        "        prompt = f\"\"\"あなたはTwilioのCFOであり、2023年第4四半期の収益プレゼンテーションをナレーションしています。これまでのスライドからのナレーションは以下の通りです：\n",
        "<previous_slide_narrations>\n",
        "{build_previous_slides_prompt(previous_slide_narratives)}\n",
        "</previous_slide_narrations>\n",
        "\n",
        "現在、スライド{len(previous_slide_narratives)+1}にいます。画像に表示されています。\n",
        "プレゼンターのようにTwilioの2023年第4四半期の収益プレゼンテーションのこのページをナレーションしてください。これまでのスライドで言ったことを考慮してください。意味が正確にわからない場合は、特に略語については話さないでください。このスライドに明示的に表示されていないことについては議論しないでください。後でその資料をカバーする可能性のあるスライドがさらにあります。\n",
        "視覚障害のある視聴者がいるため、詳細をナレーションしないと、数字を知らないことになりますので、すべての数字をナレーションしてください。\n",
        "\n",
        "非常に詳細に説明してください。\n",
        "\n",
        "ナレーションを<narration>タグに入れてください。\"\"\"\n",
        "    \n",
        "    return prompt"
      ]
    },
    {
      "cell_type": "code",
      "execution_count": null,
      "metadata": {
        "tags": []
      },
      "outputs": [],
      "source": [
        "# 今、私たちは関数を使用して全体のデッキをナレーションします。これを実行するのに数分かかる場合があります（しばしば最大10分）。\n",
        "import re\n",
        "from tqdm import tqdm\n",
        "previous_slide_narratives = []\n",
        "for i, pdf_png in tqdm(enumerate(pdf_pngs)):\n",
        "    messages = [\n",
        "        {\n",
        "            \"role\": 'user',\n",
        "            \"content\": [\n",
        "                {\"text\": build_slides_narration_prompt(previous_slide_narratives)},\n",
        "                {\"image\": {\n",
        "                    \"format\": 'jpeg',\n",
        "                    \"source\": {\"bytes\": pdf_png }\n",
        "                    },\n",
        "                }\n",
        "            ]\n",
        "        }\n",
        "    ]\n",
        "    completion = get_completion(messages)\n",
        "\n",
        "\n",
        "    pattern = r\"<narration>(.*?)</narration>\"\n",
        "    match = re.search(pattern, completion.strip(), re.DOTALL)\n",
        "    if match:\n",
        "        narration = match.group(1)\n",
        "    else:\n",
        "        raise ValueError(\"ナレーションが利用できません。\")\n",
        "    \n",
        "    previous_slide_narratives.append(narration)\n",
        "    # 生成したナレーションを見たい場合は、以下の行のコメントを外してください\n",
        "    # print(narration)\n",
        "\n",
        "slide_narration = build_previous_slides_prompt(previous_slide_narratives)"
      ]
    },
    {
      "cell_type": "markdown",
      "metadata": {},
      "source": [
        "テキストベースのナレーションができたので（完璧ではありませんが、かなり良いです）、このデッキをテキストのみのワークフローで使用する能力があります。ベクター検索を含めて！\n",
        "\n",
        "最終的な確認として、ナレーションのみのセットアップにいくつかの質問をしてみましょう！"
      ]
    },
    {
      "cell_type": "code",
      "execution_count": null,
      "metadata": {
        "tags": []
      },
      "outputs": [],
      "source": [
        "questions = [\n",
        "    \"What percentage of q4 total revenue was the Segment business line?\",\n",
        "    \"Has the rate of growth of quarterly revenue been increasing or decreasing? Give just an answer.\",\n",
        "    \"What was acquisition revenue for the year ended december 31, 2023 (including negative revenues)?\"\n",
        "]\n",
        "\n",
        "for index, question in enumerate(questions):\n",
        "    prompt = f\"\"\"You are an expert financial analyst analyzing a transcript of Twilio's earnings call.\n",
        "Here is the transcript:\n",
        "<transcript>\n",
        "{slide_narration}\n",
        "</transcript>\n",
        "\n",
        "Please answer the following question:\n",
        "<question>\n",
        "{question}\n",
        "</question>\"\"\"\n",
        "    messages = [\n",
        "        {\n",
        "            \"role\": 'user',\n",
        "            \"content\": [\n",
        "                {\"text\": prompt},\n",
        "            ]\n",
        "        }\n",
        "    ]\n",
        "\n",
        "    print(f\"\\n----------質問 {index+1}----------\")\n",
        "    print(get_completion(messages))"
      ]
    },
    {
      "cell_type": "markdown",
      "metadata": {},
      "source": [
        "これらの技術を駆使すれば、スライドデッキのようなチャートやグラフが多いコンテンツにモデルを適用する準備が整います。"
      ]
    }
  ],
  "metadata": {
    "kernelspec": {
      "display_name": "conda_python3",
      "language": "python",
      "name": "conda_python3"
    },
    "language_info": {
      "codemirror_mode": {
        "name": "ipython",
        "version": 3
      },
      "file_extension": ".py",
      "mimetype": "text/x-python",
      "name": "python",
      "nbconvert_exporter": "python",
      "pygments_lexer": "ipython3",
      "version": "3.10.14"
    }
  },
  "nbformat": 4,
  "nbformat_minor": 4
}