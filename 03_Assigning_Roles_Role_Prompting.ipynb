{
  "cells": [
    {
      "cell_type": "markdown",
      "metadata": {},
      "source": [
        "# 第3章: 役割の割り当て (ロールプロンプティング)\n",
        "\n",
        "- [レッスン](#lesson)\n",
        "- [演習](#exercises)\n",
        "- [例のプレイグラウンド](#example-playground)\n",
        "\n",
        "## セットアップ\n",
        "\n",
        "次のセットアップセルを実行して、APIキーをロードし、`get_completion`ヘルパー関数を確立します。"
      ]
    },
    {
      "cell_type": "code",
      "execution_count": null,
      "metadata": {
        "tags": []
      },
      "outputs": [],
      "source": [
        "# Pythonの組み込み正規表現ライブラリをインポート\n",
        "import re\n",
        "import boto3\n",
        "from botocore.exceptions import ClientError\n",
        "import json\n",
        "\n",
        "# utilsパッケージからhintsモジュールをインポート\n",
        "from utils import hints\n",
        "\n",
        "# IPythonストアからMODEL_NAME変数を取得\n",
        "%store -r modelId\n",
        "%store -r region\n",
        "\n",
        "bedrock_client = boto3.client(service_name='bedrock-runtime', region_name=region)"
      ]
    },
    {
      "cell_type": "code",
      "execution_count": null,
      "metadata": {},
      "outputs": [],
      "source": [
        "def get_completion(prompt, system_prompt=None):\n",
        "    # 推論設定\n",
        "    inference_config = {\n",
        "        \"temperature\": 0.0,\n",
        "        \"maxTokens\": 500\n",
        "    }\n",
        "    # 会話APIパラメータ\n",
        "    converse_api_params = {\n",
        "        \"modelId\": modelId,\n",
        "        \"messages\": [{\"role\": \"user\", \"content\": [{\"text\": prompt}]}],\n",
        "        \"inferenceConfig\": inference_config\n",
        "    }\n",
        "    if system_prompt:\n",
        "        converse_api_params[\"system\"] = [{\"text\": system_prompt}]\n",
        "    try:\n",
        "        response = bedrock_client.converse(**converse_api_params)\n",
        "        text_content = response['output']['message']['content'][0]['text']\n",
        "        return text_content\n",
        "\n",
        "    except ClientError as err:\n",
        "        message = err.response['Error']['Message']\n",
        "        print(f\"クライアントエラーが発生しました: {message}\")"
      ]
    },
    {
      "cell_type": "markdown",
      "metadata": {},
      "source": [
        "---\n",
        "\n",
        "## レッスン\n",
        "\n",
        "Claudeがあなたの言うこと以外に文脈を持たないというテーマを続けると、時には**Claudeに特定の役割を持たせる（必要な文脈をすべて含む）ことが重要です**。これは役割プロンプティングとも呼ばれます。役割の文脈に詳細を加えるほど、より良い結果が得られます。\n",
        "\n",
        "**役割でClaudeをプライミングすることで、Claudeのパフォーマンスを向上させることができます**。これは、執筆からコーディング、要約に至るまで、さまざまな分野で効果があります。人間が「______のように考える」と言われると助けられることがあるのと似ています。役割プロンプティングは、Claudeの応答のスタイル、トーン、方法を変えることもできます。\n",
        "\n",
        "**注意:** 役割プロンプティングは、システムプロンプト内で行われるか、ユーザーメッセージのターンの一部として行われることがあります。"
      ]
    },
    {
      "cell_type": "markdown",
      "metadata": {},
      "source": [
        "### 例\n",
        "\n",
        "以下の例では、役割プロンプトなしで、Claudeがスケートボードについての一文の視点を求められたとき、**率直でスタイルのない回答**を提供することがわかります。\n",
        "\n",
        "しかし、Claudeに猫の役割を持たせると、Claudeの視点が変わり、したがって**Claudeの応答のトーン、スタイル、内容が新しい役割に適応します**。\n",
        "\n",
        "**注意:** 使用できるボーナステクニックは、**Claudeにその意図された聴衆についてのコンテキストを提供すること**です。以下のように、プロンプトを調整して、Claudeが誰に話すべきかを伝えることもできます。「あなたは猫です」は「あなたはスケートボーダーの群衆に話している猫です」とはかなり異なる応答を生み出します。\n",
        "\n",
        "ここに、システムプロンプトでの役割プロンプトなしのプロンプトがあります:"
      ]
    },
    {
      "cell_type": "code",
      "execution_count": null,
      "metadata": {},
      "outputs": [],
      "source": [
        "# プロンプト\n",
        "PROMPT = \"In one sentence, what do you think about skateboarding?\"\n",
        "\n",
        "# Claudeの応答を出力します\n",
        "print(get_completion(PROMPT))"
      ]
    },
    {
      "cell_type": "markdown",
      "metadata": {},
      "source": [
        "# ステップ\n",
        "1. 提供されたマークダウンテキストを読み、プロンプトエンジニアリングの側面について議論します。\n",
        "2. ドメイン固有の英語の用語、技術用語、およびバッククォート（`）で囲まれた用語を特定し、それらは英語のままにします。\n",
        "3. 残りのテキストを日本語に翻訳し、意味が保持されるようにします。\n",
        "\n",
        "# 注意\n",
        "忠実に翻訳することに集中し、余分な出力やコメントを追加しないでください。\n",
        "\n",
        "# 出力形式\n",
        "指定された英語の用語をそのまま維持しながら、日本語で翻訳されたテキストを提供します。"
      ]
    },
    {
      "cell_type": "code",
      "execution_count": null,
      "metadata": {},
      "outputs": [],
      "source": [
        "# System prompt\n",
        "SYSTEM_PROMPT = \"あなたは猫です。\"\n",
        "\n",
        "# Prompt\n",
        "PROMPT = \"一文で、スケートボードについてどう思いますか？\"\n",
        "\n",
        "# Print Claude's response\n",
        "print(get_completion(PROMPT, SYSTEM_PROMPT))"
      ]
    },
    {
      "cell_type": "markdown",
      "metadata": {},
      "source": [
        "ロールプロンプティングを使用することで、Claudeに特定のスタイルで書かせたり、特定の声で話させたり、回答の複雑さを調整させたりすることができます。**ロールプロンプティングは、Claudeが数学や論理タスクをより良く実行するのにも役立ちます。**\n",
        "\n",
        "例えば、以下の例では、明確な正解があり、それは「はい」です。しかし、Claudeはそれを間違えて情報が不足していると思い込んでいますが、実際には不足していません。"
      ]
    },
    {
      "cell_type": "code",
      "execution_count": null,
      "metadata": {},
      "outputs": [],
      "source": [
        "# プロンプト\n",
        "PROMPT = \"Jack is looking at Anne. Anne is looking at George. Jack is married, George is not, and we don’t know if Anne is married. Is a married person looking at an unmarried person?\"\n",
        "\n",
        "# Claudeの応答を出力します\n",
        "print(get_completion(PROMPT))"
      ]
    },
    {
      "cell_type": "markdown",
      "metadata": {},
      "source": [
        "今、もし私たちが**Claudeを論理ボットとしてプライミングしたら**、それはClaudeの回答にどのように影響するでしょうか？\n",
        "\n",
        "この新しい役割の割り当てによって、Claudeは正しい答えを出すことがわかりました。（ただし、すべての正しい理由からではないことは注目に値します）"
      ]
    },
    {
      "cell_type": "code",
      "execution_count": null,
      "metadata": {},
      "outputs": [],
      "source": [
        "# System prompt\n",
        "SYSTEM_PROMPT = \"あなたは複雑な論理問題に答えるために設計された論理ボットです。\"\n",
        "\n",
        "# Prompt\n",
        "PROMPT = \"ジャックはアンを見ています。アンはジョージを見ています。ジャックは結婚していて、ジョージは結婚していませんが、アンが結婚しているかどうかはわかりません。結婚している人が結婚していない人を見ていますか？\"\n",
        "\n",
        "# Print Claude's response\n",
        "print(get_completion(PROMPT, SYSTEM_PROMPT))"
      ]
    },
    {
      "cell_type": "markdown",
      "metadata": {},
      "source": [
        "**注意:** このコースを通じて学ぶことは、**似たような結果を導き出すために使用できる多くのプロンプトエンジニアリング技術がある**ということです。どの技術を使用するかはあなたとあなたの好みによります！自分自身のプロンプトエンジニアリングスタイルを見つけるために、**実験することをお勧めします**。\n",
        "\n",
        "上記のコンテンツを変更せずにレッスンのプロンプトを実験したい場合は、レッスンノートブックの一番下までスクロールして、[**Example Playground**](#example-playground)を訪れてください。"
      ]
    },
    {
      "cell_type": "markdown",
      "metadata": {},
      "source": [
        "---\n",
        "\n",
        "## 演習\n",
        "- [演習 3.1 - 数学の修正](#exercise-31---math-correction)"
      ]
    },
    {
      "cell_type": "markdown",
      "metadata": {},
      "source": [
        "### 演習 3.1 - 数学の修正\n",
        "場合によっては、**Claudeは数学に苦労することがあります**、たとえそれが簡単な数学であっても。以下では、Claudeが数学の問題を正しく解決したと誤って評価していますが、2番目のステップに明らかな算術の間違いがあります。Claudeは実際にはステップごとに進む際にその間違いを見つけますが、全体の解決策が間違っているという結論には至りません。\n",
        "\n",
        "`PROMPT`および/または`SYSTEM_PROMPT`を修正して、Claudeが解決策を正しく解決したのではなく、`incorrectly`解決したと評価するようにしてください。"
      ]
    },
    {
      "cell_type": "code",
      "execution_count": null,
      "metadata": {},
      "outputs": [],
      "source": [
        "# System prompt - if you don't want to use a system prompt, you can leave this variable set to an empty string\n",
        "SYSTEM_PROMPT = \"\"\n",
        "\n",
        "# Prompt\n",
        "PROMPT = \"\"\"この方程式は正しく解かれていますか？\n",
        "\n",
        "2x - 3 = 9\n",
        "2x = 6\n",
        "x = 3\"\"\"\n",
        "\n",
        "# Get Claude's response\n",
        "response = get_completion(PROMPT, SYSTEM_PROMPT)\n",
        "\n",
        "# Function to grade exercise correctness\n",
        "def grade_exercise(text):\n",
        "    if \"incorrect\" in text or \"not correct\" in text.lower():\n",
        "        return True\n",
        "    else:\n",
        "        return False\n",
        "\n",
        "# Print Claude's response and the corresponding grade\n",
        "print(response)\n",
        "print(\"\\n--------------------------- GRADING ---------------------------\")\n",
        "print(\"この演習は正しく解かれました:\", grade_exercise(response))"
      ]
    },
    {
      "cell_type": "markdown",
      "metadata": {},
      "source": [
        "ヒントが必要な場合は、以下のセルを実行してください！"
      ]
    },
    {
      "cell_type": "code",
      "execution_count": null,
      "metadata": {},
      "outputs": [],
      "source": [
        "print(hints.exercise_3_1_hint)"
      ]
    },
    {
      "cell_type": "markdown",
      "metadata": {},
      "source": [
        "### おめでとうございます！\n",
        "\n",
        "ここまでのすべての演習を解決した場合、次の章に進む準備が整いました。楽しいプロンプト作成を！"
      ]
    },
    {
      "cell_type": "markdown",
      "metadata": {},
      "source": [
        "---\n",
        "\n",
        "## 例のプレイグラウンド\n",
        "\n",
        "これは、このレッスンで示されたプロンプトの例を自由に実験し、プロンプトを調整してClaudeの応答にどのように影響するかを見るためのエリアです。"
      ]
    },
    {
      "cell_type": "code",
      "execution_count": null,
      "metadata": {},
      "outputs": [],
      "source": [
        "# プロンプト\n",
        "PROMPT = \"In one sentence, what do you think about skateboarding?\"\n",
        "\n",
        "# Claudeの応答を出力します\n",
        "print(get_completion(PROMPT))"
      ]
    },
    {
      "cell_type": "code",
      "execution_count": null,
      "metadata": {},
      "outputs": [],
      "source": [
        "# System prompt\n",
        "SYSTEM_PROMPT = \"あなたは猫です。\"\n",
        "\n",
        "# Prompt\n",
        "PROMPT = \"一文で、スケートボードについてどう思いますか？\"\n",
        "\n",
        "# Print Claude's response\n",
        "print(get_completion(PROMPT, SYSTEM_PROMPT))"
      ]
    },
    {
      "cell_type": "code",
      "execution_count": null,
      "metadata": {},
      "outputs": [],
      "source": [
        "# プロンプト\n",
        "PROMPT = \"Jack is looking at Anne. Anne is looking at George. Jack is married, George is not, and we don’t know if Anne is married. Is a married person looking at an unmarried person?\"\n",
        "\n",
        "# Claudeの応答を出力します\n",
        "print(get_completion(PROMPT))"
      ]
    },
    {
      "cell_type": "code",
      "execution_count": null,
      "metadata": {
        "tags": []
      },
      "outputs": [],
      "source": [
        "# System prompt\n",
        "SYSTEM_PROMPT = \"あなたは複雑な論理問題に答えるために設計された論理ボットです。\"\n",
        "\n",
        "# Prompt\n",
        "PROMPT = \"ジャックはアンを見ています。アンはジョージを見ています。ジャックは結婚していて、ジョージは結婚していませんが、アンが結婚しているかどうかはわかりません。結婚している人が結婚していない人を見ていますか？\"\n",
        "\n",
        "# Print Claude's response\n",
        "print(get_completion(PROMPT, SYSTEM_PROMPT))"
      ]
    }
  ],
  "metadata": {
    "kernelspec": {
      "display_name": "",
      "name": ""
    },
    "language_info": {
      "codemirror_mode": {
        "name": "ipython",
        "version": 3
      },
      "file_extension": ".py",
      "mimetype": "text/x-python",
      "name": "python",
      "nbconvert_exporter": "python",
      "pygments_lexer": "ipython3",
      "version": "3.10.14"
    }
  },
  "nbformat": 4,
  "nbformat_minor": 4
}