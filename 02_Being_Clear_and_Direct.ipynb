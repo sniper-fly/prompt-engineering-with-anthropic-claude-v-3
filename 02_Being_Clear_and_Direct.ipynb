{
  "cells": [
    {
      "cell_type": "markdown",
      "metadata": {},
      "source": [
        "# 第2章: 明確で直接的であること\n",
        "\n",
        "- [レッスン](#lesson)\n",
        "- [演習](#exercises)\n",
        "- [例のプレイグラウンド](#example-playground)\n",
        "\n",
        "## セットアップ\n",
        "\n",
        "次のセットアップセルを実行して、APIキーをロードし、`get_completion`ヘルパー関数を確立します。"
      ]
    },
    {
      "cell_type": "code",
      "execution_count": null,
      "metadata": {
        "tags": []
      },
      "outputs": [],
      "source": [
        "# Pythonの組み込み正規表現ライブラリをインポート\n",
        "import re\n",
        "import boto3\n",
        "from botocore.exceptions import ClientError\n",
        "import json\n",
        "\n",
        "# utilsパッケージからhintsモジュールをインポート\n",
        "from utils import hints\n",
        "\n",
        "# IPythonストアからMODEL_NAME変数を取得\n",
        "%store -r modelId\n",
        "%store -r region\n",
        "\n",
        "bedrock_client = boto3.client(service_name='bedrock-runtime', region_name=region)"
      ]
    },
    {
      "cell_type": "code",
      "execution_count": null,
      "metadata": {},
      "outputs": [],
      "source": [
        "def get_completion(prompt, system_prompt=None):\n",
        "    inference_config = {\n",
        "        \"temperature\": 0.0,\n",
        "        \"maxTokens\": 3000\n",
        "    }\n",
        "    additional_model_fields = {\n",
        "        \"top_p\": 1\n",
        "    }\n",
        "    converse_api_params = {\n",
        "        \"modelId\": modelId,\n",
        "        \"messages\": [{\"role\": \"user\", \"content\": [{\"text\": prompt}]}],\n",
        "        \"inferenceConfig\": inference_config,\n",
        "        \"additionalModelRequestFields\": additional_model_fields\n",
        "    }\n",
        "    if system_prompt:\n",
        "        converse_api_params[\"system\"] = [{\"text\": system_prompt}]\n",
        "    try:\n",
        "        response = bedrock_client.converse(**converse_api_params)\n",
        "        text_content = response['output']['message']['content'][0]['text']\n",
        "        return text_content\n",
        "\n",
        "    except ClientError as err:\n",
        "        message = err.response['Error']['Message']\n",
        "        print(f\"クライアントエラーが発生しました: {message}\")"
      ]
    },
    {
      "cell_type": "markdown",
      "metadata": {},
      "source": [
        "---\n",
        "\n",
        "## レッスン\n",
        "\n",
        "**Claudeは明確で直接的な指示に最もよく反応します。**\n",
        "\n",
        "Claudeを新しい仕事を始めた他の人のように考えてください。**Claudeは何をすべきかについての文脈を持っていません**。あなたが文字通り伝えること以外には。人に初めてタスクを指示する時と同じように、Claudeに対してあなたが望むことを明確に説明すればするほど、Claudeの反応はより良く、より正確になります。\n",
        "\n",
        "疑問がある場合は、**明確なプロンプトの黄金ルール**に従ってください：\n",
        "- あなたのプロンプトを同僚や友人に見せて、彼ら自身が指示に従って結果を出せるかどうかを確認してください。もし彼らが混乱しているなら、Claudeも混乱しています。"
      ]
    },
    {
      "cell_type": "markdown",
      "metadata": {},
      "source": [
        "### 例\n",
        "\n",
        "詩を書くというタスクを考えてみましょう。（音節の不一致は無視してください - LLMはまだ音節を数えるのが得意ではありません。）"
      ]
    },
    {
      "cell_type": "code",
      "execution_count": null,
      "metadata": {
        "tags": []
      },
      "outputs": [],
      "source": [
        "# プロンプト\n",
        "PROMPT = \"Write a haiku about robots.\"\n",
        "\n",
        "# Claudeの応答を出力します\n",
        "print(get_completion(PROMPT))"
      ]
    },
    {
      "cell_type": "markdown",
      "metadata": {},
      "source": [
        "この俳句は十分に素敵ですが、ユーザーは「ここに俳句があります」という前置きなしに、Claudeに直接詩に入ってほしいかもしれません。\n",
        "\n",
        "それをどうやって実現しますか？私たちは**それを頼みます**！"
      ]
    },
    {
      "cell_type": "code",
      "execution_count": null,
      "metadata": {},
      "outputs": [],
      "source": [
        "# プロンプト\n",
        "PROMPT = \"ロボットについての俳句を書いてください。前置きは省略し、詩に直接入ってください。\"\n",
        "\n",
        "# クロードの応答を出力\n",
        "print(get_completion(PROMPT))"
      ]
    },
    {
      "cell_type": "markdown",
      "metadata": {},
      "source": [
        "以下の例を見てみましょう。クロードに「史上最高のバスケットボール選手は誰か」と尋ねてみましょう。下に示すように、クロードはいくつかの名前を挙げていますが、**明確な「最高」とは答えていません**。"
      ]
    },
    {
      "cell_type": "code",
      "execution_count": null,
      "metadata": {},
      "outputs": [],
      "source": [
        "# プロンプト\n",
        "PROMPT = \"Who is the best basketball player of all time?\"\n",
        "\n",
        "# Claudeの応答を出力します\n",
        "print(get_completion(PROMPT))"
      ]
    },
    {
      "cell_type": "markdown",
      "metadata": {},
      "source": [
        "クラウドに決断を下して最優秀選手を選んでもらうことはできますか？はい！ただ聞いてみてください！"
      ]
    },
    {
      "cell_type": "code",
      "execution_count": null,
      "metadata": {},
      "outputs": [],
      "source": [
        "# プロンプト\n",
        "PROMPT = \"Who is the best basketball player of all time? Yes, there are differing opinions, but if you absolutely had to pick one player, who would it be?\"\n",
        "\n",
        "# Claudeの応答を出力します\n",
        "print(get_completion(PROMPT))"
      ]
    },
    {
      "cell_type": "markdown",
      "metadata": {},
      "source": [
        "内容を変更せずにレッスンのプロンプトを試したい場合は、レッスンノートブックの一番下までスクロールして、[**Example Playground**](#example-playground)にアクセスしてください。"
      ]
    },
    {
      "cell_type": "markdown",
      "metadata": {},
      "source": [
        "---\n",
        "\n",
        "## 演習\n",
        "- [演習 2.1 - スペイン語](#exercise-21---spanish)\n",
        "- [演習 2.2 - 一人プレイヤーのみ](#exercise-22---one-player-only)\n",
        "- [演習 2.3 - 物語を書く](#exercise-23---write-a-story)"
      ]
    },
    {
      "cell_type": "markdown",
      "metadata": {},
      "source": [
        "### 演習 2.1 - スペイン語\n",
        "`SYSTEM_PROMPT`を修正して、Claudeがその回答をスペイン語で出力するようにします。"
      ]
    },
    {
      "cell_type": "code",
      "execution_count": null,
      "metadata": {},
      "outputs": [],
      "source": [
        "# System prompt - this is the only field you should chnage\n",
        "SYSTEM_PROMPT = \"[このテキストを置き換えてください]\"\n",
        "\n",
        "# Prompt\n",
        "PROMPT = \"Hello Claude, how are you?\"\n",
        "\n",
        "# Get Claude's response\n",
        "response = get_completion(PROMPT, SYSTEM_PROMPT)\n",
        "\n",
        "# Function to grade exercise correctness\n",
        "def grade_exercise(text):\n",
        "    return \"hola\" in text.lower()\n",
        "\n",
        "# Print Claude's response and the corresponding grade\n",
        "print(response)\n",
        "print(\"\\n--------------------------- GRADING ---------------------------\")\n",
        "print(\"この演習は正しく解決されました:\", grade_exercise(response))"
      ]
    },
    {
      "cell_type": "markdown",
      "metadata": {},
      "source": [
        "ヒントが必要な場合は、以下のセルを実行してください！"
      ]
    },
    {
      "cell_type": "code",
      "execution_count": null,
      "metadata": {},
      "outputs": [],
      "source": [
        "print(hints.exercise_2_1_hint)"
      ]
    },
    {
      "cell_type": "markdown",
      "metadata": {},
      "source": [
        "### 演習 2.2 - 一人プレイヤーのみ\n",
        "\n",
        "`PROMPT`を修正して、Claudeが全く曖昧さを持たず、**他の言葉や句読点なしで**、特定の一人のプレイヤーの名前だけを返すようにします。"
      ]
    },
    {
      "cell_type": "code",
      "execution_count": null,
      "metadata": {},
      "outputs": [],
      "source": [
        "# Prompt - これは変更すべき唯一のフィールドです\n",
        "PROMPT = \"[このテキストを置き換えてください]\"\n",
        "\n",
        "# Claudeの応答を取得\n",
        "response = get_completion(PROMPT)\n",
        "\n",
        "# 演習の正確さを評価する関数\n",
        "def grade_exercise(text):\n",
        "    return text == \"Michael Jordan\"\n",
        "\n",
        "# Claudeの応答と対応する評価を出力\n",
        "print(response)\n",
        "print(\"\\n--------------------------- 評価 ---------------------------\")\n",
        "print(\"この演習は正しく解決されました:\", grade_exercise(response))"
      ]
    },
    {
      "cell_type": "markdown",
      "metadata": {},
      "source": [
        "ヒントが必要な場合は、以下のセルを実行してください！"
      ]
    },
    {
      "cell_type": "code",
      "execution_count": null,
      "metadata": {},
      "outputs": [],
      "source": [
        "print(hints.exercise_2_2_hint)"
      ]
    },
    {
      "cell_type": "markdown",
      "metadata": {},
      "source": [
        "### 演習 2.3 - 物語を書く\n",
        "\n",
        "`PROMPT`を修正して、Claudeができるだけ長い回答をするようにしてください。あなたの回答が**800語を超える**場合、Claudeの回答は正しいと評価されます。"
      ]
    },
    {
      "cell_type": "code",
      "execution_count": null,
      "metadata": {},
      "outputs": [],
      "source": [
        "# Prompt - これは変更すべき唯一のフィールドです\n",
        "PROMPT = \"[Replace this text]\"\n",
        "\n",
        "# Claudeの応答を取得\n",
        "response = get_completion(PROMPT)\n",
        "\n",
        "# 演習の正確さを評価する関数\n",
        "def grade_exercise(text):\n",
        "    trimmed = text.strip()\n",
        "    words = len(trimmed.split())\n",
        "    return words >= 800\n",
        "\n",
        "# Claudeの応答と対応する評価を出力\n",
        "print(response)\n",
        "print(\"\\n--------------------------- 評価 ---------------------------\")\n",
        "print(\"この演習は正しく解決されました:\", grade_exercise(response))"
      ]
    },
    {
      "cell_type": "markdown",
      "metadata": {},
      "source": [
        "ヒントが必要な場合は、以下のセルを実行してください！"
      ]
    },
    {
      "cell_type": "code",
      "execution_count": null,
      "metadata": {},
      "outputs": [],
      "source": [
        "print(hints.exercise_2_3_hint)"
      ]
    },
    {
      "cell_type": "markdown",
      "metadata": {},
      "source": [
        "### おめでとうございます！\n",
        "\n",
        "ここまでのすべての演習を解決した場合、次の章に進む準備が整いました。楽しいプロンプト作成を！"
      ]
    },
    {
      "cell_type": "markdown",
      "metadata": {},
      "source": [
        "---\n",
        "\n",
        "## 例のプレイグラウンド\n",
        "\n",
        "これは、このレッスンで示されたプロンプトの例を自由に実験し、プロンプトを調整してClaudeの応答にどのように影響するかを見るためのエリアです。"
      ]
    },
    {
      "cell_type": "code",
      "execution_count": null,
      "metadata": {},
      "outputs": [],
      "source": [
        "# プロンプト\n",
        "PROMPT = \"Write a haiku about robots.\"\n",
        "\n",
        "# Claudeの応答を出力します\n",
        "print(get_completion(PROMPT))"
      ]
    },
    {
      "cell_type": "code",
      "execution_count": null,
      "metadata": {},
      "outputs": [],
      "source": [
        "# プロンプト\n",
        "PROMPT = \"ロボットについての俳句を書いてください。前置きは省略し、詩に直接入ってください。\"\n",
        "\n",
        "# クロードの応答を出力\n",
        "print(get_completion(PROMPT))"
      ]
    },
    {
      "cell_type": "code",
      "execution_count": null,
      "metadata": {},
      "outputs": [],
      "source": [
        "# プロンプト\n",
        "PROMPT = \"Who is the best basketball player of all time?\"\n",
        "\n",
        "# Claudeの応答を出力します\n",
        "print(get_completion(PROMPT))"
      ]
    },
    {
      "cell_type": "code",
      "execution_count": null,
      "metadata": {
        "tags": []
      },
      "outputs": [],
      "source": [
        "# プロンプト\n",
        "PROMPT = \"Who is the best basketball player of all time? Yes, there are differing opinions, but if you absolutely had to pick one player, who would it be?\"\n",
        "\n",
        "# Claudeの応答を出力します\n",
        "print(get_completion(PROMPT))"
      ]
    }
  ],
  "metadata": {
    "kernelspec": {
      "display_name": "",
      "name": ""
    },
    "language_info": {
      "codemirror_mode": {
        "name": "ipython",
        "version": 3
      },
      "file_extension": ".py",
      "mimetype": "text/x-python",
      "name": "python",
      "nbconvert_exporter": "python",
      "pygments_lexer": "ipython3",
      "version": "3.10.14"
    }
  },
  "nbformat": 4,
  "nbformat_minor": 4
}