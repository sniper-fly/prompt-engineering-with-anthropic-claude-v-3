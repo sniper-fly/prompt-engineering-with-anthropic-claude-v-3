{
  "cells": [
    {
      "cell_type": "markdown",
      "metadata": {},
      "source": [
        "# 第6章: 予知 (ステップバイステップで考える)\n",
        "\n",
        "- [レッスン](#lesson)\n",
        "- [演習](#exercises)\n",
        "- [例のプレイグラウンド](#example-playground)\n",
        "\n",
        "## セットアップ\n",
        "\n",
        "次のセットアップセルを実行して、APIキーをロードし、`get_completion`ヘルパー関数を確立します。"
      ]
    },
    {
      "cell_type": "code",
      "execution_count": null,
      "metadata": {},
      "outputs": [],
      "source": [
        "# Pythonの組み込み正規表現ライブラリをインポート\n",
        "import re\n",
        "import boto3\n",
        "from botocore.exceptions import ClientError\n",
        "import json\n",
        "\n",
        "# utilsパッケージからhintsモジュールをインポート\n",
        "from utils import hints\n",
        "\n",
        "# IPythonストアからMODEL_NAME変数を取得\n",
        "%store -r modelId\n",
        "%store -r region\n",
        "\n",
        "bedrock_client = boto3.client(service_name='bedrock-runtime', region_name=region)"
      ]
    },
    {
      "cell_type": "code",
      "execution_count": null,
      "metadata": {},
      "outputs": [],
      "source": [
        "def get_completion(prompt, system_prompt=None, prefill=None):\n",
        "    inference_config = {\n",
        "        \"temperature\": 0.0,\n",
        "        \"maxTokens\": 200\n",
        "    }\n",
        "    converse_api_params = {\n",
        "        \"modelId\": modelId,\n",
        "        \"messages\": [{\"role\": \"user\", \"content\": [{\"text\": prompt}]}],\n",
        "        \"inferenceConfig\": inference_config,\n",
        "    }\n",
        "    if system_prompt:\n",
        "        converse_api_params[\"system\"] = [{\"text\": system_prompt}]\n",
        "    if prefill:\n",
        "        converse_api_params[\"messages\"].append({\"role\": \"assistant\", \"content\": [{\"text\": prefill}]})\n",
        "    try:\n",
        "        response = bedrock_client.converse(**converse_api_params)\n",
        "        text_content = response['output']['message']['content'][0]['text']\n",
        "        return text_content\n",
        "\n",
        "    except ClientError as err:\n",
        "        message = err.response['Error']['Message']\n",
        "        print(f\"クライアントエラーが発生しました: {message}\")"
      ]
    },
    {
      "cell_type": "markdown",
      "metadata": {},
      "source": [
        "---\n",
        "\n",
        "## レッスン\n",
        "\n",
        "もし誰かがあなたを起こしてすぐに複雑な質問をいくつか投げかけ、あなたがすぐに答えなければならないとしたら、あなたはどうしますか？おそらく、**最初に自分の答えを考える時間を与えられた場合ほど良くはないでしょう**。\n",
        "\n",
        "なんと、Claudeも同じです。\n",
        "\n",
        "**Claudeに段階的に考える時間を与えることで、特に複雑なタスクにおいて、Claudeの精度が向上することがあります**。しかし、**考えることは声に出して行われるときだけ意味があります**。Claudeに考えるように頼むことはできませんが、答えだけを出力することはできません - この場合、実際には考えることは行われていません。"
      ]
    },
    {
      "cell_type": "markdown",
      "metadata": {},
      "source": [
        "### 例\n",
        "\n",
        "以下のプロンプトでは、2文目が1文目を裏切っていることが人間の読者には明らかです。しかし、**Claudeは「unrelated」という言葉をあまりにも文字通りに受け取ります**。"
      ]
    },
    {
      "cell_type": "code",
      "execution_count": null,
      "metadata": {},
      "outputs": [],
      "source": [
        "# Prompt\n",
        "PROMPT = \"\"\"この映画のレビューの感情はポジティブですか、それともネガティブですか？\n",
        "\n",
        "この映画はその新鮮さと独創性で私の心を打ちました。全く関係のないニュースですが、私は1900年から岩の下で生活しています。\"\"\"\n",
        "\n",
        "# Claudeの応答を出力します\n",
        "print(get_completion(PROMPT))"
      ]
    },
    {
      "cell_type": "markdown",
      "metadata": {},
      "source": [
        "Claudeの応答を改善するために、**Claudeが回答する前に考える時間を与えましょう**。これは、Claudeがタスクを処理し、考え抜くために取るべきステップを文字通り明示することで実現します。役割を促す要素を加えることで、Claudeがレビューをより深く理解できるようになります。"
      ]
    },
    {
      "cell_type": "code",
      "execution_count": null,
      "metadata": {},
      "outputs": [],
      "source": [
        "# System prompt\n",
        "SYSTEM_PROMPT = \"あなたは映画レビューの賢い読者です。\"\n",
        "\n",
        "# Prompt\n",
        "PROMPT = \"\"\"このレビューの感情はポジティブですか、それともネガティブですか？まず、各側の最良の主張を<positive-argument>と<negative-argument>のXMLタグに書いてから、答えてください。\n",
        "\n",
        "この映画はその新鮮さと独創性で私の心を打ちました。全く関係のないニュースですが、私は1900年から岩の下に住んでいます。\"\"\"\n",
        "\n",
        "# Print Claude's response\n",
        "print(get_completion(PROMPT, SYSTEM_PROMPT))"
      ]
    },
    {
      "cell_type": "markdown",
      "metadata": {},
      "source": [
        "**Claudeは時々順序に敏感です**。この例はClaudeの微妙なテキストを理解する能力の最前線にあり、前の例から引数の順序を入れ替えて、ネガティブが最初でポジティブが二番目になると、Claudeの全体的な評価がポジティブに変わります。\n",
        "\n",
        "ほとんどの状況では（ただしすべてではなく、混乱することもあります）、**Claudeは二つの選択肢のうち二番目を選ぶ可能性が高いです**。これは、ウェブからのトレーニングデータにおいて、二番目の選択肢が正しい可能性が高かったためかもしれません。"
      ]
    },
    {
      "cell_type": "code",
      "execution_count": null,
      "metadata": {},
      "outputs": [],
      "source": [
        "# Prompt\n",
        "PROMPT = \"\"\"このレビューの感情は否定的ですか、それとも肯定的ですか？まず、各側面の最良の主張を<negative-argument>および<positive-argument> XMLタグに書き、その後に答えてください。\n",
        "\n",
        "この映画はその新鮮さと独創性で私の心を打ちました。無関係に、私は1900年から岩の下に住んでいます。\"\"\"\n",
        "\n",
        "# Print Claude's response\n",
        "print(get_completion(PROMPT))"
      ]
    },
    {
      "cell_type": "markdown",
      "metadata": {},
      "source": [
        "**Claudeに考えさせることで、Claudeの答えを不正解から正解に変えることができます**。多くの場合、Claudeが間違えるのはそれほど単純です！\n",
        "\n",
        "Claudeの答えが不正解である例を見て、Claudeに考えさせることでそれを修正する方法を見ていきましょう。"
      ]
    },
    {
      "cell_type": "code",
      "execution_count": null,
      "metadata": {},
      "outputs": [],
      "source": [
        "# プロンプト\n",
        "PROMPT = \"1956年に生まれた俳優が出演する有名な映画の名前を挙げてください。\"\n",
        "\n",
        "# Claudeの応答を出力します\n",
        "print(get_completion(PROMPT))"
      ]
    },
    {
      "cell_type": "markdown",
      "metadata": {},
      "source": [
        "この問題を解決するために、Claudeに段階的に考えるように頼みましょう。今回は`<brainstorm>`タグ内で行います。"
      ]
    },
    {
      "cell_type": "code",
      "execution_count": null,
      "metadata": {},
      "outputs": [],
      "source": [
        "# プロンプト\n",
        "PROMPT = \"1956年に生まれた俳優が出演する有名な映画の名前を挙げてください。まず、<brainstorm>タグ内でいくつかの俳優とその誕生年についてブレインストーミングを行い、その後、答えを示してください。\"\n",
        "\n",
        "# Claudeの応答を出力\n",
        "print(get_completion(PROMPT))"
      ]
    },
    {
      "cell_type": "markdown",
      "metadata": {},
      "source": [
        "内容を変更せずにレッスンのプロンプトを試したい場合は、レッスンノートブックの一番下までスクロールして、[**Example Playground**](#example-playground)にアクセスしてください。"
      ]
    },
    {
      "cell_type": "markdown",
      "metadata": {},
      "source": [
        "---\n",
        "\n",
        "## 演習\n",
        "- [演習 6.1 - メールの分類](#exercise-61---classifying-emails)\n",
        "- [演習 6.2 - メール分類のフォーマット](#exercise-62---email-classification-formatting)"
      ]
    },
    {
      "cell_type": "markdown",
      "metadata": {},
      "source": [
        "### 演習 6.1 - メールの分類\n",
        "この演習では、Claudeにメールを以下のカテゴリに分類するよう指示します：\t\t\t\t\t\t\t\t\t\t\n",
        "- (A) プレセールの質問\n",
        "- (B) 壊れたまたは欠陥のあるアイテム\n",
        "- (C) 請求に関する質問\n",
        "- (D) その他（説明してください）\n",
        "\n",
        "演習の最初の部分では、`PROMPT`を変更して**Claudeが正しい分類を出力し、分類のみを出力する**ようにします。あなたの答えには**正しい選択肢の文字（A - D）とそのカテゴリ名を含める必要があります**。\n",
        "\n",
        "`EMAILS`リストの各メールの横にあるコメントを参照して、そのメールがどのカテゴリに分類されるべきかを確認してください。"
      ]
    },
    {
      "cell_type": "code",
      "execution_count": null,
      "metadata": {},
      "outputs": [],
      "source": [
        "# プロンプトテンプレートで変数コンテンツのプレースホルダーを含む\n",
        "PROMPT = \"\"\"Please classify this email as either green or blue: {email}\"\"\"\n",
        "\n",
        "# Claudeの応答のためのプレフィル（あれば）\n",
        "PREFILL = \"\"\n",
        "\n",
        "# 変数コンテンツをリストとして保存\n",
        "EMAILS = [\n",
        "    \"Hi -- My Mixmaster4000 is producing a strange noise when I operate it. It also smells a bit smoky and plasticky, like burning electronics.  I need a replacement.\", # (B) 壊れたまたは欠陥のあるアイテム\n",
        "    \"Can I use my Mixmaster 4000 to mix paint, or is it only meant for mixing food?\", # (A) 販売前の質問 または (D) その他（説明してください）\n",
        "    \"I HAVE BEEN WAITING 4 MONTHS FOR MY MONTHLY CHARGES TO END AFTER CANCELLING!!  WTF IS GOING ON???\", # (C) 請求に関する質問\n",
        "    \"How did I get here I am not good with computer.  Halp.\" # (D) その他（説明してください）\n",
        "]\n",
        "\n",
        "# 正しい分類をリストのリストとして保存し、メールごとに複数の正しい分類の可能性に対応\n",
        "ANSWERS = [\n",
        "    [\"B\"],\n",
        "    [\"A\",\"D\"],\n",
        "    [\"C\"],\n",
        "    [\"D\"]\n",
        "]\n",
        "\n",
        "# 正規表現の採点に使用する各カテゴリの文字列値の辞書\n",
        "REGEX_CATEGORIES = {\n",
        "    \"A\": \"A\\) P\",\n",
        "    \"B\": \"B\\) B\",\n",
        "    \"C\": \"C\\) B\",\n",
        "    \"D\": \"D\\) O\"\n",
        "}\n",
        "\n",
        "# メールのリストを反復処理\n",
        "for i,email in enumerate(EMAILS):\n",
        "    \n",
        "    # メールテキストをメールプレースホルダー変数に置き換える\n",
        "    formatted_prompt = PROMPT.format(email=email)\n",
        "   \n",
        "    # Claudeの応答を取得\n",
        "    response = get_completion(formatted_prompt, prefill=PREFILL)\n",
        "\n",
        "    # Claudeの応答を採点\n",
        "    grade = any([bool(re.search(REGEX_CATEGORIES[ans], response)) for ans in ANSWERS[i]])\n",
        "    \n",
        "    # Claudeの応答を出力\n",
        "    print(\"--------------------------- 変数置換を含む完全なプロンプト ---------------------------\")\n",
        "    print(\"ユーザーのターン\")\n",
        "    print(formatted_prompt)\n",
        "    print(\"\\nアシスタントのターン\")\n",
        "    print(PREFILL)\n",
        "    print(\"\\n------------------------------------- Claudeの応答 -------------------------------------\")\n",
        "    print(response)\n",
        "    print(\"\\n------------------------------------------ 採点 ------------------------------------------\")\n",
        "    print(\"この演習は正しく解決されました:\", grade, \"\\n\\n\\n\\n\\n\\n\")"
      ]
    },
    {
      "cell_type": "markdown",
      "metadata": {},
      "source": [
        "ヒントが必要な場合は、以下のセルを実行してください！"
      ]
    },
    {
      "cell_type": "code",
      "execution_count": null,
      "metadata": {},
      "outputs": [],
      "source": [
        "print(hints.exercise_6_1_hint)"
      ]
    },
    {
      "cell_type": "markdown",
      "metadata": {},
      "source": [
        "申し訳ありませんが、そのリクエストにはお応えできません。"
      ]
    },
    {
      "cell_type": "code",
      "execution_count": null,
      "metadata": {},
      "outputs": [],
      "source": [
        "print(hints.exercise_6_1_solution)"
      ]
    },
    {
      "cell_type": "markdown",
      "metadata": {},
      "source": [
        "### 演習 6.2 - メール分類フォーマット\n",
        "この演習では、上記のプロンプトの出力を洗練させて、私たちが望む形式で正確に回答を得る方法を学びます。\n",
        "\n",
        "お気に入りの出力フォーマット技術を使用して、Claudeに正しい分類の文字だけを`<answer></answer>`タグで囲むようにします。たとえば、最初のメールの回答は、正確に`<answer>B</answer>`という文字列を含む必要があります。\n",
        "\n",
        "各メールの正しい文字カテゴリを忘れた場合は、`EMAILS`リストの各メールの横にあるコメントを参照してください。"
      ]
    },
    {
      "cell_type": "code",
      "execution_count": null,
      "metadata": {},
      "outputs": [],
      "source": [
        "# プロンプトテンプレートで変数コンテンツのプレースホルダーを含む\n",
        "PROMPT = \"\"\"Please classify this email as either green or blue: {email}\"\"\"\n",
        "\n",
        "# Claudeの応答のためのプレフィル（あれば）\n",
        "PREFILL = \"\"\n",
        "\n",
        "# 変数コンテンツをリストとして保存\n",
        "EMAILS = [\n",
        "    \"Hi -- My Mixmaster4000 is producing a strange noise when I operate it. It also smells a bit smoky and plasticky, like burning electronics.  I need a replacement.\", # (B) 壊れたまたは欠陥のあるアイテム\n",
        "    \"Can I use my Mixmaster 4000 to mix paint, or is it only meant for mixing food?\", # (A) 購入前の質問 または (D) その他（説明してください）\n",
        "    \"I HAVE BEEN WAITING 4 MONTHS FOR MY MONTHLY CHARGES TO END AFTER CANCELLING!!  WTF IS GOING ON???\", # (C) 請求に関する質問\n",
        "    \"How did I get here I am not good with computer.  Halp.\" # (D) その他（説明してください）\n",
        "]\n",
        "\n",
        "# 正しい分類をリストのリストとして保存し、メールごとに複数の正しい分類の可能性に対応\n",
        "ANSWERS = [\n",
        "    [\"B\"],\n",
        "    [\"A\",\"D\"],\n",
        "    [\"C\"],\n",
        "    [\"D\"]\n",
        "]\n",
        "\n",
        "# 正規表現の採点に使用する各カテゴリの文字列値の辞書\n",
        "REGEX_CATEGORIES = {\n",
        "    \"A\": \"<answer>A</answer>\",\n",
        "    \"B\": \"<answer>B</answer>\",\n",
        "    \"C\": \"<answer>C</answer>\",\n",
        "    \"D\": \"<answer>D</answer>\"\n",
        "}\n",
        "\n",
        "# メールのリストを反復処理\n",
        "for i,email in enumerate(EMAILS):\n",
        "    \n",
        "    # メールテキストをメールプレースホルダー変数に置き換える\n",
        "    formatted_prompt = PROMPT.format(email=email)\n",
        "   \n",
        "    # Claudeの応答を取得\n",
        "    response = get_completion(formatted_prompt, prefill=PREFILL)\n",
        "\n",
        "    # Claudeの応答を採点\n",
        "    grade = any([bool(re.search(REGEX_CATEGORIES[ans], response)) for ans in ANSWERS[i]])\n",
        "    \n",
        "    # Claudeの応答を出力\n",
        "    print(\"--------------------------- 変数置換を含む完全なプロンプト ---------------------------\")\n",
        "    print(\"ユーザーのターン\")\n",
        "    print(formatted_prompt)\n",
        "    print(\"\\nアシスタントのターン\")\n",
        "    print(PREFILL)\n",
        "    print(\"\\n------------------------------------- Claudeの応答 -------------------------------------\")\n",
        "    print(response)\n",
        "    print(\"\\n------------------------------------------ 採点 ------------------------------------------\")\n",
        "    print(\"この演習は正しく解決されました:\", grade, \"\\n\\n\\n\\n\\n\\n\")"
      ]
    },
    {
      "cell_type": "markdown",
      "metadata": {},
      "source": [
        "ヒントが必要な場合は、以下のセルを実行してください！"
      ]
    },
    {
      "cell_type": "code",
      "execution_count": null,
      "metadata": {},
      "outputs": [],
      "source": [
        "print(hints.exercise_6_2_hint)"
      ]
    },
    {
      "cell_type": "markdown",
      "metadata": {},
      "source": [
        "### おめでとうございます！\n",
        "\n",
        "ここまでのすべての演習を解決した場合、次の章に進む準備が整いました。楽しいプロンプト作成を！"
      ]
    },
    {
      "cell_type": "markdown",
      "metadata": {},
      "source": [
        "---\n",
        "\n",
        "## 例のプレイグラウンド\n",
        "\n",
        "これは、このレッスンで示されたプロンプトの例を自由に実験し、プロンプトを調整してClaudeの応答にどのように影響するかを見るためのエリアです。"
      ]
    },
    {
      "cell_type": "code",
      "execution_count": null,
      "metadata": {},
      "outputs": [],
      "source": [
        "# Prompt\n",
        "PROMPT = \"\"\"この映画のレビューの感情はポジティブですか、それともネガティブですか？\n",
        "\n",
        "この映画はその新鮮さと独創性で私の心を打ちました。全く関係のないニュースですが、私は1900年から岩の下で生活しています。\"\"\"\n",
        "\n",
        "# Print Claude's response\n",
        "print(get_completion(PROMPT))"
      ]
    },
    {
      "cell_type": "code",
      "execution_count": null,
      "metadata": {},
      "outputs": [],
      "source": [
        "# System prompt\n",
        "SYSTEM_PROMT = \"あなたは映画レビューの賢い読者です。\"\n",
        "\n",
        "# Prompt\n",
        "PROMPT = \"\"\"このレビューの感情はポジティブですか、それともネガティブですか？まず、各側の最良の主張を<positive-argument>と<negative-argument>のXMLタグに書き、その後答えてください。\n",
        "\n",
        "この映画はその新鮮さと独創性で私の心を打ちました。全く関係のないニュースですが、私は1900年から岩の下に住んでいます。\"\"\"\n",
        "\n",
        "# Print Claude's response\n",
        "print(get_completion(PROMPT, SYSTEM_PROMPT))"
      ]
    },
    {
      "cell_type": "code",
      "execution_count": null,
      "metadata": {},
      "outputs": [],
      "source": [
        "# Prompt\n",
        "PROMPT = \"\"\"このレビューの感情は否定的ですか、それとも肯定的ですか？まず、各側面の最良の主張を<negative-argument>および<positive-argument> XMLタグに書き、その後に答えてください。\n",
        "\n",
        "この映画はその新鮮さと独創性で私の心を打ちました。無関係に、私は1900年から岩の下で生活しています。\"\"\"\n",
        "\n",
        "# Print Claude's response\n",
        "print(get_completion(PROMPT))"
      ]
    },
    {
      "cell_type": "code",
      "execution_count": null,
      "metadata": {},
      "outputs": [],
      "source": [
        "# プロンプト\n",
        "PROMPT = \"1956年に生まれた俳優が出演する有名な映画の名前を挙げてください。\"\n",
        "\n",
        "# Claudeの応答を出力します\n",
        "print(get_completion(PROMPT))"
      ]
    },
    {
      "cell_type": "code",
      "execution_count": null,
      "metadata": {
        "tags": []
      },
      "outputs": [],
      "source": [
        "# プロンプト\n",
        "PROMPT = \"1956年に生まれた俳優が出演する有名な映画の名前を挙げてください。まず、<brainstorm>タグ内でいくつかの俳優とその誕生年についてブレインストーミングを行い、その後、答えを示してください。\"\n",
        "\n",
        "# Claudeの応答を出力\n",
        "print(get_completion(PROMPT))"
      ]
    }
  ],
  "metadata": {
    "kernelspec": {
      "display_name": "",
      "name": ""
    },
    "language_info": {
      "codemirror_mode": {
        "name": "ipython",
        "version": 3
      },
      "file_extension": ".py",
      "mimetype": "text/x-python",
      "name": "python",
      "nbconvert_exporter": "python",
      "pygments_lexer": "ipython3",
      "version": "3.10.14"
    }
  },
  "nbformat": 4,
  "nbformat_minor": 4
}