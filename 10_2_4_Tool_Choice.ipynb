{
  "cells": [
    {
      "cell_type": "markdown",
      "metadata": {},
      "source": [
        "# 付録 10.2.4: ツールの選択"
      ]
    },
    {
      "cell_type": "markdown",
      "metadata": {},
      "source": [
        "Claude APIは、`tool_choice`というパラメータをサポートしており、Claudeがツールをどのように呼び出すかを指定することができます。このノートブックでは、その動作と使用するタイミングについて見ていきます。\n",
        "\n",
        "`tool_choice`パラメータを使用する際には、3つの選択肢があります：\n",
        "\n",
        "* `auto`は、Claudeが提供されたツールを呼び出すかどうかを決定します。\n",
        "* `any`は、Claudeに提供されたツールのいずれかを使用する必要があることを伝えますが、特定のツールを強制するわけではありません。\n",
        "* `tool`は、Claudeに特定のツールを常に使用させることができます。\n",
        "\n",
        "この図は、各オプションの動作を示しています：\n",
        "\n",
        "![tool_choice.png](./images/tool_choice.png)\n",
        "\n",
        "それぞれのオプションを詳しく見ていきましょう。まず、Anthropic SDKをインポートします："
      ]
    },
    {
      "cell_type": "code",
      "execution_count": null,
      "metadata": {
        "tags": []
      },
      "outputs": [],
      "source": [
        "%pip install -qU pip\n",
        "%pip install -qUr requirements.txt"
      ]
    },
    {
      "cell_type": "code",
      "execution_count": null,
      "metadata": {
        "tags": []
      },
      "outputs": [],
      "source": [
        "import boto3\n",
        "import json\n",
        "from datetime import datetime\n",
        "from botocore.exceptions import ClientError\n",
        "\n",
        "session = boto3.Session()\n",
        "region = session.region_name"
      ]
    },
    {
      "cell_type": "code",
      "execution_count": null,
      "metadata": {
        "tags": []
      },
      "outputs": [],
      "source": [
        "modelId = 'anthropic.claude-3-sonnet-20240229-v1:0'\n",
        "#modelId = 'anthropic.claude-3-haiku-20240307-v1:0'\n",
        "\n",
        "print(f'使用中のmodelId: {modelId}')\n",
        "print(f'使用中のリージョン: ', {region})\n",
        "\n",
        "bedrock_client = boto3.client(service_name = 'bedrock-runtime', region_name = region,)"
      ]
    },
    {
      "cell_type": "markdown",
      "metadata": {},
      "source": [
        "## 自動\n",
        "\n",
        "`tool_choice`を`auto`に設定すると、モデルはツールを使用するかどうかを自動的に決定します。これは、`tool_choice`パラメータを全く使用しない場合のツールを使用する際のデフォルトの動作です。\n",
        "\n",
        "これを示すために、Claudeに偽のウェブ検索ツールを提供します。私たちはClaudeに質問をし、その中にはウェブ検索ツールを呼び出す必要があるものと、Claudeが自分で答えられるものがあります。\n",
        "\n",
        "まず、`web_search`というツールを定義しましょう。このデモをシンプルに保つために、実際にウェブを検索することはありません。\n",
        "\n",
        "また、`toolChoice`を`auto`に設定します。"
      ]
    },
    {
      "cell_type": "code",
      "execution_count": null,
      "metadata": {
        "tags": []
      },
      "outputs": [],
      "source": [
        "def web_search(topic):\n",
        "    print(f\"pretending to search the web for {topic}\")\n",
        "\n",
        "toolConfig = {'tools': [],\n",
        "        \"toolChoice\": {\n",
        "        \"auto\":{},\n",
        "    }\n",
        "}\n",
        "\n",
        "toolConfig['tools'].append({\n",
        "      \"toolSpec\": {\n",
        "        \"name\": \"web_search\",\n",
        "        \"description\": \"特定のトピックに関する最新情報をウェブ検索によって取得するためのツールです。自信を持って答えられないクエリについてのみウェブを検索してください。\",\n",
        "        \"inputSchema\": {\n",
        "          \"json\": {\n",
        "            \"type\": \"object\",\n",
        "            \"properties\": {\n",
        "              \"topic\": {\"type\": \"string\", \"description\": \"ウェブ検索を行うトピック\"}\n",
        "            },\n",
        "            \"required\": [\"topic\"]\n",
        "          }\n",
        "        }\n",
        "      }\n",
        "    })"
      ]
    },
    {
      "cell_type": "markdown",
      "metadata": {},
      "source": [
        "次に、`user_query`を受け取り、それを`web_search_tool`とともにClaudeに渡す関数を作成します。"
      ]
    },
    {
      "cell_type": "markdown",
      "metadata": {},
      "source": [
        "申し訳ありませんが、具体的な関数の内容が提供されていないため、翻訳を行うことができません。関数の詳細を教えていただければ、その内容を翻訳いたします。"
      ]
    },
    {
      "cell_type": "code",
      "execution_count": null,
      "metadata": {},
      "outputs": [],
      "source": [
        "from datetime import date\n",
        "\n",
        "def chat_with_web_search(user_query):\n",
        "    messages = [{\"role\": \"user\", \"content\": [{\"text\": user_query}]}]\n",
        "\n",
        "    system_prompt=f\"\"\"\n",
        "    できるだけ多くの質問に既存の知識を使って答えてください。  \n",
        "    自信を持って答えられない質問についてのみ、ウェブを検索してください。\n",
        "    今日の日付は {date.today().strftime(\"%B %d %Y\")} です\n",
        "    ユーザーの質問がまだ起こっていない未来の何かを含むと思われる場合は、検索ツールを使用してください。\n",
        "    \"\"\"\n",
        "\n",
        "    converse_api_params = {\n",
        "        \"modelId\": modelId,\n",
        "        \"system\": [{\"text\": system_prompt}],\n",
        "        \"messages\": messages,\n",
        "        \"inferenceConfig\": {\"temperature\": 0.0, \"maxTokens\": 1000},\n",
        "        \"toolConfig\":toolConfig\n",
        "    }\n",
        "\n",
        "    response = bedrock_client.converse(**converse_api_params)\n",
        "\n",
        "    stop_reason = response['stopReason']\n",
        "\n",
        "    if stop_reason == \"end_turn\":\n",
        "        print(\"Claudeはツールを呼び出しませんでした\")\n",
        "        print(f\"Assistant: {stop_reason}\")\n",
        "    elif stop_reason == \"tool_use\":\n",
        "        print(\"Claudeはツールを使用したいです\")\n",
        "        print(stop_reason)"
      ]
    },
    {
      "cell_type": "markdown",
      "metadata": {},
      "source": [
        "質問から始めましょう。Claudeはツールを使わずに答えられるはずです。"
      ]
    },
    {
      "cell_type": "code",
      "execution_count": null,
      "metadata": {},
      "outputs": [],
      "source": [
        "def chat_with_web_search(query):\n",
        "    # ユーザーのクエリを受け取ります\n",
        "    response = perform_web_search(query)\n",
        "    # 検索結果を処理します\n",
        "    processed_response = process_search_results(response)\n",
        "    # 処理された結果を返します\n",
        "    return processed_response"
      ]
    },
    {
      "cell_type": "markdown",
      "metadata": {},
      "source": [
        "\"空の色は何ですか？\"と尋ねると、Claudeはツールを使用しません。Claudeがウェブ検索ツールを使用して答えるべき質問をしてみましょう："
      ]
    },
    {
      "cell_type": "code",
      "execution_count": null,
      "metadata": {},
      "outputs": [],
      "source": [
        "def chat_with_web_search(query):\n",
        "    # Perform a web search with the given query\n",
        "    results = web_search(query)\n",
        "    # Process the search results\n",
        "    processed_results = process_results(results)\n",
        "    # Return the processed results\n",
        "    return processed_results\n",
        "\n",
        "def web_search(query):\n",
        "    # Execute the web search and return results\n",
        "    pass\n",
        "\n",
        "def process_results(results):\n",
        "    # Extract relevant information from the results\n",
        "    pass"
      ]
    },
    {
      "cell_type": "markdown",
      "metadata": {},
      "source": [
        "\"2024年マイアミグランプリは誰が勝ちましたか？\"と尋ねると、Claudeはウェブ検索ツールを使用します！\n",
        "\n",
        "いくつかの例を試してみましょう："
      ]
    },
    {
      "cell_type": "code",
      "execution_count": null,
      "metadata": {},
      "outputs": [],
      "source": [
        "# Claudeはこのツールを使用する必要はありません:\n",
        "chat_with_web_search(\"2022年のスーパーボウルは誰が勝ちましたか？\")"
      ]
    },
    {
      "cell_type": "code",
      "execution_count": null,
      "metadata": {},
      "outputs": [],
      "source": [
        "# Claudeはこれにツールを使用するべきです:\n",
        "chat_with_web_search(\"2024年のスーパーボウルは誰が勝った？\")"
      ]
    },
    {
      "cell_type": "markdown",
      "metadata": {},
      "source": [
        "### あなたのプロンプトは重要です！\n",
        "\n",
        "`toolChoice`が`auto`に設定されている場合、詳細なプロンプトを書くために時間をかけることが重要です。しばしば、Claudeはツールを呼び出すことに対して過剰に熱心になることがあります。詳細なプロンプトを書くことで、Claudeがツールを呼び出すべき時とそうでない時を判断するのに役立ちます。上記の例では、システムプロンプトに具体的な指示を含めました："
      ]
    },
    {
      "cell_type": "code",
      "execution_count": null,
      "metadata": {},
      "outputs": [],
      "source": [
        "system_prompt=f\"\"\"\n",
        "    できるだけ多くの質問に既存の知識を使って答えてください。\n",
        "    自信を持って答えられない質問についてのみウェブを検索してください。\n",
        "    今日の日付は {date.today().strftime(\"%B %d %Y\")} です。\n",
        "    ユーザーの質問がまだ起こっていない未来の何かを含むと思われる場合は、検索ツールを使用してください。\n",
        "\"\"\""
      ]
    },
    {
      "cell_type": "markdown",
      "metadata": {},
      "source": [
        "申し訳ありませんが、翻訳するための具体的なテキストが提供されていません。翻訳したいマークダウンテキストを提供していただければ、その内容を日本語に翻訳いたします。"
      ]
    },
    {
      "cell_type": "markdown",
      "metadata": {},
      "source": [
        "## 特定のツールを強制する\n",
        "\n",
        "`toolChoice`を使用してClaudeに特定のツールを使用させることができます。以下の例では、2つのシンプルなツールを定義しました：\n",
        "* `print_sentiment_scores` - Claudeを「騙して」感情分析データを含む構造化されたJSON出力を生成させるツールです。このアプローチの詳細については、Anthropic Cookbookの[Claudeとツール使用による構造化JSONの抽出](https://github.com/anthropics/anthropic-cookbook/blob/main/tool_use/extracting_structured_json.ipynb)を参照してください。\n",
        "* `calculator` - 2つの数字を受け取り、それらを加算する非常にシンプルな計算機ツールです。"
      ]
    },
    {
      "cell_type": "markdown",
      "metadata": {},
      "source": [
        "私たちの目標は、ツイートを受け取り、そのツイートの基本的な感情分析を行う`analyze_tweet_sentiment`という関数を書くことです。最終的には、Claudeに`print_sentiment_scores`ツールを使用させることになりますが、まずはツールを強制しない場合に何が起こるかを示します。\n",
        "\n",
        "この最初の「悪い」バージョンの`analyze_tweet_sentiment`関数では、Claudeに両方のツールを提供します。比較のために、最初に`toolChoice`を`auto`に設定します："
      ]
    },
    {
      "cell_type": "code",
      "execution_count": null,
      "metadata": {},
      "outputs": [],
      "source": [
        "# Create our toolConfig\n",
        "toolConfig = {'tools': [],\n",
        "        \"toolChoice\": {\n",
        "        \"auto\":{},\n",
        "    }\n",
        "}\n",
        "\n",
        "# append our print_sentiment_scores tool\n",
        "toolConfig['tools'].append({\n",
        "    \"toolSpec\": {\n",
        "      \"name\": \"print_sentiment_scores\",\n",
        "      \"description\": \"与えられたツイートまたはテキストの感情スコアを出力します。\",\n",
        "      \"inputSchema\": {\n",
        "        \"json\": {\n",
        "          \"type\": \"object\",\n",
        "          \"properties\": {\n",
        "            \"positive_score\": {\"type\": \"number\",\"description\": \"正の感情スコア、0.0から1.0の範囲です。\"},\n",
        "            \"negative_score\": {\"type\": \"number\",\"description\": \"負の感情スコア、0.0から1.0の範囲です。\"},\n",
        "            \"neutral_score\": {\"type\": \"number\",\"description\": \"中立の感情スコア、0.0から1.0の範囲です。\"}\n",
        "          },\n",
        "          \"required\": [\"positive_score\", \"negative_score\", \"neutral_score\"]\n",
        "        }\n",
        "      }\n",
        "    }\n",
        "  })\n",
        "\n",
        "# Append our Calculator tool\n",
        "toolConfig['tools'].append({\n",
        "    \"toolSpec\": {\n",
        "      \"name\": \"calculator\",\n",
        "      \"description\": \"二つの数を加算します\",\n",
        "      \"inputSchema\": {\n",
        "        \"json\": {\n",
        "          \"type\": \"object\",\n",
        "          \"properties\": {\n",
        "            \"num1\": {\"type\": \"number\", \"description\": \"加算する最初の数\"},\n",
        "            \"num2\": {\"type\": \"number\", \"description\": \"加算する二番目の数\"}\n",
        "          },\n",
        "          \"required\": [\"num1\", \"num2\"]\n",
        "        }\n",
        "      }\n",
        "    }\n",
        "  })"
      ]
    },
    {
      "cell_type": "markdown",
      "metadata": {},
      "source": [
        "Claudeに対して、特定のツールの使用を強制する影響を見やすくするために、意図的にうまく書かれたプロンプトを提供していないことに注意してください。"
      ]
    },
    {
      "cell_type": "code",
      "execution_count": null,
      "metadata": {
        "tags": []
      },
      "outputs": [],
      "source": [
        "def analyze_tweet_sentiment(query):\n",
        "    messages = [{\"role\": \"user\", \"content\": [{\"text\": query}]}]\n",
        "\n",
        "    converse_api_params = {\n",
        "        \"modelId\": modelId,\n",
        "        \"system\": [{\"text\": system_prompt}],\n",
        "        \"messages\": messages,\n",
        "        \"inferenceConfig\": {\"temperature\": 0.0, \"maxTokens\": 1000},\n",
        "        \"toolConfig\":toolConfig,\n",
        "    }\n",
        "    response = bedrock_client.converse(**converse_api_params)\n",
        "    # レスポンスを出力します\n",
        "    print(response)"
      ]
    },
    {
      "cell_type": "markdown",
      "metadata": {},
      "source": [
        "関数を呼び出して、ツイート `Holy cow, I just made the most incredible meal!` を使ってみましょう。"
      ]
    },
    {
      "cell_type": "code",
      "execution_count": null,
      "metadata": {},
      "outputs": [],
      "source": [
        "analyze_tweet_sentiment(\"Holy cow, I just made the most incredible meal!\")"
      ]
    },
    {
      "cell_type": "markdown",
      "metadata": {},
      "source": [
        "クロードは私たちの`print_sentiment_scores`ツールを呼び出さず、直接次のように応答します：\n",
        "> \"それを聞いて嬉しいです！実際、私はテキストから感情を評価する能力はありませんが、あなたが作った素晴らしい食事に本当に興奮していて誇りに思っているようですね。\"\n",
        "\n",
        "次に、誰かが次のようにツイートすることを想像してみましょう：`私は猫が大好きです！4匹飼っていて、さらに2匹を新たに養子にしました！今、私は何匹いると思いますか？`"
      ]
    },
    {
      "cell_type": "code",
      "execution_count": null,
      "metadata": {},
      "outputs": [],
      "source": [
        "analyze_tweet_sentiment(\"I love my cats! I had four and just adopted 2 more! Guess how many I have now?\")"
      ]
    },
    {
      "cell_type": "markdown",
      "metadata": {},
      "source": [
        "Claudeは計算機ツールを呼び出したいです：\n",
        "\n",
        "> {'toolUse': {'toolUseId': 'tooluse_oyzX9vToT468sAwe_A99EA', **'name': 'calculator', 'input': {'num1': 4, 'num2': 2}**}}]}}, 'stopReason': 'tool_use'{'toolUse': {'toolUseId': 'tooluse_oyzX9vToT468sAwe_A99EA', 'name': 'calculator', 'input': {'num1': 4, 'num2': 2}}}]}}, 'stopReason': 'tool_use'"
      ]
    },
    {
      "cell_type": "markdown",
      "metadata": {},
      "source": [
        "明らかに、この現在の実装は私たちが望んでいることを実行していません（主に私たちが失敗するように設定したためです）。\n",
        "\n",
        "したがって、`toolChoice`を更新してClaudeに**常に**`print_sentiment_scores`ツールを使用させましょう："
      ]
    },
    {
      "cell_type": "code",
      "execution_count": null,
      "metadata": {},
      "outputs": [],
      "source": [
        "toolConfig['toolChoice'] = {\n",
        "    \"tool\": {\n",
        "        \"name\": \"print_sentiment_scores\"}\n",
        "}"
      ]
    },
    {
      "cell_type": "markdown",
      "metadata": {},
      "source": [
        "`type`を`tool`に設定するだけでなく、特定のツール名を提供する必要があります。"
      ]
    },
    {
      "cell_type": "code",
      "execution_count": null,
      "metadata": {},
      "outputs": [],
      "source": [
        "def analyze_tweet_sentiment(query):\n",
        "    messages = [{\"role\": \"user\", \"content\": [{\"text\": query}]}]\n",
        "\n",
        "    converse_api_params = {\n",
        "        \"modelId\": modelId,\n",
        "        \"system\": [{\"text\": system_prompt}],\n",
        "        \"messages\": messages,\n",
        "        \"inferenceConfig\": {\"temperature\": 0.0, \"maxTokens\": 1000},\n",
        "        \"toolConfig\":toolConfig,\n",
        "    }\n",
        "    response = bedrock_client.converse(**converse_api_params)\n",
        "    # レスポンスを出力します\n",
        "    print(response)"
      ]
    },
    {
      "cell_type": "markdown",
      "metadata": {},
      "source": [
        "今、以前のプロンプトと同じプロンプトでClaudeに促してみると、常に`print_sentiment_scores`ツールを呼び出すことになります。"
      ]
    },
    {
      "cell_type": "code",
      "execution_count": null,
      "metadata": {},
      "outputs": [],
      "source": [
        "analyze_tweet_sentiment(\"Holy cow, I just made the most incredible meal!\")"
      ]
    },
    {
      "cell_type": "markdown",
      "metadata": {},
      "source": [
        "Claudeは私たちの`print_sentiment_scores`ツールを呼び出します：\n",
        "\n",
        "> [{'toolUse': {'toolUseId': 'tooluse_EZnn27PHRXWfo7JR8FWkDw', **'name': 'print_sentiment_scores',** 'input': {'positive_score': 0.9, 'negative_score': 0.1, 'neutral_score': 0.0}}}][{'toolUse': {'toolUseId': 'tooluse_EZnn27PHRXWfo7JR8FWkDw', 'name': 'print_sentiment_scores', 'input': {'positive_score': 0.9, 'negative_score': 0.1, 'neutral_score': 0.0}}}]\n",
        "\n",
        "たとえ私たちが「数学的な」ツイートでClaudeを混乱させようとしても、彼は常に`print_sentiment_scores`ツールを呼び出します："
      ]
    },
    {
      "cell_type": "code",
      "execution_count": null,
      "metadata": {},
      "outputs": [],
      "source": [
        "analyze_tweet_sentiment(\"I love my cats! I had four and just adopted 2 more! Guess how many I have now?\")"
      ]
    },
    {
      "cell_type": "markdown",
      "metadata": {},
      "source": [
        "たとえ私たちがClaudeに`print_sentiment_scores`ツールを呼び出させているとしても、Claudeにより良いタスクのコンテキストを与えるために、基本的なプロンプトエンジニアリングを活用すべきです。"
      ]
    },
    {
      "cell_type": "code",
      "execution_count": null,
      "metadata": {},
      "outputs": [],
      "source": [
        "def analyze_tweet_sentiment(query):\n",
        "    prompt = f\"\"\"\n",
        "    以下のツイートの感情を分析してください:\n",
        "    <tweet>{query}</tweet>\"\"\"\n",
        "\n",
        "    messages = [{\"role\": \"user\", \"content\": [{\"text\": prompt}]}]\n",
        "\n",
        "    converse_api_params = {\n",
        "        \"modelId\": modelId,\n",
        "        \"system\": [{\"text\": system_prompt}],\n",
        "        \"messages\": messages,\n",
        "        \"inferenceConfig\": {\"temperature\": 0.0, \"maxTokens\": 1000},\n",
        "        \"toolConfig\":toolConfig,\n",
        "    }\n",
        "    response = bedrock_client.converse(**converse_api_params)\n",
        "    print(response)"
      ]
    },
    {
      "cell_type": "markdown",
      "metadata": {},
      "source": [
        "申し訳ありませんが、翻訳するための具体的なマークダウンテキストが提供されていません。翻訳したいテキストを提供していただければ、その内容を日本語に翻訳いたします。"
      ]
    },
    {
      "cell_type": "markdown",
      "metadata": {},
      "source": [
        "## Any\n",
        "\n",
        "`toolChoice`の最終オプションは`any`で、これによりClaudeに「ツールを呼び出す必要があるが、どれを選んでも良い」と伝えることができます。Claudeを使用してSMSチャットボットを作成したいと想像してみてください。このチャットボットが実際にユーザーと「コミュニケーション」を取る唯一の方法は、SMSテキストメッセージを介してです。\n",
        "\n",
        "以下の例では、2つのツールにアクセスできる非常にシンプルなテキストメッセージアシスタントを作成します：\n",
        "* `send_text_to_user` - ユーザーにテキストメッセージを送信します。\n",
        "* `get_customer_info` - ユーザー名に基づいて顧客データを検索します。\n",
        "\n",
        "このアイデアは、常にこれらのツールのいずれかを呼び出し、非ツールの応答で返答しないチャットボットを作成することです。すべての状況において、Claudeはテキストメッセージを送信しようとするか、`get_customer_info`を呼び出してより多くの顧客情報を取得することで応答する必要があります。これを確実にするために、`toolChoice`を`any`に設定します："
      ]
    },
    {
      "cell_type": "code",
      "execution_count": null,
      "metadata": {},
      "outputs": [],
      "source": [
        "toolConfig = {'tools': [],\n",
        "        \"toolChoice\": {\n",
        "        \"any\":{},\n",
        "    }\n",
        "}\n",
        "\n",
        "toolConfig['tools'].append({\n",
        "      \"toolSpec\": {\n",
        "        \"name\": \"send_text_to_user\",\n",
        "        \"description\": \"ユーザーにテキストメッセージを送信します\",\n",
        "        \"inputSchema\": {\n",
        "          \"json\": {\n",
        "            \"type\": \"object\",\n",
        "            \"properties\": {\n",
        "              \"text\": {\n",
        "                \"type\": \"string\",\n",
        "                \"description\": \"ユーザーにテキストメッセージで送信されるテキストの部分\"}\n",
        "            },\n",
        "            \"required\": [\"text\"]\n",
        "          }\n",
        "        }\n",
        "      }\n",
        "    })\n",
        "\n",
        "toolConfig['tools'].append({\n",
        "      \"toolSpec\": {\n",
        "        \"name\": \"get_customer_info\",\n",
        "        \"description\": \"顧客のユーザー名に基づいて顧客情報を取得します。応答にはメール、ユーザー名、および以前の購入が含まれます。このツールは、ユーザーがユーザー名を提供した後にのみ呼び出してください\",\n",
        "        \"inputSchema\": {\n",
        "          \"json\": {\n",
        "            \"type\": \"object\",\n",
        "            \"properties\": {\n",
        "              \"username\": {\n",
        "                \"type\": \"string\",\n",
        "                \"description\": \"問題のユーザーのユーザー名です。\"}\n",
        "            },\n",
        "            \"required\": [\"username\"]\n",
        "          }\n",
        "        }\n",
        "      }\n",
        "    })"
      ]
    },
    {
      "cell_type": "code",
      "execution_count": null,
      "metadata": {
        "tags": []
      },
      "outputs": [],
      "source": [
        "#toolConfig # オプションで、更新されたtoolConfigを見るにはコメントを外してください"
      ]
    },
    {
      "cell_type": "code",
      "execution_count": null,
      "metadata": {},
      "outputs": [],
      "source": [
        "def send_text_to_user(text):\n",
        "    # ユーザーにテキストを送信します\n",
        "    # 簡単にするためにテキストを出力します:\n",
        "    print(f\"TEXT MESSAGE SENT: {text}\")\n",
        "\n",
        "def get_customer_info(username):\n",
        "    return {\n",
        "        \"username\": username,\n",
        "        \"email\": f\"{username}@email.com\",\n",
        "        \"purchases\": [\n",
        "            {\"id\": 1, \"product\": \"computer mouse\"},\n",
        "            {\"id\": 2, \"product\": \"screen protector\"},\n",
        "            {\"id\": 3, \"product\": \"usb charging cable\"},\n",
        "        ]\n",
        "    }\n",
        "\n",
        "system_prompt = \"\"\"\n",
        "ユーザーとのすべてのコミュニケーションはテキストメッセージを介して行われます。\n",
        "正確にツールを呼び出すために十分な情報がある場合のみツールを呼び出してください。  \n",
        "ユーザーがユーザー名を提供するまで、get_customer_infoツールを呼び出さないでください。これは重要です。\n",
        "ユーザーのユーザー名がわからない場合は、単にユーザーにユーザー名を尋ねてください。\n",
        "\"\"\"\n",
        "\n",
        "def sms_chatbot(user_message):\n",
        "    messages = [{\"role\": \"user\", \"content\": [{\"text\": user_message}]}]\n",
        "\n",
        "    converse_api_params = {\n",
        "        \"modelId\": modelId,\n",
        "        \"system\": [{\"text\": system_prompt}],\n",
        "        \"messages\": messages,\n",
        "        \"inferenceConfig\": {\"temperature\": 0.0, \"maxTokens\": 1000},\n",
        "        \"toolConfig\":toolConfig,\n",
        "    }\n",
        "\n",
        "    response = bedrock_client.converse(**converse_api_params)\n",
        "\n",
        "    if(response['stopReason'] == \"tool_use\"):\n",
        "        tool_use = response['output']['message']['content'][-1]\n",
        "        tool_name = tool_use['toolUse']['name']\n",
        "        tool_inputs = tool_use['toolUse']['input']\n",
        "        print(f\"=======Claude Wants To Call The {tool_name} Tool=======\")\n",
        "        if tool_name == \"send_text_to_user\":\n",
        "            send_text_to_user(tool_inputs[\"text\"])\n",
        "        elif tool_name == \"get_customer_info\":\n",
        "            print(get_customer_info(tool_inputs[\"username\"]))\n",
        "        else:\n",
        "            print(\"ああ、残念ですが、そのツールは存在しません！\")\n",
        "            \n",
        "    else:\n",
        "        print(\"ツールは呼び出されませんでした。これは起こるべきではありません！\")"
      ]
    },
    {
      "cell_type": "markdown",
      "metadata": {},
      "source": [
        "始めましょう："
      ]
    },
    {
      "cell_type": "code",
      "execution_count": null,
      "metadata": {},
      "outputs": [],
      "source": [
        "sms_chatbot(\"Hey there! How are you?\")"
      ]
    },
    {
      "cell_type": "markdown",
      "metadata": {},
      "source": [
        "Claudeは`send_text_to_user`ツールを呼び出して応答します。\n",
        "\n",
        "次に、もう少し難しいことをClaudeに尋ねます:"
      ]
    },
    {
      "cell_type": "code",
      "execution_count": null,
      "metadata": {},
      "outputs": [],
      "source": [
        "sms_chatbot(\"I need help looking up an order\")"
      ]
    },
    {
      "cell_type": "markdown",
      "metadata": {},
      "source": [
        "クロードは、ユーザーにユーザー名を提供するように求めるテキストメッセージを送信したいと考えています。\n",
        "\n",
        "さて、私たちがクロードにユーザー名を提供した場合、何が起こるか見てみましょう。"
      ]
    },
    {
      "cell_type": "code",
      "execution_count": null,
      "metadata": {},
      "outputs": [],
      "source": [
        "sms_chatbot(\"注文を調べるのを手伝ってほしいです。私のユーザー名はjenny76です\")"
      ]
    },
    {
      "cell_type": "markdown",
      "metadata": {},
      "source": [
        "Claudeは、私たちが期待していた通りに`get_customer_info`ツールを呼び出します！\n",
        "\n",
        "たとえ私たちがClaudeに意味不明なメッセージを送っても、彼は依然として私たちのツールの1つを呼び出します："
      ]
    },
    {
      "cell_type": "code",
      "execution_count": null,
      "metadata": {},
      "outputs": [],
      "source": [
        "sms_chatbot(\"askdj aksjdh asjkdbhas kjdhas 1+1 ajsdh\")"
      ]
    }
  ],
  "metadata": {
    "kernelspec": {
      "display_name": "",
      "name": ""
    },
    "language_info": {
      "codemirror_mode": {
        "name": "ipython",
        "version": 3
      },
      "file_extension": ".py",
      "mimetype": "text/x-python",
      "name": "python",
      "nbconvert_exporter": "python",
      "pygments_lexer": "ipython3",
      "version": "3.10.14"
    }
  },
  "nbformat": 4,
  "nbformat_minor": 4
}