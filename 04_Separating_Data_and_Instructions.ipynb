{
  "cells": [
    {
      "cell_type": "markdown",
      "metadata": {},
      "source": [
        "# 第4章: データと指示の分離\n",
        "\n",
        "- [レッスン](#lesson)\n",
        "- [演習](#exercises)\n",
        "- [例のプレイグラウンド](#example-playground)\n",
        "\n",
        "## セットアップ\n",
        "\n",
        "次のセットアップセルを実行して、APIキーをロードし、`get_completion`ヘルパー関数を確立します。"
      ]
    },
    {
      "cell_type": "code",
      "execution_count": null,
      "metadata": {},
      "outputs": [],
      "source": [
        "# Pythonの組み込み正規表現ライブラリをインポート\n",
        "import re\n",
        "import boto3\n",
        "from botocore.exceptions import ClientError\n",
        "import json\n",
        "\n",
        "# utilsパッケージからhintsモジュールをインポート\n",
        "from utils import hints\n",
        "\n",
        "# IPythonストアからMODEL_NAME変数を取得\n",
        "%store -r modelId\n",
        "%store -r region\n",
        "\n",
        "bedrock_client = boto3.client(service_name='bedrock-runtime', region_name=region)"
      ]
    },
    {
      "cell_type": "code",
      "execution_count": null,
      "metadata": {},
      "outputs": [],
      "source": [
        "def get_completion(prompt, system_prompt=None):\n",
        "    # 推論設定を定義します\n",
        "    inference_config = {\n",
        "        \"temperature\": 0.0,\n",
        "        \"maxTokens\": 200\n",
        "    }\n",
        "    # APIパラメータを設定します\n",
        "    converse_api_params = {\n",
        "        \"modelId\": modelId,\n",
        "        \"messages\": [{\"role\": \"user\", \"content\": [{\"text\": prompt}]}],\n",
        "        \"inferenceConfig\": inference_config\n",
        "    }\n",
        "    if system_prompt:\n",
        "        # システムプロンプトがある場合は追加します\n",
        "        converse_api_params[\"system\"] = [{\"text\": system_prompt}]\n",
        "    try:\n",
        "        # APIにリクエストを送信します\n",
        "        response = bedrock_client.converse(**converse_api_params)\n",
        "        text_content = response['output']['message']['content'][0]['text']\n",
        "        return text_content\n",
        "\n",
        "    except ClientError as err:\n",
        "        # エラーメッセージを出力します\n",
        "        message = err.response['Error']['Message']\n",
        "        print(f\"クライアントエラーが発生しました: {message}\")"
      ]
    },
    {
      "cell_type": "markdown",
      "metadata": {},
      "source": [
        "---\n",
        "\n",
        "## レッスン\n",
        "\n",
        "しばしば、完全なプロンプトを書くのではなく、**後で追加の入力データで修正できるプロンプトテンプレートが必要です**。これは、Claudeに毎回同じことをさせたいが、Claudeがそのタスクに使用するデータが毎回異なる場合に便利です。\n",
        "\n",
        "幸いなことに、**プロンプトの固定された骨組みを変数のユーザー入力から分離し、ユーザー入力をプロンプトに置き換えることで、これを非常に簡単に行うことができます**。 \n",
        "\n",
        "以下では、置き換え可能なプロンプトテンプレートの書き方と、ユーザー入力をどのように置き換えるかをステップバイステップで説明します。"
      ]
    },
    {
      "cell_type": "markdown",
      "metadata": {},
      "source": [
        "### 例\n",
        "\n",
        "この最初の例では、Claudeに動物の鳴き声を生成するように依頼しています。Claudeに送信された完全なプロンプトは、入力（この場合は「Cow」）で置き換えられた`PROMPT_TEMPLATE`だけであることに注意してください。「Cow」という単語は、完全なプロンプトを印刷する際にf-stringを介して`ANIMAL`プレースホルダーを置き換えます。\n",
        "\n",
        "**注意:** 実際には、プレースホルダー変数に特に何かを呼ぶ必要はありません。この例では`ANIMAL`と呼びましたが、`CREATURE`や`A`と呼ぶことも簡単にできます（ただし、一般的には変数名を特定のものにしておくことが良いです。そうすることで、置き換えなしでもプロンプトテンプレートが理解しやすくなり、ユーザーが解析しやすくなります）。変数に付けた名前が、プロンプトテンプレートのf-stringで使用するものであることを確認してください。"
      ]
    },
    {
      "cell_type": "code",
      "execution_count": null,
      "metadata": {},
      "outputs": [],
      "source": [
        "# 変数の内容\n",
        "ANIMAL = \"Cow\"\n",
        "\n",
        "# 変数の内容のためのプレースホルダーを持つプロンプトテンプレート\n",
        "PROMPT = f\"I will tell you the name of an animal. Please respond with the noise that animal makes. {ANIMAL}\"\n",
        "\n",
        "# Claudeの応答を出力\n",
        "print(\"--------------------------- 変数置換を含む完全なプロンプト ---------------------------\")\n",
        "print(PROMPT)\n",
        "print(\"\\n------------------------------------- Claudeの応答 -------------------------------------\")\n",
        "print(get_completion(PROMPT))"
      ]
    },
    {
      "cell_type": "markdown",
      "metadata": {},
      "source": [
        "なぜこのように入力を分離して置き換えたいのでしょうか？それは、**プロンプトテンプレートが繰り返しの作業を簡素化するからです**。例えば、第三者のユーザーがプロンプトにコンテンツを提出するように招待するプロンプト構造を構築したとしましょう（この場合、生成したい音の動物です）。これらの第三者ユーザーは、完全なプロンプトを書く必要も、見る必要もありません。彼らがしなければならないのは、変数を埋めることだけです。\n",
        "\n",
        "ここでは、変数とf-stringsを使用してこの置き換えを行いますが、`format()`メソッドを使ってもできます。\n",
        "\n",
        "**注意:** プロンプトテンプレートには、望むだけの変数を含めることができます！"
      ]
    },
    {
      "cell_type": "markdown",
      "metadata": {},
      "source": [
        "このように代入変数を導入する際には、**Claudeが変数の開始と終了を理解していることを確認することが非常に重要です**（指示やタスクの説明と対比して）。以下の例を見てみましょう。ここでは、指示と代入変数の間に区切りがありません。\n",
        "\n",
        "私たち人間の目には、以下のプロンプトテンプレートで変数がどこで始まり、どこで終わるかは非常に明確です。しかし、完全に代入されたプロンプトでは、その区切りが不明瞭になります。"
      ]
    },
    {
      "cell_type": "code",
      "execution_count": null,
      "metadata": {},
      "outputs": [],
      "source": [
        "# 変数の内容\n",
        "EMAIL = \"Show up at 6am tomorrow because I'm the CEO and I say so.\"\n",
        "\n",
        "# 変数の内容のためのプレースホルダーを持つプロンプトテンプレート\n",
        "PROMPT = f\"Yo Claude. {EMAIL} <----- このメールをより丁寧にしてくださいが、それ以外は何も変更しないでください。\"\n",
        "\n",
        "# Claudeの応答を出力\n",
        "print(\"--------------------------- 変数置換を含む完全なプロンプト ---------------------------\")\n",
        "print(PROMPT)\n",
        "print(\"\\n------------------------------------- Claudeの応答 -------------------------------------\")\n",
        "print(get_completion(PROMPT))"
      ]
    },
    {
      "cell_type": "markdown",
      "metadata": {},
      "source": [
        "ここで、**Claudeは「Yo Claude」が書き直すべきメールの一部だと考えています**！それは、書き直しが「Dear Claude」で始まることからわかります。人間の目には明らかですが、特にメールが始まりと終わりを示すプロンプトテンプレートでは明確ですが、置換後のプロンプトでははるかに不明瞭になります。"
      ]
    },
    {
      "cell_type": "markdown",
      "metadata": {},
      "source": [
        "この問題をどう解決しますか？**入力をXMLタグで囲みます**！以下のように行いましたが、出力にはもう「Dear Claude」が含まれていないことがわかります。\n",
        "\n",
        "[XMLタグ](https://docs.anthropic.com/claude/docs/use-xml-tags)は、`<tag></tag>`のような角括弧のタグです。これらは対になっており、開くタグ（例：`<tag>`）と、スラッシュでマークされた閉じるタグ（例：`</tag>`）で構成されています。XMLタグは、次のようにコンテンツを囲むために使用されます：`<tag>content</tag>`。\n",
        "\n",
        "**注意：** Claudeは幅広い区切りやデリミタを認識し、操作することができますが、Claudeのために**特にXMLタグを区切りとして使用することをお勧めします**。ClaudeはXMLタグをプロンプト整理メカニズムとして認識するように特別に訓練されています。関数呼び出しの外では、**パフォーマンスを最大限に向上させるために使用すべき特別なXMLタグはClaudeが訓練されていません**。AnthropicはこのようにClaudeを非常に柔軟でカスタマイズ可能にするように意図的に設計しています。"
      ]
    },
    {
      "cell_type": "code",
      "execution_count": null,
      "metadata": {},
      "outputs": [],
      "source": [
        "# 変数の内容\n",
        "EMAIL = \"Show up at 6am tomorrow because I'm the CEO and I say so.\"\n",
        "\n",
        "# 変数の内容のためのプレースホルダーを持つプロンプトテンプレート\n",
        "PROMPT = f\"Yo Claude. <email>{EMAIL}</email> <----- このメールをもっと丁寧にしてくださいが、それ以外は変更しないでください。\"\n",
        "\n",
        "# Claudeの応答を出力\n",
        "print(\"--------------------------- 変数置換を含む完全なプロンプト ---------------------------\")\n",
        "print(PROMPT)\n",
        "print(\"\\n------------------------------------- Claudeの応答 -------------------------------------\")\n",
        "print(get_completion(PROMPT))"
      ]
    },
    {
      "cell_type": "markdown",
      "metadata": {},
      "source": [
        "XMLタグがどのように役立つかの別の例を見てみましょう。\n",
        "\n",
        "次のプロンプトでは、**Claudeがプロンプトのどの部分が指示でどの部分が入力であるかを誤って解釈しています**。フォーマットのために、`Each is about an animal, like rabbits`をリストの一部と誤って考えてしまい、ユーザー（`SENTENCES`変数を入力している人）はおそらくそれを望んでいなかったのです。"
      ]
    },
    {
      "cell_type": "code",
      "execution_count": null,
      "metadata": {},
      "outputs": [],
      "source": [
        "# Variable content\n",
        "SENTENCES = \"\"\"- I like how cows sound\n",
        "- This sentence is about spiders\n",
        "- This sentence may appear to be about dogs but it's actually about pigs\"\"\"\n",
        "\n",
        "# Prompt template with a placeholder for the variable content\n",
        "PROMPT = f\"\"\"Below is a list of sentences. Tell me the second item on the list.\n",
        "\n",
        "- Each is about an animal, like rabbits.\n",
        "{SENTENCES}\"\"\"\n",
        "\n",
        "# Print Claude's response\n",
        "print(\"--------------------------- 変数の置換を含む完全なプロンプト ---------------------------\")\n",
        "print(PROMPT)\n",
        "print(\"\\n------------------------------------- Claudeの応答 -------------------------------------\")\n",
        "print(get_completion(PROMPT))"
      ]
    },
    {
      "cell_type": "markdown",
      "metadata": {},
      "source": [
        "これを修正するには、**ユーザー入力文をXMLタグで囲むだけです**。これにより、`Each is about an animal, like rabbits.`の前の誤解を招くハイフンにもかかわらず、Claudeに入力データの開始と終了を示すことができます。"
      ]
    },
    {
      "cell_type": "code",
      "execution_count": null,
      "metadata": {},
      "outputs": [],
      "source": [
        "# 変数の内容\n",
        "SENTENCES = \"\"\"- I like how cows sound\n",
        "- This sentence is about spiders\n",
        "- This sentence may appear to be about dogs but it's actually about pigs\"\"\"\n",
        "\n",
        "# 変数の内容のためのプレースホルダーを持つプロンプトテンプレート\n",
        "PROMPT = f\"\"\" 以下は文のリストです。リストの2番目の項目を教えてください。\n",
        "\n",
        "- 各文は動物についてで、ウサギのようです。\n",
        "<sentences>\n",
        "{SENTENCES}\n",
        "</sentences>\"\"\"\n",
        "\n",
        "# Claudeの応答を出力\n",
        "print(\"--------------------------- 変数の置換を含む完全なプロンプト ---------------------------\")\n",
        "print(PROMPT)\n",
        "print(\"\\n------------------------------------- Claudeの応答 -------------------------------------\")\n",
        "print(get_completion(PROMPT))"
      ]
    },
    {
      "cell_type": "markdown",
      "metadata": {},
      "source": [
        "**注意:** 「それぞれは動物について」というプロンプトの誤ったバージョンでは、望むようにClaudeが誤って反応するためにハイフンを含める必要がありました。これはプロンプトに関する重要な教訓です: **小さな詳細が重要です**! プロンプトにタイプミスや文法エラーがないか**確認する価値があります**。Claudeはパターンに敏感であり（初期の頃はファインチューニングの前に生のテキスト予測ツールでした）、あなたが間違えるときにミスをする可能性が高く、賢く聞こえるときには賢くなり、愚かに聞こえるときには愚かになります。\n",
        "\n",
        "内容を変更せずにレッスンプロンプトを試したい場合は、レッスンノートブックの一番下までスクロールして[**例のプレイグラウンド**](#example-playground)にアクセスしてください。"
      ]
    },
    {
      "cell_type": "markdown",
      "metadata": {},
      "source": [
        "---\n",
        "\n",
        "## 演習\n",
        "- [演習 4.1 - 俳句のトピック](#exercise-41---haiku-topic)\n",
        "- [演習 4.2 - タイポのある犬の質問](#exercise-42---dog-question-with-typos)\n",
        "- [演習 4.3 - 犬の質問 パート2](#exercise-42---dog-question-part-2)"
      ]
    },
    {
      "cell_type": "markdown",
      "metadata": {},
      "source": [
        "### 演習 4.1 - 俳句のトピック\n",
        "`PROMPT`を修正して、`TOPIC`という変数を受け取り、そのトピックについての俳句を出力するテンプレートにします。この演習は、f-stringsを使用した変数テンプレート構造の理解をテストすることを目的としています。"
      ]
    },
    {
      "cell_type": "code",
      "execution_count": null,
      "metadata": {},
      "outputs": [],
      "source": [
        "# 変数の内容\n",
        "TOPIC = \"Pigs\"\n",
        "\n",
        "# 変数の内容のためのプレースホルダーを持つプロンプトテンプレート\n",
        "PROMPT = f\"Create a haiku about pigs\"\n",
        "\n",
        "# Claudeの応答を取得\n",
        "response = get_completion(PROMPT)\n",
        "\n",
        "# 演習の正確さを評価する関数\n",
        "def grade_exercise(text):\n",
        "    return bool(re.search(\"pigs\", text.lower()) and re.search(\"haiku\", text.lower()))\n",
        "\n",
        "# Claudeの応答を出力\n",
        "print(\"--------------------------- 変数置換を含む完全なプロンプト ---------------------------\")\n",
        "print(PROMPT)\n",
        "print(\"\\n------------------------------------- Claudeの応答 -------------------------------------\")\n",
        "print(response)\n",
        "print(\"\\n------------------------------------------ 採点 ------------------------------------------\")\n",
        "print(\"この演習は正しく解決されました:\", grade_exercise(response))"
      ]
    },
    {
      "cell_type": "markdown",
      "metadata": {},
      "source": [
        "ヒントが必要な場合は、以下のセルを実行してください！"
      ]
    },
    {
      "cell_type": "code",
      "execution_count": null,
      "metadata": {},
      "outputs": [],
      "source": [
        "print(hints.exercise_4_1_hint)"
      ]
    },
    {
      "cell_type": "markdown",
      "metadata": {},
      "source": [
        "### 演習 4.2 - タイポのある犬の質問\n",
        "`PROMPT`にXMLタグを追加して、Claudeが正しい答えを出すように修正してください。\n",
        "\n",
        "プロンプトの他の部分は変更しないようにしてください。乱雑で誤りの多い文章は意図的なものであり、Claudeがそのような間違いにどのように反応するかを見るためのものです。"
      ]
    },
    {
      "cell_type": "code",
      "execution_count": null,
      "metadata": {},
      "outputs": [],
      "source": [
        "# Variable content\n",
        "QUESTION = \"ar cn brown?\"\n",
        "\n",
        "# Prompt template with a placeholder for the variable content\n",
        "PROMPT = f\"Hia its me i have a q about dogs jkaerjv {QUESTION} jklmvca tx it help me muhch much atx fst fst answer short short tx\"\n",
        "\n",
        "# Get Claude's response\n",
        "response = get_completion(PROMPT)\n",
        "\n",
        "# Function to grade exercise correctness\n",
        "def grade_exercise(text):\n",
        "    return bool(re.search(\"brown\", text.lower()))\n",
        "\n",
        "# Print Claude's response\n",
        "print(\"--------------------------- 変数の置換を含む完全なプロンプト ---------------------------\")\n",
        "print(PROMPT)\n",
        "print(\"\\n------------------------------------- Claudeの応答 -------------------------------------\")\n",
        "print(response)\n",
        "print(\"\\n------------------------------------------ 採点 ------------------------------------------\")\n",
        "print(\"この演習は正しく解決されました:\", grade_exercise(response))"
      ]
    },
    {
      "cell_type": "markdown",
      "metadata": {},
      "source": [
        "ヒントが必要な場合は、以下のセルを実行してください！"
      ]
    },
    {
      "cell_type": "code",
      "execution_count": null,
      "metadata": {},
      "outputs": [],
      "source": [
        "print(hints.exercise_4_2_hint)"
      ]
    },
    {
      "cell_type": "markdown",
      "metadata": {},
      "source": [
        "### 演習 4.3 - 犬の質問 パート 2\n",
        "`PROMPT`を修正しますが、XMLタグを追加することは**ありません**。代わりに、プロンプトから1語または2語を削除してください。\n",
        "\n",
        "上記の演習と同様に、プロンプトの他の部分を変更しないようにしてください。これにより、Claudeがどのような言語を解析し理解できるかがわかります。"
      ]
    },
    {
      "cell_type": "code",
      "execution_count": null,
      "metadata": {},
      "outputs": [],
      "source": [
        "# Variable content\n",
        "QUESTION = \"ar cn brown?\"\n",
        "\n",
        "# Prompt template with a placeholder for the variable content\n",
        "PROMPT = f\"Hia its me i have a q about dogs jkaerjv {QUESTION} jklmvca tx it help me muhch much atx fst fst answer short short tx\"\n",
        "\n",
        "# Get Claude's response\n",
        "response = get_completion(PROMPT)\n",
        "\n",
        "# Function to grade exercise correctness\n",
        "def grade_exercise(text):\n",
        "    return bool(re.search(\"brown\", text.lower()))\n",
        "\n",
        "# Print Claude's response\n",
        "print(\"--------------------------- フルプロンプトと変数の置換 ---------------------------\")\n",
        "print(PROMPT)\n",
        "print(\"\\n------------------------------------- Claudeの応答 -------------------------------------\")\n",
        "print(response)\n",
        "print(\"\\n------------------------------------------ 採点 ------------------------------------------\")\n",
        "print(\"この演習は正しく解決されました:\", grade_exercise(response))"
      ]
    },
    {
      "cell_type": "markdown",
      "metadata": {},
      "source": [
        "ヒントが必要な場合は、以下のセルを実行してください！"
      ]
    },
    {
      "cell_type": "code",
      "execution_count": null,
      "metadata": {},
      "outputs": [],
      "source": [
        "print(hints.exercise_4_3_hint)"
      ]
    },
    {
      "cell_type": "markdown",
      "metadata": {},
      "source": [
        "### おめでとうございます！\n",
        "\n",
        "ここまでのすべての演習を解決した場合、次の章に進む準備が整いました。楽しいプロンプト作成を！"
      ]
    },
    {
      "cell_type": "markdown",
      "metadata": {},
      "source": [
        "---\n",
        "\n",
        "## 例のプレイグラウンド\n",
        "\n",
        "これは、このレッスンで示されたプロンプトの例を自由に実験し、プロンプトを調整してClaudeの応答にどのように影響するかを見るためのエリアです。"
      ]
    },
    {
      "cell_type": "code",
      "execution_count": null,
      "metadata": {},
      "outputs": [],
      "source": [
        "# 変数の内容\n",
        "ANIMAL = \"Cow\"\n",
        "\n",
        "# 変数の内容のためのプレースホルダーを持つプロンプトテンプレート\n",
        "PROMPT = f\"I will tell you the name of an animal. Please respond with the noise that animal makes. {ANIMAL}\"\n",
        "\n",
        "# Claudeの応答を出力\n",
        "print(\"--------------------------- 変数置換を含む完全なプロンプト ---------------------------\")\n",
        "print(PROMPT)\n",
        "print(\"\\n------------------------------------- Claudeの応答 -------------------------------------\")\n",
        "print(get_completion(PROMPT))"
      ]
    },
    {
      "cell_type": "code",
      "execution_count": null,
      "metadata": {},
      "outputs": [],
      "source": [
        "# 変数の内容\n",
        "EMAIL = \"Show up at 6am tomorrow because I'm the CEO and I say so.\"\n",
        "\n",
        "# 変数の内容のためのプレースホルダーを持つプロンプトテンプレート\n",
        "PROMPT = f\"Yo Claude. {EMAIL} <----- このメールをもっと丁寧にしてくださいが、それ以外は何も変更しないでください。\"\n",
        "\n",
        "# Claudeの応答を出力\n",
        "print(\"--------------------------- 変数置換を含む完全なプロンプト ---------------------------\")\n",
        "print(PROMPT)\n",
        "print(\"\\n------------------------------------- Claudeの応答 -------------------------------------\")\n",
        "print(get_completion(PROMPT))"
      ]
    },
    {
      "cell_type": "code",
      "execution_count": null,
      "metadata": {},
      "outputs": [],
      "source": [
        "# 変数の内容\n",
        "EMAIL = \"Show up at 6am tomorrow because I'm the CEO and I say so.\"\n",
        "\n",
        "# 変数の内容のためのプレースホルダーを持つプロンプトテンプレート\n",
        "PROMPT = f\"Yo Claude. <email>{EMAIL}</email> <----- このメールをより丁寧にしてくださいが、他の部分は変更しないでください。\"\n",
        "\n",
        "# Claudeの応答を出力\n",
        "print(\"--------------------------- 変数置換を含む完全なプロンプト ---------------------------\")\n",
        "print(PROMPT)\n",
        "print(\"\\n------------------------------------- Claudeの応答 -------------------------------------\")\n",
        "print(get_completion(PROMPT))"
      ]
    },
    {
      "cell_type": "code",
      "execution_count": null,
      "metadata": {},
      "outputs": [],
      "source": [
        "# Variable content\n",
        "SENTENCES = \"\"\"- I like how cows sound\n",
        "- This sentence is about spiders\n",
        "- This sentence may appear to be about dogs but it's actually about pigs\"\"\"\n",
        "\n",
        "# Prompt template with a placeholder for the variable content\n",
        "PROMPT = f\"\"\"Below is a list of sentences. Tell me the second item on the list.\n",
        "\n",
        "- Each is about an animal, like rabbits.\n",
        "{SENTENCES}\"\"\"\n",
        "\n",
        "# Print Claude's response\n",
        "print(\"--------------------------- 変数の置換を含む完全なプロンプト ---------------------------\")\n",
        "print(PROMPT)\n",
        "print(\"\\n------------------------------------- Claudeの応答 -------------------------------------\")\n",
        "print(get_completion(PROMPT))"
      ]
    },
    {
      "cell_type": "code",
      "execution_count": null,
      "metadata": {
        "tags": []
      },
      "outputs": [],
      "source": [
        "# 変数の内容\n",
        "SENTENCES = \"\"\"- I like how cows sound\n",
        "- This sentence is about spiders\n",
        "- This sentence may appear to be about dogs but it's actually about pigs\"\"\"\n",
        "\n",
        "# 変数の内容のためのプレースホルダーを持つプロンプトテンプレート\n",
        "PROMPT = f\"\"\" 以下は文のリストです。リストの2番目の項目を教えてください。\n",
        "\n",
        "- 各文は動物についてで、ウサギのようです。\n",
        "<sentences>\n",
        "{SENTENCES}\n",
        "</sentences>\"\"\"\n",
        "\n",
        "# Claudeの応答を出力\n",
        "print(\"--------------------------- 変数の置換を含む完全なプロンプト ---------------------------\")\n",
        "print(PROMPT)\n",
        "print(\"\\n------------------------------------- Claudeの応答 -------------------------------------\")\n",
        "print(get_completion(PROMPT))"
      ]
    }
  ],
  "metadata": {
    "kernelspec": {
      "display_name": "",
      "name": ""
    },
    "language_info": {
      "codemirror_mode": {
        "name": "ipython",
        "version": 3
      },
      "file_extension": ".py",
      "mimetype": "text/x-python",
      "name": "python",
      "nbconvert_exporter": "python",
      "pygments_lexer": "ipython3",
      "version": "3.10.14"
    }
  },
  "nbformat": 4,
  "nbformat_minor": 4
}