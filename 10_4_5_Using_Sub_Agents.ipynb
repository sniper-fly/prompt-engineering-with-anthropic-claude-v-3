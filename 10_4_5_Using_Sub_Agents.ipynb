{
  "cells": [
    {
      "cell_type": "markdown",
      "metadata": {},
      "source": [
        "# 付録 10.4.5: Haikuをサブエージェントとして使用する\n",
        "\n",
        "このレシピでは、Claude 3 Haikuサブエージェントモデルを使用して、Appleの2023年の財務収益報告書を分析し、収益発表PDFから関連情報を抽出する方法を示します。その後、Claude 3 Sonnetを使用して質問に対する応答を生成し、その応答に伴うグラフをmatplotlibを使用して作成します。"
      ]
    },
    {
      "cell_type": "markdown",
      "metadata": {},
      "source": [
        "## ステップ 1: 環境を設定する\n",
        "まず、必要なライブラリをインストールし、`Anthropic API`クライアントを設定しましょう。"
      ]
    },
    {
      "cell_type": "code",
      "execution_count": null,
      "metadata": {
        "tags": []
      },
      "outputs": [],
      "source": [
        "pip install -qUr requirements.txt"
      ]
    },
    {
      "cell_type": "code",
      "execution_count": null,
      "metadata": {
        "tags": []
      },
      "outputs": [],
      "source": [
        "# 必要なライブラリをインポート\n",
        "import boto3\n",
        "import fitz\n",
        "from PIL import Image\n",
        "import io\n",
        "from concurrent.futures import ThreadPoolExecutor\n",
        "import requests\n",
        "import os\n",
        "\n",
        "session = boto3.Session()\n",
        "region = session.region_name\n",
        "\n",
        "modelId = 'anthropic.claude-3-sonnet-20240229-v1:0'\n",
        "#modelId = 'anthropic.claude-3-haiku-20240307-v1:0'\n",
        "\n",
        "print(f'Using modelId: {modelId}')\n",
        "print('Using region: ', region)\n",
        "\n",
        "bedrock_client = boto3.client(service_name = 'bedrock-runtime', region_name = region,)"
      ]
    },
    {
      "cell_type": "markdown",
      "metadata": {},
      "source": [
        "## ステップ2: ドキュメントを集めて質問する\n",
        "この例では、2023年度のAppleのすべての財務諸表を使用し、年間の純売上について質問します。"
      ]
    },
    {
      "cell_type": "code",
      "execution_count": null,
      "metadata": {
        "tags": []
      },
      "outputs": [],
      "source": [
        "# Appleの収益発表PDFのURLリスト\n",
        "pdf_urls = [\n",
        "    \"https://www.apple.com/newsroom/pdfs/fy2023-q4/FY23_Q4_Consolidated_Financial_Statements.pdf\",\n",
        "    \"https://www.apple.com/newsroom/pdfs/fy2023-q3/FY23_Q3_Consolidated_Financial_Statements.pdf\",\n",
        "    \"https://www.apple.com/newsroom/pdfs/FY23_Q2_Consolidated_Financial_Statements.pdf\",\n",
        "    \"https://www.apple.com/newsroom/pdfs/FY23_Q1_Consolidated_Financial_Statements.pdf\"\n",
        "]\n",
        "\n",
        "# ユーザーの質問\n",
        "QUESTION = \"How did Apple's net sales change quarter to quarter in the 2023 financial year and what were the key contributors to the changes?\""
      ]
    },
    {
      "cell_type": "markdown",
      "metadata": {},
      "source": [
        "## ステップ3: PDFをダウンロードして画像に変換する  \n",
        "次に、収益発表のPDFをダウンロードし、それをbase64エンコードされたPNG画像に変換する関数を定義します。これを行う必要があるのは、これらのPDFが従来のPDFパーサーでは解析が難しいテーブルでいっぱいだからです。画像に変換して、それをHaikuに渡す方が簡単です。\n",
        "\n",
        "```download_pdf```関数は、指定されたURLからPDFファイルをダウンロードし、指定されたフォルダーに保存します。```pdf_to_pngs```関数は、PDFをPNG画像のリストに変換します。"
      ]
    },
    {
      "cell_type": "code",
      "execution_count": null,
      "metadata": {
        "tags": []
      },
      "outputs": [],
      "source": [
        "# URLからPDFファイルをダウンロードし、指定されたフォルダーに保存する関数\n",
        "def download_pdf(url, folder):\n",
        "    response = requests.get(url)\n",
        "    if response.status_code == 200:\n",
        "        file_name = os.path.join(folder, url.split(\"/\")[-1])\n",
        "        with open(file_name, \"wb\") as file:\n",
        "            file.write(response.content)\n",
        "        return file_name\n",
        "    else:\n",
        "        print(f\"{url} からのPDFのダウンロードに失敗しました\")\n",
        "        return None\n",
        "    \n",
        "# PDFをbase64エンコードされたPNG画像のリストに変換する関数を定義\n",
        "def pdf_to_png(pdf_path, quality=75, max_size=(1024, 1024)):\n",
        "    # PDFファイルを開く\n",
        "    doc = fitz.open(pdf_path)\n",
        "    pdf_to_png_images = []\n",
        "\n",
        "    # PDFの各ページを反復処理\n",
        "    for page_num in range(doc.page_count):\n",
        "        # ページを読み込む\n",
        "        page = doc.load_page(page_num)\n",
        "\n",
        "        # ページをPNG画像としてレンダリング\n",
        "        pix = page.get_pixmap(matrix=fitz.Matrix(300/72, 300/72))\n",
        "\n",
        "        # pixmapをPIL Imageに変換\n",
        "        image = Image.frombytes(\"RGB\", [pix.width, pix.height], pix.samples)\n",
        "\n",
        "        # 最大サイズを超える場合は画像をリサイズ\n",
        "        if image.size[0] > max_size[0] or image.size[1] > max_size[1]:\n",
        "            image.thumbnail(max_size, Image.Resampling.LANCZOS)\n",
        "\n",
        "        # PIL画像をバイトに変換\n",
        "        image_data = io.BytesIO()\n",
        "        image.save(image_data, format='PNG', optimize=True, quality=quality)\n",
        "        image_data.seek(0)\n",
        "        pdf_to_png_image = image_data.getvalue()\n",
        "\n",
        "        # PNG画像のバイトをリストに追加\n",
        "        pdf_to_png_images.append(pdf_to_png_image)\n",
        "\n",
        "    # PDFドキュメントを閉じる\n",
        "    doc.close()\n",
        "\n",
        "    return pdf_to_png_images\n",
        "\n",
        "# ダウンロードしたPDFを保存するフォルダー\n",
        "folder = \"./images/using_sub_agents\"\n",
        "\n",
        "# PDFを同時にダウンロード\n",
        "with ThreadPoolExecutor() as executor:\n",
        "    pdf_paths = list(executor.map(download_pdf, pdf_urls, [folder] * len(pdf_urls)))\n",
        "\n",
        "# pdf_pathsからNoneの値（ダウンロード失敗）を削除\n",
        "pdf_paths = [path for path in pdf_paths if path is not None]"
      ]
    },
    {
      "cell_type": "markdown",
      "metadata": {},
      "source": [
        "`ThreadPoolExecutor`を使用してPDFを同時にダウンロードし、ファイルパスを`pdf_paths`に保存します。"
      ]
    },
    {
      "cell_type": "markdown",
      "metadata": {},
      "source": [
        "## ステップ 4: ソネットを使用してハイクのための特定のプロンプトを生成する\n",
        "オーパスをオーケストレーターとして使用し、ユーザーが提供した質問に基づいて各ハイクサブエージェントのために特定のプロンプトを書かせましょう。"
      ]
    },
    {
      "cell_type": "code",
      "execution_count": null,
      "metadata": {
        "tags": []
      },
      "outputs": [],
      "source": [
        "def generate_haiku_prompt(question):\n",
        "    prompt = f\"\"\"Based on the following question, please generate a specific prompt for an LLM sub-agent to extract relevant information from an earning's report PDF. Each sub-agent only has access to a single quarter's earnings report. Output only the prompt and nothing else.\\n\\nQuestion: {question}\"\"\"\n",
        "    messages = [\n",
        "        {\n",
        "            \"role\": 'user',\n",
        "            \"content\": [\n",
        "                {\"text\": prompt }\n",
        "            ]\n",
        "        }\n",
        "    ]\n",
        "\n",
        "    converse_api_params = {\n",
        "        \"modelId\": modelId,\n",
        "        \"messages\": messages,\n",
        "    }\n",
        "\n",
        "    response = bedrock_client.converse(**converse_api_params)\n",
        "\n",
        "    return response['output']['message']['content'][0]['text']\n",
        "\n",
        "haiku_prompt = generate_haiku_prompt(QUESTION)\n",
        "print(haiku_prompt)"
      ]
    },
    {
      "cell_type": "markdown",
      "metadata": {},
      "source": [
        "## ステップ5: PDFから情報を抽出する\n",
        "さて、質問を定義し、サブエージェントのHaikuモデルを使用してPDFから情報を抽出しましょう。各モデルからの情報を整然と定義された一連のXMLタグにフォーマットします。"
      ]
    },
    {
      "cell_type": "code",
      "execution_count": null,
      "metadata": {
        "tags": []
      },
      "outputs": [],
      "source": [
        "def extract_info(pdf_path, haiku_prompt):\n",
        "    pdf_pngs = pdf_to_png(pdf_path)\n",
        "\n",
        "    messages = [\n",
        "        {\n",
        "            \"role\": \"user\",\n",
        "            \"content\": [\n",
        "                *[{\"image\": {\"format\": 'png', \"source\": {\"bytes\": pdf_png}}} for pdf_png in pdf_pngs],\n",
        "                {\"text\": haiku_prompt}\n",
        "            ]\n",
        "        }\n",
        "    ]\n",
        "\n",
        "    converse_api_params = {\n",
        "        \"modelId\": \"anthropic.claude-3-haiku-20240307-v1:0\",\n",
        "        \"messages\": messages,\n",
        "    }\n",
        "    response = bedrock_client.converse(**converse_api_params)\n",
        "\n",
        "    return response['output']['message']['content'][0]['text'], pdf_path\n",
        "\n",
        "def process_pdf(pdf_path):\n",
        "    return extract_info(pdf_path, QUESTION)\n",
        "\n",
        "# Haikuサブエージェントモデルを使用してPDFを同時に処理する\n",
        "with ThreadPoolExecutor() as executor:\n",
        "    extracted_info_list = list(executor.map(process_pdf, pdf_paths))\n",
        "\n",
        "extracted_info = \"\"\n",
        "# 各モデル呼び出しから抽出された情報を表示する\n",
        "for info in extracted_info_list:\n",
        "    extracted_info += \"<info quarter=\\\"\" + info[1].split(\"/\")[-1].split(\"_\")[1] + \"\\\">\" + info[0] + \"</info>\\n\"\n",
        "print(extracted_info)"
      ]
    },
    {
      "cell_type": "markdown",
      "metadata": {},
      "source": [
        "PDFから情報を同時に抽出するためにサブエージェントモデルを使用し、抽出した情報を統合します。その後、強力なモデルのためにメッセージを準備し、質問と抽出した情報を含めて、応答と`matplotlib`コードを生成するように依頼します。"
      ]
    },
    {
      "cell_type": "markdown",
      "metadata": {},
      "source": [
        "## ステップ6: 情報をSonnetに渡して応答を生成する  \n",
        "各PDFからサブエージェントを使用して情報を取得したので、実際に質問に答えるためにOpusを呼び出し、応答に添付するグラフを作成するコードを書きましょう。"
      ]
    },
    {
      "cell_type": "code",
      "execution_count": null,
      "metadata": {
        "tags": []
      },
      "outputs": [],
      "source": [
        "# メッセージを強力なモデルのために準備する\n",
        "messages = [\n",
        "    {\n",
        "        \"role\": \"user\",\n",
        "        \"content\": [\n",
        "            {\"text\": f\"以下のAppleの収益発表から抽出した情報に基づいて、質問に対する回答を提供してください: {QUESTION}\\n\\nまた、回答に伴うmatplotlibライブラリを使用したPythonコードを生成してください。コードは<code>タグで囲んでください。\\n\\n抽出された情報:\\n{extracted_info}\"}\n",
        "        ]\n",
        "    }\n",
        "]\n",
        "\n",
        "# 強力なモデルを使用してmatplotlibコードを生成する\n",
        "converse_api_params = {\n",
        "    \"modelId\": \"anthropic.claude-3-sonnet-20240229-v1:0\",\n",
        "    \"messages\": messages,\n",
        "    \"inferenceConfig\": {\"maxTokens\": 4096},\n",
        "}\n",
        "response = bedrock_client.converse(**converse_api_params)\n",
        "\n",
        "generated_response = response['output']['message']['content'][0]['text']\n",
        "print(\"生成された応答:\")\n",
        "print(generated_response)"
      ]
    },
    {
      "cell_type": "markdown",
      "metadata": {},
      "source": [
        "## ステップ 7: 応答を抽出し、Matplotlib コードを実行する\n",
        "最後に、生成された応答から matplotlib コードを抽出し、収益成長トレンドを視覚化するために実行します。\n",
        "\n",
        "```extract_code_and_response``` 関数を定義して、生成された応答から matplotlib コードと非コード応答を抽出します。非コード応答を印刷し、matplotlib コードが見つかった場合はそれを実行します。\n",
        "\n",
        "モデルが書いたコードに対してサンドボックス外で ```exec``` を使用することは良いプラクティスではありませんが、このデモの目的のためにそれを行っています :)"
      ]
    },
    {
      "cell_type": "code",
      "execution_count": null,
      "metadata": {
        "tags": []
      },
      "outputs": [],
      "source": [
        "# Extract the matplotlib code from the response\n",
        "# レスポンスからコードと非コード部分を抽出する関数\n",
        "def extract_code_and_response(response):\n",
        "    start_tag = \"<code>\"\n",
        "    end_tag = \"</code>\"\n",
        "    start_index = response.find(start_tag)\n",
        "    end_index = response.find(end_tag)\n",
        "    if start_index != -1 and end_index != -1:\n",
        "        code = response[start_index + len(start_tag):end_index].strip()\n",
        "        non_code_response = response[:start_index].strip()\n",
        "        return code, non_code_response\n",
        "    else:\n",
        "        return None, response.strip()\n",
        "\n",
        "matplotlib_code, non_code_response = extract_code_and_response(generated_response)\n",
        "\n",
        "print(non_code_response)\n",
        "if matplotlib_code:\n",
        "\n",
        "    # 抽出したmatplotlibコードを実行する\n",
        "    exec(matplotlib_code)\n",
        "else:\n",
        "    print(\"レスポンスにmatplotlibコードが見つかりませんでした。\")"
      ]
    }
  ],
  "metadata": {
    "kernelspec": {
      "display_name": "conda_python3",
      "language": "python",
      "name": "conda_python3"
    },
    "language_info": {
      "codemirror_mode": {
        "name": "ipython",
        "version": 3
      },
      "file_extension": ".py",
      "mimetype": "text/x-python",
      "name": "python",
      "nbconvert_exporter": "python",
      "pygments_lexer": "ipython3",
      "version": "3.10.14"
    }
  },
  "nbformat": 4,
  "nbformat_minor": 4
}