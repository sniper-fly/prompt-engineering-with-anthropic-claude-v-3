{
  "cells": [
    {
      "cell_type": "markdown",
      "metadata": {},
      "source": [
        "# 付録 10.4.4: Claudeとのビジョン使用に関するベストプラクティス\n",
        "\n",
        "ビジョンはClaudeとの新しいインタラクションモードを可能にします。画像のパフォーマンスを最大限に引き出すためのいくつかのヒントをまとめました。それに入る前に、まずノートブックを実行するために必要なコードを設定しましょう。"
      ]
    },
    {
      "cell_type": "code",
      "execution_count": null,
      "metadata": {
        "tags": []
      },
      "outputs": [],
      "source": [
        "pip install -qUr requirements.txt"
      ]
    },
    {
      "cell_type": "code",
      "execution_count": null,
      "metadata": {
        "tags": []
      },
      "outputs": [],
      "source": [
        "import boto3\n",
        "from IPython.display import Image\n",
        "from botocore.exceptions import ClientError\n",
        "\n",
        "session = boto3.Session()\n",
        "region = session.region_name\n",
        "\n",
        "modelId = 'anthropic.claude-3-sonnet-20240229-v1:0'\n",
        "#modelId = 'anthropic.claude-3-haiku-20240307-v1:0'\n",
        "\n",
        "print(f'Using modelId: {modelId}')\n",
        "print('使用しているリージョン: ', region)\n",
        "\n",
        "bedrock_client = boto3.client(service_name = 'bedrock-runtime', region_name = region,)"
      ]
    },
    {
      "cell_type": "code",
      "execution_count": null,
      "metadata": {
        "tags": []
      },
      "outputs": [],
      "source": [
        "def get_base64_encoded_image(image_path):\n",
        "    with open(image_path, \"rb\") as f:\n",
        "        image_file = f.read()\n",
        "\n",
        "    return image_file"
      ]
    },
    {
      "cell_type": "markdown",
      "metadata": {},
      "source": [
        "## マルチモーダルへの従来の技術の適用\n",
        "\n",
        "役割割り当てのような従来のプロンプトエンジニアリング技術を使って、幻覚の問題を解決できます。これを例で見てみましょう："
      ]
    },
    {
      "cell_type": "markdown",
      "metadata": {},
      "source": [
        "この画像にいる犬の数をClaudeに数えてもらいたいとします。"
      ]
    },
    {
      "cell_type": "code",
      "execution_count": null,
      "metadata": {
        "tags": []
      },
      "outputs": [],
      "source": [
        "Image(filename='./images/best_practices/nine_dogs.jpg')"
      ]
    },
    {
      "cell_type": "code",
      "execution_count": null,
      "metadata": {
        "tags": []
      },
      "outputs": [],
      "source": [
        "messages = [\n",
        "    {\n",
        "        \"role\": 'user',\n",
        "        \"content\": [\n",
        "            {\"image\": {\n",
        "                \"format\": 'jpeg',\n",
        "                \"source\": {\"bytes\": get_base64_encoded_image(\"./images/best_practices/nine_dogs.jpg\")}\n",
        "                },\n",
        "            },\n",
        "            {\"text\": \"この写真には犬が何匹いますか？\"},\n",
        "        ]\n",
        "    }\n",
        "]\n",
        "\n",
        "converse_api_params = {\n",
        "    \"modelId\": modelId,\n",
        "    \"messages\": messages,\n",
        "}\n",
        "response = bedrock_client.converse(**converse_api_params)\n",
        "\n",
        "# レスポンスから生成されたテキストコンテンツを抽出する\n",
        "print(response['output']['message']['content'][0]['text'])"
      ]
    },
    {
      "cell_type": "markdown",
      "metadata": {},
      "source": [
        "犬は9匹しかいないのに、クロードは10匹いると思っています！少しプロンプトエンジニアリングを適用して、もう一度試してみましょう。"
      ]
    },
    {
      "cell_type": "code",
      "execution_count": null,
      "metadata": {
        "tags": []
      },
      "outputs": [],
      "source": [
        "messages = [\n",
        "    {\n",
        "        \"role\": 'user',\n",
        "        \"content\": [\n",
        "            {\"image\": {\n",
        "                \"format\": 'jpeg',\n",
        "                \"source\": {\"bytes\": get_base64_encoded_image(\"./images/best_practices/nine_dogs.jpg\")}\n",
        "                },\n",
        "            },\n",
        "            {\"text\": \"あなたは完璧な視力を持ち、細部に非常に注意を払うため、画像内の物体を数える専門家です。この写真には犬が何匹いますか？ <answer> タグで答えを提供する前に、<thinking> タグで段階的に考え、画像のすべての部分を分析してください。\"},\n",
        "        ]\n",
        "    }\n",
        "]\n",
        "\n",
        "converse_api_params = {\n",
        "    \"modelId\": modelId,\n",
        "    \"messages\": messages,\n",
        "}\n",
        "response = bedrock_client.converse(**converse_api_params)\n",
        "\n",
        "print(response['output']['message']['content'][0]['text'])"
      ]
    },
    {
      "cell_type": "markdown",
      "metadata": {},
      "source": [
        "素晴らしい！プロンプトに対していくつかのプロンプトエンジニアリングを適用した後、Claudeは正しく9匹の犬を数えることができるようになりました。"
      ]
    },
    {
      "cell_type": "markdown",
      "metadata": {},
      "source": [
        "## ビジュアルプロンプティング\n",
        "\n",
        "画像を入力として使用することで、プロンプトを画像自体の中に与えることが可能になりました。いくつかの例を見てみましょう。\n",
        "\n",
        "この画像では、テキストを書き、矢印を描いています。これをテキストプロンプトなしでClaudeに渡してみましょう。"
      ]
    },
    {
      "cell_type": "code",
      "execution_count": null,
      "metadata": {},
      "outputs": [],
      "source": [
        "Image(filename='./images/best_practices/circle.png')"
      ]
    },
    {
      "cell_type": "code",
      "execution_count": null,
      "metadata": {
        "tags": []
      },
      "outputs": [],
      "source": [
        "messages = [\n",
        "    {\n",
        "        \"role\": 'user',\n",
        "        \"content\": [\n",
        "            {\"image\": {\n",
        "                \"format\": 'png',\n",
        "                \"source\": {\"bytes\": get_base64_encoded_image(\"./images/best_practices/circle.png\")}\n",
        "                },\n",
        "            }\n",
        "        ]\n",
        "    }\n",
        "]\n",
        "\n",
        "converse_api_params = {\n",
        "    \"modelId\": modelId,\n",
        "    \"messages\": messages,\n",
        "    \"inferenceConfig\": {\"maxTokens\": 2048},\n",
        "}\n",
        "response = bedrock_client.converse(**converse_api_params)\n",
        "\n",
        "# レスポンスからテキストを出力します\n",
        "print(response['output']['message']['content'][0]['text'])"
      ]
    },
    {
      "cell_type": "markdown",
      "metadata": {},
      "source": [
        "ご覧のとおり、Claudeは私たちが質問を与えなかったため、画像を説明しようとしました。画像に質問を追加して、再度渡してみましょう。"
      ]
    },
    {
      "cell_type": "code",
      "execution_count": null,
      "metadata": {},
      "outputs": [],
      "source": [
        "Image(filename='./images/best_practices/labeled_circle.png')"
      ]
    },
    {
      "cell_type": "code",
      "execution_count": null,
      "metadata": {
        "tags": []
      },
      "outputs": [],
      "source": [
        "messages = [\n",
        "    {\n",
        "        \"role\": 'user',\n",
        "        \"content\": [\n",
        "            {\"image\": {\n",
        "                \"format\": 'png',\n",
        "                \"source\": {\"bytes\": get_base64_encoded_image(\"./images/best_practices/labeled_circle.png\")}\n",
        "                },\n",
        "            }\n",
        "        ]\n",
        "    }\n",
        "]\n",
        "\n",
        "converse_api_params = {\n",
        "    \"modelId\": modelId,\n",
        "    \"messages\": messages,\n",
        "    \"inferenceConfig\": {\"maxTokens\": 2048},\n",
        "}\n",
        "response = bedrock_client.converse(**converse_api_params)\n",
        "\n",
        "print(response['output']['message']['content'][0]['text'])"
      ]
    },
    {
      "cell_type": "markdown",
      "metadata": {},
      "source": [
        "画像の特定の部分を強調表示し、それについて質問することもできます。\n",
        "\n",
        "これらの2つの数字の違いは何ですか？"
      ]
    },
    {
      "cell_type": "code",
      "execution_count": null,
      "metadata": {},
      "outputs": [],
      "source": [
        "Image(filename='./images/best_practices/table.png')"
      ]
    },
    {
      "cell_type": "code",
      "execution_count": null,
      "metadata": {
        "tags": []
      },
      "outputs": [],
      "source": [
        "messages = [\n",
        "    {\n",
        "        \"role\": 'user',\n",
        "        \"content\": [\n",
        "            {\"image\": {\n",
        "                \"format\": 'png',\n",
        "                \"source\": {\"bytes\": get_base64_encoded_image(\"./images/best_practices/table.png\")}\n",
        "                },\n",
        "            },\n",
        "            {\"text\": \"これらの二つの数字の違いは何ですか？\"},\n",
        "        ]\n",
        "    }\n",
        "]\n",
        "\n",
        "converse_api_params = {\n",
        "    \"modelId\": modelId,\n",
        "    \"messages\": messages,\n",
        "}\n",
        "response = bedrock_client.converse(**converse_api_params)\n",
        "\n",
        "# レスポンスから生成されたテキストコンテンツを抽出する\n",
        "print(response['output']['message']['content'][0]['text'])"
      ]
    },
    {
      "cell_type": "markdown",
      "metadata": {},
      "source": [
        "## フューショット例\n",
        "\n",
        "プロンプトに例を追加することで、視覚タスクの精度も向上します。では、Claudeにスピードメーターの画像を読んでもらいましょう。"
      ]
    },
    {
      "cell_type": "code",
      "execution_count": null,
      "metadata": {
        "tags": []
      },
      "outputs": [],
      "source": [
        "Image(filename='./images/best_practices/140.png')"
      ]
    },
    {
      "cell_type": "code",
      "execution_count": null,
      "metadata": {
        "tags": []
      },
      "outputs": [],
      "source": [
        "messages = [\n",
        "    {\n",
        "        \"role\": 'user',\n",
        "        \"content\": [\n",
        "            {\"image\": {\n",
        "                \"format\": 'png',\n",
        "                \"source\": {\"bytes\": get_base64_encoded_image(\"./images/best_practices/140.png\")}\n",
        "                },\n",
        "            },\n",
        "            {\"text\": \"What speed am I going?\"},\n",
        "        ]\n",
        "    }\n",
        "]\n",
        "\n",
        "converse_api_params = {\n",
        "    \"modelId\": modelId,\n",
        "    \"messages\": messages,\n",
        "}\n",
        "response = bedrock_client.converse(**converse_api_params)\n",
        "\n",
        "# レスポンスから生成されたテキストコンテンツを抽出する\n",
        "print(response['output']['message']['content'][0]['text'])"
      ]
    },
    {
      "cell_type": "markdown",
      "metadata": {},
      "source": [
        "クラウドの回答はここではあまり正しく見えません。彼は私たちが時速140キロメートルで走っていると思っていますが、実際には時速140マイルです！もう一度試してみましょう。ただし、今回はプロンプトにいくつかの例を追加しましょう。"
      ]
    },
    {
      "cell_type": "code",
      "execution_count": null,
      "metadata": {
        "tags": []
      },
      "outputs": [],
      "source": [
        "messages = [\n",
        "    {\n",
        "        \"role\": 'user',\n",
        "        \"content\": [\n",
        "            {\"image\": {\n",
        "                \"format\": 'png',\n",
        "                \"source\": {\"bytes\": get_base64_encoded_image(\"./images/best_practices/70.png\")}\n",
        "                },\n",
        "            },\n",
        "            {\"text\": \"What speed am I going?\"},\n",
        "        ]\n",
        "    },\n",
        "    {\n",
        "        \"role\": 'assistant',\n",
        "        \"content\": [\n",
        "            {\"text\": \"You are going 70 miles per hour.\"}\n",
        "        ]\n",
        "    },\n",
        "    {\n",
        "        \"role\": 'user',\n",
        "        \"content\": [\n",
        "            {\"image\": {\n",
        "                \"format\": 'png',\n",
        "                \"source\": {\"bytes\": get_base64_encoded_image(\"./images/best_practices/100.png\")}\n",
        "                },\n",
        "            },\n",
        "            {\"text\": \"What speed am I going?\"},\n",
        "        ]\n",
        "    },\n",
        "    {\n",
        "        \"role\": 'assistant',\n",
        "        \"content\": [\n",
        "            {\"text\": \"You are going 100 miles per hour.\"}\n",
        "        ]\n",
        "    },\n",
        "    {\n",
        "        \"role\": 'user',\n",
        "        \"content\": [\n",
        "            {\"image\": {\n",
        "                \"format\": 'png',\n",
        "                \"source\": {\"bytes\": get_base64_encoded_image(\"./images/best_practices/140.png\")}\n",
        "                },\n",
        "            },\n",
        "            {\"text\": \"What speed am I going?\"},\n",
        "        ]\n",
        "    },\n",
        "]\n",
        "\n",
        "\n",
        "converse_api_params = {\n",
        "    \"modelId\": modelId,\n",
        "    \"messages\": messages,\n",
        "}\n",
        "response = bedrock_client.converse(**converse_api_params)\n",
        "\n",
        "# レスポンスから生成されたテキストコンテンツを抽出する\n",
        "print(response['output']['message']['content'][0]['text'])"
      ]
    },
    {
      "cell_type": "markdown",
      "metadata": {},
      "source": [
        "完璧です！その例を通じて、Claudeはスピードメーターの速度を読み取る方法を学びました。ただし、画像を使ったfew-shot promptingは常に機能するわけではありませんが、あなたのユースケースで試してみる価値はあります。"
      ]
    },
    {
      "cell_type": "markdown",
      "metadata": {},
      "source": [
        "## 複数の画像を入力として使用\n",
        "Claudeは、プロンプト内で複数の画像を同時に受け入れ、推論することもできます！例えば、非常に大きな画像、例えば長い領収書の画像があるとしましょう！その画像をいくつかのチャンクに分割し、それぞれのチャンクをClaudeに入力することができます。"
      ]
    },
    {
      "cell_type": "code",
      "execution_count": null,
      "metadata": {},
      "outputs": [],
      "source": [
        "Image(filename='./images/best_practices/receipt1.png')"
      ]
    },
    {
      "cell_type": "code",
      "execution_count": null,
      "metadata": {},
      "outputs": [],
      "source": [
        "Image(filename='./images/best_practices/receipt2.png')"
      ]
    },
    {
      "cell_type": "code",
      "execution_count": null,
      "metadata": {
        "tags": []
      },
      "outputs": [],
      "source": [
        "messages = [\n",
        "    {\n",
        "        \"role\": 'user',\n",
        "        \"content\": [\n",
        "            {\"image\": {\"format\": 'png',\"source\": {\"bytes\": get_base64_encoded_image(\"./images/best_practices/receipt1.png\")}},},\n",
        "            {\"image\": {\"format\": 'png',\"source\": {\"bytes\": get_base64_encoded_image(\"./images/best_practices/receipt2.png\")}},},\n",
        "            {\"text\": \"レストランの名前と合計を出力します。\"},\n",
        "        ]\n",
        "    }\n",
        "]\n",
        "\n",
        "converse_api_params = {\n",
        "    \"modelId\": modelId,\n",
        "    \"messages\": messages,\n",
        "}\n",
        "response = bedrock_client.converse(**converse_api_params)\n",
        "\n",
        "# レスポンスから生成されたテキストコンテンツを抽出します\n",
        "print(response['output']['message']['content'][0]['text'])"
      ]
    },
    {
      "cell_type": "markdown",
      "metadata": {},
      "source": [
        "## 例からの物体識別\n",
        "\n",
        "画像入力を使用すると、プロンプトに他の画像を渡すことができ、Claudeはその情報を使用して質問に答えます。これを例で見てみましょう。\n",
        "\n",
        "例えば、画像内のパンツの種類を特定しようとしているとします。プロンプトに異なる種類のパンツのいくつかの例をClaudeに提供することができます。"
      ]
    },
    {
      "cell_type": "code",
      "execution_count": null,
      "metadata": {},
      "outputs": [],
      "source": [
        "Image(filename='./images/best_practices/officer_example.png')"
      ]
    },
    {
      "cell_type": "code",
      "execution_count": null,
      "metadata": {
        "tags": []
      },
      "outputs": [],
      "source": [
        "messages = [\n",
        "    {\n",
        "        \"role\": 'user',\n",
        "        \"content\": [\n",
        "            {\"image\": {\"format\": 'png',\"source\": {\"bytes\": get_base64_encoded_image(\"./images/best_practices/wrinkle.png\")}},},\n",
        "            {\"image\": {\"format\": 'png',\"source\": {\"bytes\": get_base64_encoded_image(\"./images/best_practices/officer.png\")}},},\n",
        "            {\"image\": {\"format\": 'png',\"source\": {\"bytes\": get_base64_encoded_image(\"./images/best_practices/chinos.png\")}},},\n",
        "            {\"image\": {\"format\": 'png',\"source\": {\"bytes\": get_base64_encoded_image(\"./images/best_practices/officer_example.png\")}},},\n",
        "            {\"text\": \"これらのパンツは（順番に）しわになりにくいドレスパンツ、イタリアンメルトンオフィサーパンツ、スリムラピッドムーブメントチノです。最後の画像に表示されているパンツは何ですか？\"},\n",
        "        ]\n",
        "    }\n",
        "]\n",
        "\n",
        "converse_api_params = {\n",
        "    \"modelId\": modelId,\n",
        "    \"messages\": messages,\n",
        "}\n",
        "response = bedrock_client.converse(**converse_api_params)\n",
        "\n",
        "# レスポンスから生成されたテキストコンテンツを抽出します\n",
        "print(response['output']['message']['content'][0]['text'])"
      ]
    }
  ],
  "metadata": {
    "kernelspec": {
      "display_name": "conda_python3",
      "language": "python",
      "name": "conda_python3"
    },
    "language_info": {
      "codemirror_mode": {
        "name": "ipython",
        "version": 3
      },
      "file_extension": ".py",
      "mimetype": "text/x-python",
      "name": "python",
      "nbconvert_exporter": "python",
      "pygments_lexer": "ipython3",
      "version": "3.10.14"
    }
  },
  "nbformat": 4,
  "nbformat_minor": 4
}